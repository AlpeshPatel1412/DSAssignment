{
 "cells": [
  {
   "cell_type": "markdown",
   "id": "4203902f-3488-4241-8244-897ddac0297a",
   "metadata": {},
   "source": [
    "Q1. What is an exception in Python? Write the difference between Exceptions and syntax errors\n",
    "\n",
    "A1: An exception is an unexpected error/event that occurs during execution of syntactically correct Python code, which disrupts the normal   \n",
    "    flow of execution.\n",
    "    \n",
    "    Exceptions occur during runtime / program execution. Exceptions usually occur when we try to perform some sort of operation. For eg.     opening a file in read mode which does not exists, trying to devide a number by 0 or trying to execute database query when connection to     database is closed etc\n",
    "    \n",
    "    Syntax errors occur during parsing of the program. Syntax errors are usually raised when we write incorrect statement. eg, when bracket     or paranthesis not closed and/or not matching.\n",
    "\n",
    "    "
   ]
  },
  {
   "cell_type": "markdown",
   "id": "b825bd89-9b17-45e6-b5b5-e006f3d89ea6",
   "metadata": {},
   "source": [
    "Q2. What happens when excption is not handled? Explain with example\n",
    "\n",
    "A2: If exception is not handled properly, it prints a traceback to that error along with some details about why that error occurred. And         Python program terminates as soon as it encounter the exception.\n",
    "\n",
    "    In below example, as soon as excepion occurs, the exception details is displayed on the console and the program terminates.\n"
   ]
  },
  {
   "cell_type": "code",
   "execution_count": 2,
   "id": "aae04f7c-80f4-4ea5-9fba-1d4252dd5077",
   "metadata": {},
   "outputs": [
    {
     "ename": "FileNotFoundError",
     "evalue": "[Errno 2] No such file or directory: 'doesnotexist.txt'",
     "output_type": "error",
     "traceback": [
      "\u001b[0;31m---------------------------------------------------------------------------\u001b[0m",
      "\u001b[0;31mFileNotFoundError\u001b[0m                         Traceback (most recent call last)",
      "Cell \u001b[0;32mIn[2], line 1\u001b[0m\n\u001b[0;32m----> 1\u001b[0m \u001b[38;5;28;01mwith\u001b[39;00m \u001b[38;5;28;43mopen\u001b[39;49m\u001b[43m(\u001b[49m\u001b[38;5;124;43m'\u001b[39;49m\u001b[38;5;124;43mdoesnotexist.txt\u001b[39;49m\u001b[38;5;124;43m'\u001b[39;49m\u001b[43m,\u001b[49m\u001b[38;5;124;43m'\u001b[39;49m\u001b[38;5;124;43mr\u001b[39;49m\u001b[38;5;124;43m'\u001b[39;49m\u001b[43m)\u001b[49m \u001b[38;5;28;01mas\u001b[39;00m reader:\n\u001b[1;32m      2\u001b[0m     r \u001b[38;5;241m=\u001b[39m reader\u001b[38;5;241m.\u001b[39mreadline()\n\u001b[1;32m      3\u001b[0m     \u001b[38;5;28mprint\u001b[39m(r)\n",
      "File \u001b[0;32m/opt/conda/lib/python3.10/site-packages/IPython/core/interactiveshell.py:282\u001b[0m, in \u001b[0;36m_modified_open\u001b[0;34m(file, *args, **kwargs)\u001b[0m\n\u001b[1;32m    275\u001b[0m \u001b[38;5;28;01mif\u001b[39;00m file \u001b[38;5;129;01min\u001b[39;00m {\u001b[38;5;241m0\u001b[39m, \u001b[38;5;241m1\u001b[39m, \u001b[38;5;241m2\u001b[39m}:\n\u001b[1;32m    276\u001b[0m     \u001b[38;5;28;01mraise\u001b[39;00m \u001b[38;5;167;01mValueError\u001b[39;00m(\n\u001b[1;32m    277\u001b[0m         \u001b[38;5;124mf\u001b[39m\u001b[38;5;124m\"\u001b[39m\u001b[38;5;124mIPython won\u001b[39m\u001b[38;5;124m'\u001b[39m\u001b[38;5;124mt let you open fd=\u001b[39m\u001b[38;5;132;01m{\u001b[39;00mfile\u001b[38;5;132;01m}\u001b[39;00m\u001b[38;5;124m by default \u001b[39m\u001b[38;5;124m\"\u001b[39m\n\u001b[1;32m    278\u001b[0m         \u001b[38;5;124m\"\u001b[39m\u001b[38;5;124mas it is likely to crash IPython. If you know what you are doing, \u001b[39m\u001b[38;5;124m\"\u001b[39m\n\u001b[1;32m    279\u001b[0m         \u001b[38;5;124m\"\u001b[39m\u001b[38;5;124myou can use builtins\u001b[39m\u001b[38;5;124m'\u001b[39m\u001b[38;5;124m open.\u001b[39m\u001b[38;5;124m\"\u001b[39m\n\u001b[1;32m    280\u001b[0m     )\n\u001b[0;32m--> 282\u001b[0m \u001b[38;5;28;01mreturn\u001b[39;00m \u001b[43mio_open\u001b[49m\u001b[43m(\u001b[49m\u001b[43mfile\u001b[49m\u001b[43m,\u001b[49m\u001b[43m \u001b[49m\u001b[38;5;241;43m*\u001b[39;49m\u001b[43margs\u001b[49m\u001b[43m,\u001b[49m\u001b[43m \u001b[49m\u001b[38;5;241;43m*\u001b[39;49m\u001b[38;5;241;43m*\u001b[39;49m\u001b[43mkwargs\u001b[49m\u001b[43m)\u001b[49m\n",
      "\u001b[0;31mFileNotFoundError\u001b[0m: [Errno 2] No such file or directory: 'doesnotexist.txt'"
     ]
    }
   ],
   "source": [
    "with open('doesnotexist.txt','r') as reader:\n",
    "    r = reader.readline()\n",
    "    print(r)"
   ]
  },
  {
   "cell_type": "markdown",
   "id": "86ed6b21-4300-477a-9923-0474a4895d37",
   "metadata": {},
   "source": [
    "Q3. Which Python statements are used to catch and handle exception? Explain with example\n",
    "\n",
    "A3: try and except statement are used to catch and handle exeption.\n",
    "\n",
    "     Python executes code following the try statement as a normal part of the program. The code that follows the except statement is the\n",
    "     program’s response to any exceptions in the preceding try clause.\n",
    "     \n",
    "     In below example, exception occured while opening the file and it was handled in except block"
   ]
  },
  {
   "cell_type": "code",
   "execution_count": 5,
   "id": "f77ed076-5a50-4664-9df1-3a076ccac9af",
   "metadata": {},
   "outputs": [
    {
     "name": "stdout",
     "output_type": "stream",
     "text": [
      "Some error occures while opening a file -  [Errno 2] No such file or directory: 'doesnotexist.txt'\n"
     ]
    }
   ],
   "source": [
    "try:\n",
    "    with open('doesnotexist.txt','r') as reader:\n",
    "        reader.read()\n",
    "except Exception as e:\n",
    "    print('Some error occures while opening a file - ' , e)\n",
    "    "
   ]
  },
  {
   "cell_type": "markdown",
   "id": "5191ddbd-5e2a-43fe-87ce-f0d5409a2563",
   "metadata": {},
   "source": [
    "Q4. Explin with an example\n",
    " \n",
    "    try and else\n",
    "    finally\n",
    "    raise"
   ]
  },
  {
   "cell_type": "markdown",
   "id": "63d4c357-53dc-4511-8ed7-379d6e6b5e72",
   "metadata": {},
   "source": [
    "A4: try block is used for normal program code which is prone to error\n",
    "\n",
    "    else statement is used to execute certain block on code only when there is no exeption in the preceeding try block\n",
    "    \n",
    "    finally statement is used to perform some cleanup, this block is always executed  "
   ]
  },
  {
   "cell_type": "code",
   "execution_count": 15,
   "id": "0e41bcf2-0f8a-449a-8426-387b798caf90",
   "metadata": {},
   "outputs": [
    {
     "name": "stdout",
     "output_type": "stream",
     "text": [
      "Data Science Masters course is highly curated and uniquely designed according to the latest industry standards.\n",
      "This program instills students the skills essential to knowledge discovery efforts to identify standard, novel, and truly differentiated solutions and decision-making, including skills in managing, querying, analyzing, visualizing, and extracting meaning from extremely large data sets.\n",
      "This trending program provides students with the statistical, mathematical and computational skills needed to meet the large-scale data science challenges of today's professional world.\n",
      "You will learn all the stack required to work in data science industry including cloud infrastructure and real-time industry projects.\n",
      "This course will be taught in Hindi language.\n",
      "\n",
      "\n",
      "Closing the file in else block\n",
      "\n",
      "\n",
      "cleaning up in finally block\n"
     ]
    }
   ],
   "source": [
    "try:\n",
    "    r = open('DSM.txt','r')\n",
    "    data = r.read()\n",
    "    print(data)\n",
    "except Exception as e:\n",
    "    print(e)\n",
    "else:\n",
    "    print('\\n\\nClosing the file in else block')\n",
    "    r.close()\n",
    "finally:\n",
    "    print('\\n\\ncleaning up in finally block')"
   ]
  },
  {
   "cell_type": "markdown",
   "id": "84f4a961-9f30-430b-a431-e943824eeb7a",
   "metadata": {},
   "source": [
    "Q5. What are Custom Exceptions in python? Why do we need Custom Exceptions? Explain with an example.\n",
    "\n",
    "A5: Custom exceptions are exceptions created by user to indicate the situation that Python does not usually cover. For eg. validation of age for \n",
    "    voting.\n",
    "    Custome exceptions are tailored to your specific use cases and that you can raise and catch in specific circumstances. This will help to make your \n",
    "    code more readable and robust, and reduce the amount of code you write later to try and figure out what exactly went wrong."
   ]
  },
  {
   "cell_type": "markdown",
   "id": "f1d4c236-dfc4-4d29-aaff-a6f4d7f11d02",
   "metadata": {},
   "source": [
    "Q6. Create custom exception class. Use this class to handle an exception."
   ]
  },
  {
   "cell_type": "code",
   "execution_count": 9,
   "id": "4511b380-2769-437c-a7f8-7b0b22a6271a",
   "metadata": {},
   "outputs": [],
   "source": [
    "class validate_amount(Exception):\n",
    "    def __init__(self, msgstr):\n",
    "        self.msgstr = msgstr"
   ]
  },
  {
   "cell_type": "code",
   "execution_count": 10,
   "id": "1726765d-2cae-46d9-a590-307552b5a949",
   "metadata": {},
   "outputs": [],
   "source": [
    "def validate_withdrawl_amount(amt):\n",
    "    if amt <= 0 or amt > 10000:\n",
    "        raise validate_amount(\"Withdrawal amount should not exceed 10000\")\n",
    "    else:\n",
    "        print(\"Withdral Amount is: \", amt)"
   ]
  },
  {
   "cell_type": "code",
   "execution_count": 11,
   "id": "0be3460a-a395-403c-be52-bdaba58fd322",
   "metadata": {},
   "outputs": [
    {
     "name": "stdin",
     "output_type": "stream",
     "text": [
      "Enter Withdraal Amount:  100000\n"
     ]
    },
    {
     "name": "stdout",
     "output_type": "stream",
     "text": [
      "Withdrawal amount should not exceed 10000\n"
     ]
    }
   ],
   "source": [
    "try:\n",
    "    amt = int(input(\"Enter Withdraal Amount: \"))\n",
    "    validate_withdrawl_amount(amt)\n",
    "except  validate_amount as e:\n",
    "    print(e)"
   ]
  },
  {
   "cell_type": "code",
   "execution_count": 12,
   "id": "d4029bd3-1a5b-4bf4-90c2-e2a2cd227be9",
   "metadata": {},
   "outputs": [
    {
     "name": "stdin",
     "output_type": "stream",
     "text": [
      "Enter Withdraal Amount:  9500\n"
     ]
    },
    {
     "name": "stdout",
     "output_type": "stream",
     "text": [
      "Withdral Amount is:  9500\n"
     ]
    }
   ],
   "source": [
    "try:\n",
    "    amt = int(input(\"Enter Withdraal Amount: \"))\n",
    "    validate_withdrawl_amount(amt)\n",
    "except  validate_amount as e:\n",
    "    print(e)"
   ]
  },
  {
   "cell_type": "code",
   "execution_count": null,
   "id": "0ca88916-5550-41d4-863d-fde97715e9db",
   "metadata": {},
   "outputs": [],
   "source": []
  },
  {
   "cell_type": "code",
   "execution_count": null,
   "id": "31706548-768c-4d4c-a605-28455af56c13",
   "metadata": {},
   "outputs": [],
   "source": []
  }
 ],
 "metadata": {
  "kernelspec": {
   "display_name": "Python 3 (ipykernel)",
   "language": "python",
   "name": "python3"
  },
  "language_info": {
   "codemirror_mode": {
    "name": "ipython",
    "version": 3
   },
   "file_extension": ".py",
   "mimetype": "text/x-python",
   "name": "python",
   "nbconvert_exporter": "python",
   "pygments_lexer": "ipython3",
   "version": "3.10.8"
  }
 },
 "nbformat": 4,
 "nbformat_minor": 5
}
