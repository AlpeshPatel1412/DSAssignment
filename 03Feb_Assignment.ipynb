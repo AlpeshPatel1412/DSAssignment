{
 "cells": [
  {
   "cell_type": "markdown",
   "id": "2e0ac1c9-d21b-4c34-9a47-a02d628070e0",
   "metadata": {},
   "source": [
    "Q1. Which keyword is used to create a function? Create a function to return a list of odd numbers in the\n",
    "range of 1 to 25.\n",
    "\n",
    "A1: Def keyword is used to create a function."
   ]
  },
  {
   "cell_type": "code",
   "execution_count": 3,
   "id": "79a90217-090b-43d9-894e-e6d9bad6ef81",
   "metadata": {},
   "outputs": [],
   "source": [
    "def odd_fun(n):\n",
    "    odd_list = []\n",
    "    for i in range(1,n):\n",
    "        if i%2 != 0:\n",
    "            odd_list.append(i)\n",
    "    return odd_list"
   ]
  },
  {
   "cell_type": "code",
   "execution_count": 4,
   "id": "f1fcbc6a-144f-49c9-b71b-aad2e8063698",
   "metadata": {},
   "outputs": [
    {
     "data": {
      "text/plain": [
       "[1, 3, 5, 7, 9, 11, 13, 15, 17, 19, 21, 23]"
      ]
     },
     "execution_count": 4,
     "metadata": {},
     "output_type": "execute_result"
    }
   ],
   "source": [
    "odd_fun(25)"
   ]
  },
  {
   "cell_type": "markdown",
   "id": "4d6249cb-335d-4e84-ac99-228ec222c772",
   "metadata": {},
   "source": [
    "Q2. Why *args and **kwargs is used in some functions? Create a function each for *args and **kwargs to\n",
    "demonstrate their use.\n",
    "\n",
    "A1: *args: In some cases, we don't know in advance the number of arguments that will be passed into a function. *args is used to pass varying number of arguments in a function call.\n",
    "    **kwargs: Is used to pass variable number of keyword arguments"
   ]
  },
  {
   "cell_type": "code",
   "execution_count": 5,
   "id": "857a7dc3-801a-4a32-b634-b29e38fda55e",
   "metadata": {},
   "outputs": [],
   "source": [
    "def f1(*args):\n",
    "    return args"
   ]
  },
  {
   "cell_type": "code",
   "execution_count": 6,
   "id": "5c3e682d-1601-45d5-9144-399c63607e40",
   "metadata": {},
   "outputs": [
    {
     "data": {
      "text/plain": [
       "(3, 5, 1, 'tt', [32, 4, 2, 3], (3, 2, 3), True)"
      ]
     },
     "execution_count": 6,
     "metadata": {},
     "output_type": "execute_result"
    }
   ],
   "source": [
    "f1(3,5,1,'tt',[32,4,2,3],(3,2,3), True)\n"
   ]
  },
  {
   "cell_type": "code",
   "execution_count": 7,
   "id": "dd0351f0-e31f-4ff5-82d0-dbb6714ff495",
   "metadata": {},
   "outputs": [
    {
     "data": {
      "text/plain": [
       "(5, 9)"
      ]
     },
     "execution_count": 7,
     "metadata": {},
     "output_type": "execute_result"
    }
   ],
   "source": [
    "f1(5,9)"
   ]
  },
  {
   "cell_type": "code",
   "execution_count": 8,
   "id": "046d610d-f956-45b8-9c1e-27d2f88322cd",
   "metadata": {},
   "outputs": [],
   "source": [
    "def f2(**kwargs):\n",
    "    return kwargs"
   ]
  },
  {
   "cell_type": "code",
   "execution_count": 9,
   "id": "c269252b-4650-4849-9d61-061f2e5f3d58",
   "metadata": {},
   "outputs": [
    {
     "data": {
      "text/plain": [
       "{'name': 'Tom', 'color': 'White', 'age': '4'}"
      ]
     },
     "execution_count": 9,
     "metadata": {},
     "output_type": "execute_result"
    }
   ],
   "source": [
    "f2(name='Tom',color='White',age='4')"
   ]
  },
  {
   "cell_type": "code",
   "execution_count": 10,
   "id": "e7965935-f772-4d54-acc7-699a30fc15b9",
   "metadata": {},
   "outputs": [
    {
     "data": {
      "text/plain": [
       "{'name': 'Malibu', 'age': '1'}"
      ]
     },
     "execution_count": 10,
     "metadata": {},
     "output_type": "execute_result"
    }
   ],
   "source": [
    "f2(name='Malibu',age='1')"
   ]
  },
  {
   "cell_type": "markdown",
   "id": "05f0d80b-6d95-430e-9cd6-64d818dbbcbf",
   "metadata": {},
   "source": [
    "Q3. What is an iterator in python? Name the method used to initialise the iterator object and the method\n",
    "used for iteration. Use these methods to print the first five elements of the given list [2, 4, 6, 8, 10, 12, 14, 16,\n",
    "18, 20].\n",
    "\n",
    "A3: An iterator is basically a Python object that can be iterated upon, i.e. can be traversed thru all the values. \n",
    "    iter() method is used to get/initialise the iterator object, while next() method is used to iterate thru iterator ohject."
   ]
  },
  {
   "cell_type": "code",
   "execution_count": 11,
   "id": "e14ee93f-a34b-4ba9-94f1-1e6e0d6c98bb",
   "metadata": {},
   "outputs": [
    {
     "name": "stdout",
     "output_type": "stream",
     "text": [
      "1  -  2\n",
      "2  -  4\n",
      "3  -  6\n",
      "4  -  8\n",
      "5  -  10\n"
     ]
    }
   ],
   "source": [
    "mylist = [2, 4, 6, 8, 10, 12, 14, 16,18, 20]\n",
    "itr = iter(mylist)\n",
    "\n",
    "for i in range(1,6):\n",
    "\tprint(i, ' - ', next(itr))\n"
   ]
  },
  {
   "cell_type": "markdown",
   "id": "bf1fc158-620b-4b01-bbf6-8bed70aea10f",
   "metadata": {},
   "source": [
    "Q4. What is a generator function in python? Why yield keyword is used? Give an example of a generator\n",
    "function.\n",
    "\n",
    "A4: A generator is a kind of function used to construct new iterable object. Usually normal fuction executes and returns a single result at time, while generator can return a sequence of multiple values by pausing and resuming execution each time the generator is used. Hence generator does not store all the values in memory, and it generates values on the fly.\n",
    "\n",
    "yield keyword is used to retrun a single element from generator function."
   ]
  },
  {
   "cell_type": "code",
   "execution_count": 14,
   "id": "141bb612-ce15-4c0f-9077-280ef0ad7d49",
   "metadata": {},
   "outputs": [],
   "source": [
    "def gen_squr(n):\n",
    "    for i in range(1, n+1):\n",
    "        yield i**2\n",
    "    "
   ]
  },
  {
   "cell_type": "code",
   "execution_count": 16,
   "id": "5cfd10ac-b772-49ef-ba02-a885212e8db3",
   "metadata": {},
   "outputs": [
    {
     "name": "stdout",
     "output_type": "stream",
     "text": [
      "1\n",
      "4\n",
      "9\n",
      "16\n",
      "25\n",
      "36\n",
      "49\n",
      "64\n",
      "81\n",
      "100\n"
     ]
    }
   ],
   "source": [
    "for j in gen_squr(10):\n",
    "    print(j)"
   ]
  },
  {
   "cell_type": "markdown",
   "id": "c46c319e-0cb3-404a-a46b-f4c2cf8b7547",
   "metadata": {},
   "source": [
    "Q5. Create a generator function for prime numbers less than 1000. Use the next() method to print the\n",
    "first 20 prime numbers.\n",
    "\n",
    "A5:"
   ]
  },
  {
   "cell_type": "code",
   "execution_count": 48,
   "id": "a212421f-4d75-4cde-9b24-a713b57fd637",
   "metadata": {},
   "outputs": [],
   "source": [
    "def gen_prime(n):\n",
    "    for i in range(2,n):\n",
    "        isPrime = True\n",
    "        for j in range(2,i):\n",
    "            if i%j == 0:\n",
    "                isPrime = False\n",
    "                break\n",
    "        if isPrime:\n",
    "            yield i\n",
    "   \n",
    "            "
   ]
  },
  {
   "cell_type": "code",
   "execution_count": 49,
   "id": "6bcfb238-f0bd-4089-9fee-f16853970b6e",
   "metadata": {},
   "outputs": [],
   "source": [
    "gen = gen_prime(1000)\n"
   ]
  },
  {
   "cell_type": "code",
   "execution_count": 50,
   "id": "7c4914ac-7640-43a2-be5e-a4306a2267e3",
   "metadata": {},
   "outputs": [
    {
     "name": "stdout",
     "output_type": "stream",
     "text": [
      "2\n",
      "3\n",
      "5\n",
      "7\n",
      "11\n",
      "13\n",
      "17\n",
      "19\n",
      "23\n",
      "29\n",
      "31\n",
      "37\n",
      "41\n",
      "43\n",
      "47\n",
      "53\n",
      "59\n",
      "61\n",
      "67\n",
      "71\n"
     ]
    }
   ],
   "source": [
    "k = 1\n",
    "while k <= 20:\n",
    "    print(next(gen))\n",
    "    k = k + 1"
   ]
  },
  {
   "cell_type": "code",
   "execution_count": null,
   "id": "4129cb58-f523-459a-a237-3512c24c167d",
   "metadata": {},
   "outputs": [],
   "source": []
  },
  {
   "cell_type": "code",
   "execution_count": null,
   "id": "98190273-90e6-4db7-a31f-46f385cd4bdc",
   "metadata": {},
   "outputs": [],
   "source": []
  },
  {
   "cell_type": "code",
   "execution_count": null,
   "id": "8beffda4-41d7-42d9-8c7c-736ceff5691d",
   "metadata": {},
   "outputs": [],
   "source": []
  },
  {
   "cell_type": "code",
   "execution_count": null,
   "id": "5fb6e042-c95a-4851-b277-92382ce4ec2b",
   "metadata": {},
   "outputs": [],
   "source": []
  },
  {
   "cell_type": "code",
   "execution_count": null,
   "id": "75bae452-2446-46d0-805b-4e1382b88c86",
   "metadata": {},
   "outputs": [],
   "source": []
  }
 ],
 "metadata": {
  "kernelspec": {
   "display_name": "Python 3 (ipykernel)",
   "language": "python",
   "name": "python3"
  },
  "language_info": {
   "codemirror_mode": {
    "name": "ipython",
    "version": 3
   },
   "file_extension": ".py",
   "mimetype": "text/x-python",
   "name": "python",
   "nbconvert_exporter": "python",
   "pygments_lexer": "ipython3",
   "version": "3.10.8"
  }
 },
 "nbformat": 4,
 "nbformat_minor": 5
}
