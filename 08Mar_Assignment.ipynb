{
 "cells": [
  {
   "cell_type": "markdown",
   "id": "a60d3ba2-6253-4c9e-bf48-7f26fe0289cb",
   "metadata": {},
   "source": [
    "### Q1. What is the Probability density function?"
   ]
  },
  {
   "cell_type": "markdown",
   "id": "6a124332-a1a1-4643-b73f-a9f69423682b",
   "metadata": {},
   "source": [
    "A1. A probability density function describes a probability distribution for a continuous random variable. Probability density function  is used to find the chances that the value of a variable will occur within a range of values that you specify. More specifically, a PDF is a function where its integral for an interval provides the probability of a value occurring in that interval.\n",
    "\n",
    "Unlike distributions for discrete variables where specific values can have non-zero probabilities, the likelihood for a single value is always zero in a continuous probability distribution function. Instead, the probability density function provides the chances of a value falling within a specified range for continuous variables. For a PDF in statistics, probability density refers to the likelihood of a value occurring within an interval length of one unit.\n",
    "\n",
    "In short, probability density functions can find non-zero likelihoods for continuous variable X falling within the interval [a, b]. Or, in statistical notation: P (a < X < b).\n"
   ]
  },
  {
   "cell_type": "markdown",
   "id": "39362eba-d66e-4823-b52c-9c34992e7f42",
   "metadata": {},
   "source": [
    "### Q2. What are the types of Probability distribution?"
   ]
  },
  {
   "cell_type": "markdown",
   "id": "b460f975-ef54-433a-9477-ee1b3937de0b",
   "metadata": {},
   "source": [
    "A2. There are two majot types of probability distribution: \n",
    "    \n",
    "a).Discrete Probability distribution\n",
    "\n",
    "b).Continuous Probability distribution\n",
    "\n",
    "Discrete probability distribution includes below major distribution - \n",
    "\n",
    "1). Binomial distribution\n",
    "2). Bernoulli Distribution\n",
    "3). Multinomial Distribution\n",
    "4). Poisson Distribution\n",
    "5). Geometric Distribution\n",
    "6). Hypergeometric Distribution\n",
    "\n",
    "Continuous probability distribution iLog-normal Distributionncludes below major distribution - \n",
    "\n",
    "1). Normal Distribution\n",
    "2). Log-normal Distribution\n",
    "3). Chi-square Distribution\n",
    "4). Student’s T Distribution\n",
    "5). Exponential Distribution"
   ]
  },
  {
   "cell_type": "markdown",
   "id": "cbe0720e-0036-49c6-8925-097217ea5e07",
   "metadata": {},
   "source": [
    "### Q3. Write a Python function to calculate the probability density function of a normal distribution with given mean and standard deviation at a given point."
   ]
  },
  {
   "cell_type": "code",
   "execution_count": 9,
   "id": "a14e9d38-f58b-40f1-b4e3-f4442924f6b4",
   "metadata": {},
   "outputs": [
    {
     "name": "stdout",
     "output_type": "stream",
     "text": [
      "Probability Density Function at 25 is 0.04566227134725548 \n"
     ]
    }
   ],
   "source": [
    "from scipy.stats import norm\n",
    "import numpy as np\n",
    "\n",
    "\n",
    "mean=20\n",
    "std=4\n",
    "pdf_at=25\n",
    "\n",
    "sample = np.random.normal(mean,std,100)\n",
    "\n",
    " \n",
    "probability_pdf = norm.pdf(pdf_at, loc=mean, scale=std)\n",
    "print(\"Probability Density Function at {} is {} \".format(pdf_at,probability_pdf))"
   ]
  },
  {
   "cell_type": "code",
   "execution_count": null,
   "id": "dc14a55f-6ddf-401e-aa54-6f0ddeb95b21",
   "metadata": {},
   "outputs": [],
   "source": []
  },
  {
   "cell_type": "markdown",
   "id": "286fe6c2-d8b8-41d3-b939-dd02008f490b",
   "metadata": {},
   "source": [
    "### Q4. What are the properties of Binomial distribution? Give two examples of events where binomial distribution can be applied."
   ]
  },
  {
   "cell_type": "markdown",
   "id": "8b7a1caf-2140-46d1-9e14-02ffecaa855a",
   "metadata": {},
   "source": [
    "A4.  The binomial distribution describes the behavior of a count variable X if the following conditions apply:\n",
    "\n",
    "1: The number of trials (n) is fixed. \n",
    "\n",
    "2: The trials are independent which means the outcome of previous trial does not affect the outcome of the next trial.\n",
    "\n",
    "3: Each trial represents one of two outcomes (\"success\" or \"failure\"). \n",
    "\n",
    "4: The probability of success (p) remains constant from trial to trial.\n",
    "\n",
    "\n",
    "If these conditions are met, then X has a binomial distribution with parameters n and p, abbreviated B(n,p). \n",
    "\n",
    "Properties of Binomial Distribution :\n",
    "\n",
    "1). It is a p.m.f.(probability mass function).\n",
    "\n",
    "2). The parameters of Binomial Distribution are ’n’ and ‘p’ where, n - number of trials and p - probability of success.\n",
    "\n",
    "3). Mean of Binomial Distribution = n*p\n",
    "\n",
    "4). Variance of Binomial Distribution = npq (here q=1-p), and standard deviation is square root of variance\n",
    "\n",
    "Binomial distribution can applied for finding probability of finding - \n",
    "\n",
    "1). 5 defective items in a batch of 100\n",
    "\n",
    "2). 10 ML/AI developers in a firm with 500 IT people\n",
    "\n"
   ]
  },
  {
   "cell_type": "code",
   "execution_count": null,
   "id": "606cdd3b-b84f-4dc7-a3fc-d194b90064c8",
   "metadata": {},
   "outputs": [],
   "source": []
  },
  {
   "cell_type": "markdown",
   "id": "6d001914-1ad7-4644-9696-534550eabf63",
   "metadata": {},
   "source": [
    "### Q5. Generate a random sample of size 1000 from a binomial distribution with probability of success 0.4 and plot a histogram of the results using matplotlib."
   ]
  },
  {
   "cell_type": "code",
   "execution_count": 62,
   "id": "15995732-354b-4e15-8401-7830a7033631",
   "metadata": {},
   "outputs": [
    {
     "data": {
      "image/png": "[encoded data removed]",
      "text/plain": [
       "<Figure size 640x480 with 1 Axes>"
      ]
     },
     "metadata": {},
     "output_type": "display_data"
    }
   ],
   "source": [
    "import numpy as np\n",
    "import matplotlib.pyplot as plt\n",
    "\n",
    "n = 1000\n",
    "p = 0.4 \n",
    "sample = np.random.binomial(n, p, size=n)\n",
    "\n",
    "# plot histogram\n",
    "plt.hist(sample, bins=20)\n",
    "plt.title(\"Binomial Distribution with n=1000, p=0.4\")\n",
    "plt.xlabel(\"Number of Successes\")\n",
    "plt.ylabel(\"Frequency\")\n",
    "plt.show()"
   ]
  },
  {
   "cell_type": "code",
   "execution_count": null,
   "id": "15f59d08-ef5f-4c4f-8c1e-ce3cf0154cdb",
   "metadata": {},
   "outputs": [],
   "source": []
  },
  {
   "cell_type": "markdown",
   "id": "3e5ec79c-c86e-4079-9925-fc1a28cd61cc",
   "metadata": {},
   "source": [
    "## Q6. Write a Python function to calculate the cumulative distribution function of a Poisson distribution with given mean at a given point."
   ]
  },
  {
   "cell_type": "code",
   "execution_count": 13,
   "id": "72da7b9f-2d20-4de3-b746-ebeb93b8510b",
   "metadata": {},
   "outputs": [],
   "source": [
    "from scipy.stats import poisson"
   ]
  },
  {
   "cell_type": "code",
   "execution_count": 18,
   "id": "2c087019-22b6-4e1c-b5b6-2563fa05f97f",
   "metadata": {},
   "outputs": [
    {
     "name": "stdout",
     "output_type": "stream",
     "text": [
      "Cumulative density - 0.301\n"
     ]
    }
   ],
   "source": [
    "mean=7\n",
    "cum_probability_for=5\n",
    "cdf = poisson.cdf(cum_probability_for, mean)\n",
    "cdf = np.round(cdf, 3)\n",
    "\n",
    "print(\"Cumulative density - {}\".format(cdf))"
   ]
  },
  {
   "cell_type": "code",
   "execution_count": null,
   "id": "3a956f06-b6b2-4309-9e92-df26a3e0a6f1",
   "metadata": {},
   "outputs": [],
   "source": []
  },
  {
   "cell_type": "markdown",
   "id": "29a4d63a-f332-436d-b701-2f7199f4b3ce",
   "metadata": {},
   "source": [
    "### Q7. How Binomial distribution different from Poisson distribution?"
   ]
  },
  {
   "cell_type": "markdown",
   "id": "c8ab67ec-1329-4a4a-9673-49aae3cf6d9d",
   "metadata": {},
   "source": [
    "A7. Below are key difference between Binomial and Poisson distribution:\n",
    "    \n",
    "    \n",
    "The Binomial distribution is one in which the probability of repeated number of trials is studied. A probability distribution that gives the count of a number of independent events occur randomly within a given period, is called Poisson probability distribution.\n",
    "\n",
    "Binomial Distribution is biparametric, i.e. it is featured by two parameters n and p whereas Poisson distribution is uniparametric, i.e. characterised by a single parameter m.\n",
    "\n",
    "There are a fixed number of attempts in the Binomial distribution. On the other hand, an unlimited number of trials can be possible in a Poisson distribution.\n",
    " \n",
    "The success probability is constant in Binomial distribution but in Poisson distribution, it it not.\n",
    "    \n",
    "In a Binomial distribution, there are only two possible outcomes, i.e. success or failure. Conversely, there are an unlimited number of possible outcomes in the case of Poisson distribution.\n",
    "    \n",
    "In Binomial distribution Mean > Variance while in Poisson distribution mean = variance.\n"
   ]
  },
  {
   "cell_type": "markdown",
   "id": "65b80d68-7b31-4391-9118-e930481cd84d",
   "metadata": {},
   "source": [
    "### Q8. Generate a random sample of size 1000 from a Poisson distribution with mean 5 and calculate the sample mean and variance."
   ]
  },
  {
   "cell_type": "code",
   "execution_count": 11,
   "id": "87d85c55-9b45-478c-93d5-fb8adb9491f5",
   "metadata": {},
   "outputs": [
    {
     "name": "stdout",
     "output_type": "stream",
     "text": [
      "Mean and Variance of Poisson Distribution is 5 and 5\n"
     ]
    }
   ],
   "source": [
    "import numpy as np\n",
    "from scipy.stats import norm\n",
    "\n",
    "l=5\n",
    "size=1000\n",
    "sample = np.random.poisson(l,size)\n",
    "\n",
    "sample_mean=variance=l\n",
    "\n",
    "print(\"Mean and Variance of Poisson Distribution is {} and {}\".format(sample_mean,variance))"
   ]
  },
  {
   "cell_type": "markdown",
   "id": "b4825708-2c87-4f32-8653-6fd433a201c4",
   "metadata": {},
   "source": [
    "### Q9. How mean and variance are related in Binomial distribution and Poisson distribution?"
   ]
  },
  {
   "cell_type": "markdown",
   "id": "7de59b94-e325-4783-b3ea-29d7b6c64e9f",
   "metadata": {},
   "source": [
    "A9. In Binomial distribution Mean > Variance while in Poisson distribution mean = variance\n"
   ]
  },
  {
   "cell_type": "markdown",
   "id": "bd85c0fa-8af5-4693-be07-b4919f9be34b",
   "metadata": {},
   "source": [
    "### Q10. In normal distribution with respect to mean position, where does the least frequent data appear?"
   ]
  },
  {
   "cell_type": "markdown",
   "id": "15b7ed22-9b99-4fbc-bc99-fb94758251fe",
   "metadata": {},
   "source": [
    "A10. In Normal distribution, the least frequent data appear further away from mean, near the tail of distribution/Bell curve."
   ]
  },
  {
   "cell_type": "code",
   "execution_count": null,
   "id": "ed306329-397c-454b-be58-571b48deb509",
   "metadata": {},
   "outputs": [],
   "source": []
  }
 ],
 "metadata": {
  "kernelspec": {
   "display_name": "Python 3 (ipykernel)",
   "language": "python",
   "name": "python3"
  },
  "language_info": {
   "codemirror_mode": {
    "name": "ipython",
    "version": 3
   },
   "file_extension": ".py",
   "mimetype": "text/x-python",
   "name": "python",
   "nbconvert_exporter": "python",
   "pygments_lexer": "ipython3",
   "version": "3.10.8"
  }
 },
 "nbformat": 4,
 "nbformat_minor": 5
}
