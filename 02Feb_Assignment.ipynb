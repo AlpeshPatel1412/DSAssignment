{
 "cells": [
  {
   "cell_type": "markdown",
   "id": "a1640b9f-38ba-47ac-b033-07d1f4d03350",
   "metadata": {},
   "source": [
    "Q1. What are the characteristics of the tuples? Is tuple immutable?\n",
    "\n",
    "A1: Tuples are - ordered, fixed-length, unchangable and allows duplicate\n",
    "    Yes, tuple is immutable"
   ]
  },
  {
   "cell_type": "markdown",
   "id": "fe972a3a-6950-41e1-8c3a-2876383becbd",
   "metadata": {},
   "source": [
    "Q2. What are the two tuple methods in python? Give an example of each method. Give a reason why\n",
    "tuples have only two in-built methods as compared to Lists.\n",
    "\n",
    "A2: Below are two methods for tuple.\n",
    "\n",
    "    1). count() - gives number of times a specific value found in tuple\n",
    "    2). index() - returns index/position of first occurence of a specific value\n",
    "    \n",
    "    Examples of methods:\n",
    "    \n",
    "    "
   ]
  },
  {
   "cell_type": "code",
   "execution_count": 3,
   "id": "bd27a431-1b1f-49b2-934e-3bc9cb19fc07",
   "metadata": {},
   "outputs": [
    {
     "data": {
      "text/plain": [
       "2"
      ]
     },
     "execution_count": 3,
     "metadata": {},
     "output_type": "execute_result"
    }
   ],
   "source": [
    "t = (1,3,4,5,5,2,9)\n",
    "t.count(5)\n"
   ]
  },
  {
   "cell_type": "code",
   "execution_count": 4,
   "id": "31557216-d6d2-4dcc-bc69-335d292ee4fc",
   "metadata": {},
   "outputs": [
    {
     "data": {
      "text/plain": [
       "3"
      ]
     },
     "execution_count": 4,
     "metadata": {},
     "output_type": "execute_result"
    }
   ],
   "source": [
    "t.index(5)"
   ]
  },
  {
   "cell_type": "markdown",
   "id": "817d5a25-b2e9-4ce4-aad3-7d6fef24944f",
   "metadata": {},
   "source": [
    "tuples are immutable, means that you can't change,add,remove items once the tuple is created. That's why tuple does not have \n",
    "other built-in methods like append(), extend(),pop() etc"
   ]
  },
  {
   "cell_type": "markdown",
   "id": "db16cec0-ab7c-43eb-899c-97d054083377",
   "metadata": {},
   "source": [
    "Q3. Which collection datatypes in python do not allow duplicate items? Write a code using a set to remove\n",
    "duplicates from the given list.\n",
    "\n",
    "A3: set does not allow duplicate items."
   ]
  },
  {
   "cell_type": "code",
   "execution_count": 8,
   "id": "8aa456e2-26c2-4d2d-8238-7a41c16359c2",
   "metadata": {},
   "outputs": [
    {
     "name": "stdout",
     "output_type": "stream",
     "text": [
      "[1, 2, 3, 4]\n"
     ]
    }
   ],
   "source": [
    "List = [1, 1, 1, 2, 1, 3, 1, 4, 2, 1, 2, 2, 2, 3, 2, 4, 3, 1, 3, 2, 3, 3, 3, 4, 4, 1, 4, 2, 4, 3, 4, 4]\n",
    "s = set(List)\n",
    "List = list(s)\n",
    "print (List)"
   ]
  },
  {
   "cell_type": "markdown",
   "id": "9fbdeb63-775b-4ef7-8a14-3e27ba0527c7",
   "metadata": {},
   "source": [
    "Q4. Explain the difference between the union() and update() methods for a set. Give an example of\n",
    "each method.\n",
    "\n",
    "A4: union() method returns union of two sets in a new set\n",
    "\n",
    "    update() method updates the set with union of itself with other set"
   ]
  },
  {
   "cell_type": "code",
   "execution_count": 9,
   "id": "c68a9798-0db8-48c0-a7b1-a515c0f4e2e4",
   "metadata": {},
   "outputs": [
    {
     "name": "stdout",
     "output_type": "stream",
     "text": [
      "{1, 2, 3, 4, 5, 6}\n",
      "{1, 2, 3, 4, 5, 6}\n"
     ]
    }
   ],
   "source": [
    "s1 = {2,4,6}\n",
    "s2 = {1,3,5}\n",
    "\n",
    "s3 = s1.union(s2)\n",
    "print(s3)\n",
    "\n",
    "s1.update(s2)\n",
    "print(s1)"
   ]
  },
  {
   "cell_type": "markdown",
   "id": "91138ee2-e75f-4ba5-ae0a-adce16062217",
   "metadata": {},
   "source": [
    "Q5. What is a dictionary? Give an example. Also, state whether a dictionary is ordered or unordered.\n",
    "\n",
    "A5: A dictionary is an ordered, mutable colletion of items stored as key-value pairs, where each key must be unique.\n",
    "\n",
    "    d = {1:5, 2:10, 3:15}\n",
    "    \n",
    "    As of Python version 3.7, dictionary is ordered "
   ]
  },
  {
   "cell_type": "markdown",
   "id": "f2a4527d-2112-4264-b9ba-23922db292c2",
   "metadata": {},
   "source": [
    "Q6. Can we create a nested dictionary? If so, please give an example by creating a simple one-level\n",
    "nested dictionary."
   ]
  },
  {
   "cell_type": "markdown",
   "id": "3e7fa032-9880-497f-892e-3364297a475c",
   "metadata": {},
   "source": [
    "A6: Yes, it is possible to create a nested dictionary\n",
    "\n",
    "    eg. d = { d1:{1:5,2:10}, d2:{3:10,4:15} }"
   ]
  },
  {
   "cell_type": "markdown",
   "id": "7f9d9a80-3d1b-41de-b65a-53ac31664369",
   "metadata": {},
   "source": [
    "Q7. Using setdefault() method, create key named topics in the given dictionary and also add the value of\n",
    "the key as this list ['Python', 'Machine Learning’, 'Deep Learning']\n",
    "\n",
    "A7: "
   ]
  },
  {
   "cell_type": "code",
   "execution_count": 14,
   "id": "ebab18ca-bd41-4bb1-8569-09552201fe87",
   "metadata": {},
   "outputs": [
    {
     "name": "stdout",
     "output_type": "stream",
     "text": [
      "{'language': 'Python', 'course': 'Data Science Masters', 'topics': \"['Python', 'Machine Learning’, 'Deep Learning']\"}\n"
     ]
    }
   ],
   "source": [
    "dict1 = {'language' : 'Python', 'course': 'Data Science Masters'}\n",
    "x = dict1.setdefault(\"topics\",\"['Python', 'Machine Learning’, 'Deep Learning']\")\n",
    "print(dict1)"
   ]
  },
  {
   "cell_type": "markdown",
   "id": "866cc0a6-292f-41e0-b18a-2ba8f6c3179e",
   "metadata": {},
   "source": [
    "Q8. What are the three view objects in dictionaries? Use the three in-built methods in python to display\n",
    "these three view objects for the given dictionary.\n",
    "\n",
    "A8: keys, values and items are the 3 view obejcts for dictionary."
   ]
  },
  {
   "cell_type": "code",
   "execution_count": 18,
   "id": "67e48a2a-ad1e-49d4-b66b-87e7aac2cc86",
   "metadata": {},
   "outputs": [
    {
     "data": {
      "text/plain": [
       "dict_keys(['Sport', 'Teams'])"
      ]
     },
     "execution_count": 18,
     "metadata": {},
     "output_type": "execute_result"
    }
   ],
   "source": [
    "dict1 = {'Sport': 'Cricket' , 'Teams': ['India', 'Australia', 'England', 'South Africa', 'Sri Lanka', 'New Zealand']}\n",
    "dict1.keys()       \n"
   ]
  },
  {
   "cell_type": "code",
   "execution_count": 19,
   "id": "fe3eb6f1-f139-41eb-8af8-0361c24f68ce",
   "metadata": {},
   "outputs": [
    {
     "data": {
      "text/plain": [
       "dict_values(['Cricket', ['India', 'Australia', 'England', 'South Africa', 'Sri Lanka', 'New Zealand']])"
      ]
     },
     "execution_count": 19,
     "metadata": {},
     "output_type": "execute_result"
    }
   ],
   "source": [
    "dict1.values()\n"
   ]
  },
  {
   "cell_type": "code",
   "execution_count": 20,
   "id": "d98cf235-6e40-4594-92a6-12a5c18101e7",
   "metadata": {},
   "outputs": [
    {
     "data": {
      "text/plain": [
       "dict_items([('Sport', 'Cricket'), ('Teams', ['India', 'Australia', 'England', 'South Africa', 'Sri Lanka', 'New Zealand'])])"
      ]
     },
     "execution_count": 20,
     "metadata": {},
     "output_type": "execute_result"
    }
   ],
   "source": [
    "dict1.items()"
   ]
  },
  {
   "cell_type": "code",
   "execution_count": null,
   "id": "fa31dde4-1ac8-47f5-b40a-dd4ed4c58fef",
   "metadata": {},
   "outputs": [],
   "source": []
  }
 ],
 "metadata": {
  "kernelspec": {
   "display_name": "Python 3 (ipykernel)",
   "language": "python",
   "name": "python3"
  },
  "language_info": {
   "codemirror_mode": {
    "name": "ipython",
    "version": 3
   },
   "file_extension": ".py",
   "mimetype": "text/x-python",
   "name": "python",
   "nbconvert_exporter": "python",
   "pygments_lexer": "ipython3",
   "version": "3.10.8"
  }
 },
 "nbformat": 4,
 "nbformat_minor": 5
}
