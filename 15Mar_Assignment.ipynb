{
 "cells": [
  {
   "cell_type": "markdown",
   "id": "b8286f4c-6aad-45aa-9a07-077541e17a8c",
   "metadata": {},
   "source": [
    "### Q1. Explain the following with an example\n",
    "\n",
    "1). Artificial Intelligence\n",
    "2). Machine Learning\n",
    "3). Deep Learning"
   ]
  },
  {
   "cell_type": "markdown",
   "id": "141b7c6d-75f1-4009-9522-8f513bf38bb2",
   "metadata": {},
   "source": [
    "A1. \n",
    "1). Artificial Intelligence: Artificial Intelligence (AI) is machine-displayed intelligence that simulates human behavior or thinking and can be trained to solve specific problems. AI is accomplished by studying the patterns of the human brain and by analyzing the cognitive process. \n",
    "\n",
    "AI is the theory and development of computer systems able to perform tasks that normally require human intelligence, such as visual perception, speech recognition, decision-making, and translation between languages.\n",
    "\n",
    "Essentially, artificial intelligence is the method by which a computer is able to act on data through statistical analysis, enabling it to understand, analyze, and learn from data through specifically designed algorithms. This is an automated process. Artificially intelligent machines can remember behavior patterns and adapt their responses to conform to those behaviors or encourage changes to them. \n",
    "\n",
    "Artificial intelligence or AI recreates human intelligence and behaviour using algorithms, data, and models. AI predicts, automates, and completes tasks typically done by humans with greater accuracy and precision, reduced bias, cost, and timesaving.\n",
    "\n",
    "Examples of AI: Self driving car, face detection and recognition , Ride sharing apps\n",
    "\n",
    "2). Machine Learning: \n",
    "Machine learning is a core sub-area of Artificial Intelligence (AI). ML applications learn from experience (or to be accurate, data) like humans do without direct programming. When exposed to new data, these applications learn, grow, change, and develop by themselves. In other words, machine learning involves computers finding insightful information without being told where to look. Instead, they do this by leveraging algorithms that learn from data in an iterative process.\n",
    "\n",
    "Machine Learning is a set of computer algorithms that can learn from examples through self-improvement without being explicitly coded by a programmer. Machine learning is a part of artificial intelligence which combines data with statistical tools to predict an output that can be used to make actionable insights.\n",
    "\n",
    "Machine Learning is an application of Artificial Intelligence (AI) which enables a program (software) to learn from the experiences and improve their self at a task without being explicitly programmed. Thus, we can say that Machine Learning is the study of making machines more human-like in their behaviour and decision making by giving them the ability to learn with minimum human intervention.\n",
    "\n",
    "Machine learning, or ML, is a type of AI that uses algorithms to learn from data to make sense of it or predict a pattern. Machine learning uses methods from neural networks, statistics, operations research, and physics to find hidden insights within data without being programmed where to look or what to conclude\n",
    "\n",
    "Examples of ML: Recommendation feature of Netflix/Amazon and other eCommerce platforms, Search engines, map applications\n",
    "\n",
    "3), Deep Learning: \n",
    "Deep learning can be considered as a subset of ML. It is a field that is based on learning and improving on its own by examining computer algorithms. While machine learning uses simpler concepts, deep learning works with artificial neural networks, which are designed to imitate how humans think and learn.\n",
    "\n",
    "Deep Learning is the type of machine learning (ML) that resembles human brains where it learns from data by using artificial neural networks. Just like human brains, these deep neural networks learn from real life examples.\n",
    "\n",
    "Example: language translation, speech recognition, pattern recognition, image classification, object detection, chatbot\n"
   ]
  },
  {
   "cell_type": "markdown",
   "id": "8ecb7f17-6686-4f34-b6ec-b1b6d41d1b19",
   "metadata": {},
   "source": [
    "### Q2. What is supervised learning? List some examples of supervised learning."
   ]
  },
  {
   "cell_type": "markdown",
   "id": "82508849-dfea-4683-9ba1-2d609007cbe4",
   "metadata": {},
   "source": [
    "A2. Supervised learning is a machine learning approach that’s defined by its use of labeled datasets. These datasets are designed to train or “supervise” algorithms into classifying data or predicting outcomes accurately. Using labeled inputs and outputs, the model can measure its accuracy and learn over time.\n",
    "\n",
    "Supervised learning, as the name indicates, has the presence of a supervisor as a teacher. Basically supervised learning is when we teach or train the machine using data that is well labelled. Which means some data is already tagged with the correct answer. After that, the machine is provided with a new set of examples(data) so that the supervised learning algorithm analyses the training data(set of training examples) and produces a correct outcome from labelled data.\n",
    "\n",
    "Supervised learning can be separated into two types : classification and regression:\n",
    "\n",
    "Classification problems use an algorithm to accurately assign test data into specific categories, such as separating apples from oranges. Or, in the real world, supervised learning algorithms can be used to classify spam in a separate folder from your inbox. \n",
    "\n",
    "Classification refers to taking an input value and mapping it to a discrete value. In classification problems, our output typically consists of classes or categories. This could be things like trying to predict what objects are present in an image (a cat/ a dog) or whether it is going to rain today or not.\n",
    "\n",
    "Linear classifiers, support vector machines, Naive bayes, decision trees and random forest are all common types of classification algorithms.\n",
    "\n",
    "Regression is another type of supervised learning method that uses an algorithm to understand the relationship between dependent and independent variables. Regression models are helpful for predicting numerical values based on different data points, such as sales revenue projections for a given business. \n",
    "\n",
    "Regression is related to continuous data (value functions). In Regression, the predicted output values are real numbers. It deals with problems such as predicting the price of a house or the trend in the stock price at a given time, etc. \n",
    "\n",
    "Some popular regression algorithms are linear regression, logistic regression and polynomial regression.\n",
    "\n",
    "\n",
    "Supervised Machine Learning Applications:\n",
    "\n",
    "Predictive analytics (house prices, stock exchange prices, sales of a product etc.)\n",
    "\n",
    "Text recognition\n",
    "\n",
    "Spam detection\n",
    "\n",
    "Customer sentiment analysis\n",
    "\n",
    "Object detection (e.g. face detection)"
   ]
  },
  {
   "cell_type": "markdown",
   "id": "e01fa3f3-9fdd-4a42-949d-959d83b0fe52",
   "metadata": {},
   "source": [
    "### Q3. What is unsupervised learning? List some examples of supervised learning."
   ]
  },
  {
   "cell_type": "markdown",
   "id": "acb636e4-21d9-42e4-9c65-b7f40eef41a5",
   "metadata": {},
   "source": [
    "A3. Unsupervised learning uses machine learning algorithms to analyze and cluster unlabeled data sets. These algorithms discover hidden patterns in data without the need for human intervention (hence, they are “unsupervised”).\n",
    "\n",
    "Unsupervised learning is the training of a machine using information that is neither classified nor labeled and allowing the algorithm to act on that information without guidance. Here the task of the machine is to group unsorted information according to similarities, patterns, and differences without any prior training of data. \n",
    "\n",
    "Unlike supervised learning, no teacher is provided that means no training will be given to the machine. Therefore the machine is restricted to find the hidden structure in unlabeled data by itself. \n",
    "\n",
    "To put it simply—Unsupervised Learning is a kind of self-learning where the algorithm can find previously hidden patterns in the unlabeled datasets and give the required output without any interference. \n",
    "\n",
    "Unsupervised learning is classified into 3 categories of algorithms: Clustering , Association, Dimensionality reduction\n",
    "\n",
    "Clustering is the type of Unsupervised Learning where we find hidden patterns in the data based on their similarities or differences. These patterns can relate to the shape, size, or color and are used to group data items or create clusters.\n",
    "\n",
    "There are several types of clustering algorithms, such as exclusive, overlapping, hierarchical, and probabilistic.\n",
    "\n",
    "Association is another type of unsupervised learning method that uses different rules to find relationships between variables in a given dataset. We can then use those dependencies and map them in a way that benefits us. The association rule is used to find the probability of co-occurrence of items in a collection. These methods are frequently used for market basket analysis and recommendation engines, along the lines of “Customers Who Bought This Item Also Bought” recommendations.\n",
    "\n",
    "\n",
    "Dimensionality reduction is a learning technique used when the number of features  (or dimensions) in a given dataset is too high. It reduces the number of data inputs to a manageable size while also preserving the data integrity. It is used for feature extraction.\n",
    "\n",
    "Extracting the important features from the dataset is an essential aspect of machine learning algorithms. This helps reduce the number of random variables in the dataset by filtering irrelevant features.\n",
    "\n",
    "Here are some examples of use cases for unsupervised learning:\n",
    "\n",
    "Grouping customers by their purchase behavior\n",
    "\n",
    "Finding correlations in customer data (for instance, people who buy a certain style bag may also be interested in a certain style of shoes)\n",
    "\n",
    "Segmenting data by purchase history\n",
    "\n",
    "Classifying people based on different interests\n",
    "\n",
    "Grouping inventories by manufacturing and sales metrics"
   ]
  },
  {
   "cell_type": "markdown",
   "id": "34418ce7-4534-48bd-963d-dea6abaedb79",
   "metadata": {},
   "source": [
    "### Q4. What is the difference between AI, ML, DL, and DS?"
   ]
  },
  {
   "cell_type": "markdown",
   "id": "5cdd0360-6114-4455-bcec-9d07d0638dd7",
   "metadata": {},
   "source": [
    "A4. \n",
    "\n",
    "Artificial Intelligence (AI) enables machines to think by understanding, learning from the data, and taking decisions based on patterns hidden in the data or make inferences that would otherwise be very difficult for humans to make manually. The end goal of using ML or DL is to create an AI application or machine as smart as humans.\n",
    "\n",
    "Machine Learning (ML) is a subset of AI; it provides us statistical tools/techniques like Supervised, Unsupervised, and Reinforcement learning to explore and analyze the data and predict the output.\n",
    "\n",
    "Deep Learning (DL) is further a subset of ML, and the main idea behind it is to make machines learn by mimicking the human brain. Here, we create multi neural network architecture with the help of different techniques like ANN, CNN, and RNN.\n",
    "\n",
    "Data Science (DS) is basically drawing insights from structured and unstructured data either by using ML or DL or without these techniques. We can even use different visualization tools, statistics, and probability to gain these insights.\n"
   ]
  },
  {
   "cell_type": "code",
   "execution_count": null,
   "id": "be1d7042-1b40-422c-99ba-a622014f4f64",
   "metadata": {},
   "outputs": [],
   "source": []
  },
  {
   "cell_type": "markdown",
   "id": "b4a75370-7978-4f7e-bb57-d036011af007",
   "metadata": {},
   "source": [
    "### Q5. What are the main difference between supervised, Unsupervised, and semi-supervised learning?"
   ]
  },
  {
   "cell_type": "markdown",
   "id": "82e568f0-2049-443e-b696-aedb65911df0",
   "metadata": {},
   "source": [
    "A5. \n",
    "#### In essence, what differentiates supervised learning vs unsupervised learning is the type of required input data. Supervised machine learning calls for labelled training data while unsupervised learning relies on unlabelled, raw data."
   ]
  },
  {
   "cell_type": "markdown",
   "id": "79733321-bfcd-4ae7-93e1-ed0de5668bb2",
   "metadata": {},
   "source": [
    "#### Data\n",
    "\n",
    "Supervised Learning learns from the training dataset by iteratively making predictions on the data and adjusting for the correct answer. Supervised techniques deal with labeled data where the output data patterns are known to the system.\n",
    "\n",
    "This makes Supervised Learning models more accurate than unsupervised learning models, as the expected output is known beforehand.\n",
    "\n",
    "Unsupervised Learning models work on their own to discover the inherent structure of unlabeled data. The unsupervised learning algorithm works with unlabeled data, in which the output is based solely on the collection of perceptions.\n",
    "\n",
    "When we have both the input and the outputs, we can apply supervised learning. \n",
    "\n",
    "When there is only input data and no corresponding output data available, unsupervised learning should be applied. \n",
    "\n",
    "#### Goals\n",
    "\n",
    "The purpose of supervised learning is to train the model to predict the outcome when new data is provided.  \n",
    "\n",
    "The type of output the model is expecting is already known; we just need to predict it for unseen new data.\n",
    "\n",
    "With an unsupervised learning algorithm, the goal is to uncover hidden patterns and meaningful insights from large volumes of new data. There is no particular output value we are expecting to be predicted, which makes the whole training procedure more complex.\n",
    "\n",
    "#### Accuracy and feedback\n",
    "\n",
    "The supervised learning model yields a precise output, when compared to supervised learning, the unsupervised learning model may produce less accurate results. \n",
    "\n",
    "The supervised learning model uses direct feedback to determine whether it is correctly anticipating output, there is no feedback in the unsupervised learning paradigm. \n",
    "\n",
    "#### Category\n",
    "\n",
    "Classification and regression are two types of supervised learning tasks, while unsupervised learning can be furhter divided into Clustering , Association, Dimensionality reduction  \n",
    "\n",
    "#### Algorithms\n",
    "\n",
    "Linear Regression, Logistic Regression, Support Vector Machine, Multi-class Classification, Decision Tree, Bayesian Logic etc are supervised learning algorithms\n",
    "\n",
    "Clustering, KNN, and the Apriori algorithm are among the algorithms included for unsupervised learning.\n",
    "\n",
    "\n",
    "#### Semi-supervised learning: When some data is labeled but most of it is unlabeled then a mixture of supervised and unsupervised techniques can be used. Also, it is useful when it’s difficult to extract relevant features from data — and when you have a high volume of data. Semi-supervised learning is ideal for medical images, where a small amount of training data can lead to a significant improvement in accuracy."
   ]
  },
  {
   "cell_type": "markdown",
   "id": "98a4f08a-6db1-4f00-a190-3f6502286bc6",
   "metadata": {},
   "source": [
    "#### Q6. What is train, test and validation split? Explain the importance of each of them."
   ]
  },
  {
   "cell_type": "markdown",
   "id": "9da3056a-3411-4323-9b24-04d51fd5c411",
   "metadata": {},
   "source": [
    "A6. \n",
    "\n",
    "If you want to build a reliable machine learning model, you need to split your dataset into the training, validation, and test sets.\n",
    "\n",
    "If you don't, your results will be biased, and you'll end up with a false impression of better model accuracy.\n",
    "\n",
    "For training, validation and testing purposes of our model, we should have our data broken down into three distinct dataset splits - Training set, Validation set and Test set\n",
    "\n",
    "The Training Set\n",
    "\n",
    "It is the set of data that is used to train and make the model learn the hidden features/patterns in the data.\n",
    "\n",
    "In each trial, the same training data is fed to the neural network architecture repeatedly, and the model continues to learn the features of the data.\n",
    "\n",
    "The training set should have a diversified set of inputs so that the model is trained in all scenarios and can predict any unseen data sample that may appear in the future.\n",
    "\n",
    "The Validation Set\n",
    "\n",
    "The validation set is a set of data, separate from the training set, that is used to validate our model performance during training.\n",
    "\n",
    "This validation process gives information that helps us tune the model’s hyperparameters and configurations accordingly. \n",
    "\n",
    "The model is trained on the training set, and, simultaneously, the model evaluation is performed on the validation set after every epoch.\n",
    "\n",
    "The main idea of splitting the dataset into a validation set is to prevent our model from overfitting i.e., the model becomes really good at classifying the samples in the training set but cannot generalize and make accurate classifications on the data it has not seen before. \n",
    "\n",
    "\n",
    "The Test Set\n",
    "\n",
    "The test set is a separate set of data used to test the model after completing the training.\n",
    "\n",
    "It provides an unbiased final model performance metric in terms of accuracy, precision, etc. To put it simply, it answers the question of \"How well does the model perform?\""
   ]
  },
  {
   "cell_type": "code",
   "execution_count": null,
   "id": "c10d061f-13fe-449f-baba-6c3d40b23964",
   "metadata": {},
   "outputs": [],
   "source": []
  },
  {
   "cell_type": "markdown",
   "id": "0adeeace-be46-4d0d-afcf-46c7d7d4e409",
   "metadata": {},
   "source": [
    "#### Q7. How can unsupervised learning be used in anomaly detection?"
   ]
  },
  {
   "cell_type": "markdown",
   "id": "781483f0-c0d6-48b4-af79-3a411a70b9d0",
   "metadata": {},
   "source": [
    "A7. \n",
    "\n",
    "Anomaly Detection\n",
    "\n",
    "Anomaly is a synonym for the word ‘outlier’. Anomaly detection (or outlier detection) is the identification of rare items, events or observations which raise suspicions by differing significantly from the majority of the data. Anomalous activities can be linked to some kind of problems or rare events such as bank fraud, medical problems, structural defects, malfunctioning equipment etc.\n",
    "\n",
    "One of the most important assumptions for an unsupervised anomaly detection algorithm is that the dataset used for the learning purpose is assumed to have all non-anomalous training examples (or very very small fraction of anomalous examples). Also, the goal of the anomaly detection algorithm through the data fed to it is to learn the patterns of a normal activity so that when an anomalous activity occurs, we can flag it through the inclusion-exclusion principle. "
   ]
  },
  {
   "cell_type": "code",
   "execution_count": null,
   "id": "2463d678-1799-4c03-a9df-8baed00ac4bc",
   "metadata": {},
   "outputs": [],
   "source": []
  },
  {
   "cell_type": "markdown",
   "id": "db351438-803a-497f-aa0e-4b947cd3d21f",
   "metadata": {},
   "source": [
    "### Q8. List down some commonly used supervised and unsupervised algorithms."
   ]
  },
  {
   "cell_type": "markdown",
   "id": "53ea1bed-9b2c-4d8d-8c42-baecca969c03",
   "metadata": {},
   "source": [
    "A8. \n",
    "\n",
    "#### supervised learning algorithms:\n",
    "\n",
    "Linear regression\n",
    "\n",
    "Logistic regression\n",
    "\n",
    "Linear discriminant analysis\n",
    "\n",
    "Quadratic discriminant analysis\n",
    "\n",
    "Decision trees\n",
    "\n",
    "Naive bayes\n",
    "\n",
    "Support vector machines\n",
    "\n",
    "Neural networks\n",
    "\n",
    "\n",
    "#### Unsupervised learning algorithms:\n",
    "\n",
    "Principal component analysis\n",
    "\n",
    "K-means clustering\n",
    "\n",
    "K-medoids clustering\n",
    "\n",
    "Hierarchical clustering\n",
    "\n",
    "Apriori algorithm\n",
    "\n"
   ]
  },
  {
   "cell_type": "code",
   "execution_count": null,
   "id": "2c811793-43e1-4f6f-9be4-3531acd30cce",
   "metadata": {},
   "outputs": [],
   "source": []
  }
 ],
 "metadata": {
  "kernelspec": {
   "display_name": "Python 3 (ipykernel)",
   "language": "python",
   "name": "python3"
  },
  "language_info": {
   "codemirror_mode": {
    "name": "ipython",
    "version": 3
   },
   "file_extension": ".py",
   "mimetype": "text/x-python",
   "name": "python",
   "nbconvert_exporter": "python",
   "pygments_lexer": "ipython3",
   "version": "3.10.8"
  }
 },
 "nbformat": 4,
 "nbformat_minor": 5
}
