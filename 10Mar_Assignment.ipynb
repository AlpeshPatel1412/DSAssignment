{
 "cells": [
  {
   "cell_type": "markdown",
   "id": "5cb61cac-93d7-45ca-a1e5-38c594ff0b6c",
   "metadata": {},
   "source": [
    "### Q1: What is Estimation Statistics? Explain point estimate and interval estimate."
   ]
  },
  {
   "cell_type": "markdown",
   "id": "0e81f489-b2da-4438-b85f-eb683fccdbaf",
   "metadata": {},
   "source": [
    "A1: Estimation Statistics or simply estimation, is a process to determine the value of population parameters through measured and observed empirical data. The process of estimation is carried out in order to measure and diagnose the true value of a function or a particular set of populations.  It is done on the basis of observations of samples, which are a combined piece of the target population or function. \n",
    "\n",
    "Point Estimate -  An estimate for a parameter that is one numerical value. An example of a point estimate is the sample mean or the sample proportion. \n",
    "\n",
    "\n",
    "Interval Estimate - Interval estimates give an interval as the estimate for a parameter. Such intervals are built around point estimates .\n",
    "The interval estimate is also referred as confidence intervals.\n",
    "\n",
    "\n",
    "Confidence Interval - An interval of values computed from sample data that is likely to cover the true parameter of interest. \n",
    "\n",
    "\n",
    "Statisticians use a confidence interval to express the precision and uncertainty associated with a particular sampling method. A confidence interval consists of three parts.\n",
    "\n",
    "A confidence level.\n",
    "A statistic.\n",
    "A margin of error.\n",
    "\n",
    "The confidence level describes the uncertainty of a sampling method. The statistic and the margin of error define an interval estimate that describes the precision of the method. The interval estimate of a confidence interval is defined by the sample statistic + margin of error.\n",
    "\n",
    "For example, suppose we compute an interval estimate of a population parameter. We might describe this interval estimate as a 95% confidence interval. This means that if we used the same sampling method to select different samples and compute different interval estimates, the true population parameter would fall within a range defined by the sample statistic + margin of error 95% of the time.\n",
    "\n",
    "Confidence intervals are preferred to point estimates, because confidence intervals indicate (a) the precision of the estimate and (b) the uncertainty of the estimate.\n",
    "\n",
    "\n",
    "Confidence Level\n",
    "\n",
    "The probability part of a confidence interval is called a confidence level. The confidence level describes the likelihood that a particular sampling method will produce a confidence interval that includes the true population parameter.\n",
    "\n",
    "Here is how to interpret a confidence level. Suppose we collected all possible samples from a given population, and computed confidence intervals for each sample. Some confidence intervals would include the true population parameter; others would not. A 95% confidence level means that 95% of the intervals contain the true population parameter; a 90% confidence level means that 90% of the intervals contain the population parameter; and so on.\n",
    "\n",
    "Margin of Error\n",
    "\n",
    "In a confidence interval, the range of values above and below the sample statistic is called the margin of error.\n",
    "\n",
    "For example, suppose the local newspaper conducts an election survey and reports that the independent candidate will receive 30% of the vote. The newspaper states that the survey had a 5% margin of error and a confidence level of 95%. These findings result in the following confidence interval: We are 95% confident that the independent candidate will receive between 25% and 35% of the vote.\n",
    "\n"
   ]
  },
  {
   "cell_type": "markdown",
   "id": "d8a5c59e-979e-4088-aa94-9459cc74eca7",
   "metadata": {},
   "source": [
    "#### Q2. Write a Python function to estimate the population mean using a sample mean and standard deviation."
   ]
  },
  {
   "cell_type": "code",
   "execution_count": 43,
   "id": "c79d8b08-5d00-455f-9764-e9769245b27a",
   "metadata": {},
   "outputs": [
    {
     "name": "stdout",
     "output_type": "stream",
     "text": [
      "Critical t-value: 2.064\n",
      "Margin of Error: 6.192\n",
      "Confidence Interval: [93.808,106.192]\n",
      "At 95.0% confidence level the population mean is between 93.808 and 106.192\n"
     ]
    }
   ],
   "source": [
    "import scipy.stats as stats\n",
    "import math\n",
    "\n",
    "# Specify sample mean (m), sample standard deviation (s), sample size (n) and confidence level for sample of Student's IQ\n",
    "m = 100\n",
    "s = 15\n",
    "n = 25\n",
    "confidence_level = 0.95\n",
    "\n",
    "# Calculate alpha, degrees of freedom (df), the critical t-value, and the margin of error\n",
    "alpha = (1-confidence_level)\n",
    "df = n - 1\n",
    "standard_error = s/math.sqrt(n)\n",
    "critical_t = stats.t.ppf(1-alpha/2, df)\n",
    "margin_of_error = critical_t * standard_error\n",
    "\n",
    "# Calculate the lower and upper bound of the confidence interval\n",
    "lower_bound = m - margin_of_error\n",
    "upper_bound = m + margin_of_error\n",
    "\n",
    "# Print the results\n",
    "print(\"Critical t-value: {:.3f}\".format(critical_t))\n",
    "print(\"Margin of Error: {:.3f}\".format(margin_of_error))\n",
    "print(\"Confidence Interval: [{:.3f},{:.3f}]\".format(lower_bound,upper_bound))\n",
    "print(\"At {:.1%} confidence level the population mean is between {:.3f} and {:.3f}\".format(confidence_level,lower_bound,upper_bound))\n"
   ]
  },
  {
   "cell_type": "code",
   "execution_count": null,
   "id": "2e2a0256-7467-4e27-946f-15ee7c1f4a56",
   "metadata": {},
   "outputs": [],
   "source": []
  },
  {
   "cell_type": "markdown",
   "id": "505767fa-4421-4213-9695-60913398d41a",
   "metadata": {},
   "source": [
    "#### Q3: What is Hypothesis testing? Why is it used? State the importance of Hypothesis testing."
   ]
  },
  {
   "cell_type": "markdown",
   "id": "138f1d6c-6a6b-4e98-8127-4e541653f440",
   "metadata": {},
   "source": [
    "A3. Hypothesis Testing : Hypothesis testing is the process used to evaluate the strength of evidence from the sample and provides a framework for making determinations related to the population, ie, it provides a method for understanding how reliably one can extrapolate observed findings in a sample under study to the larger population from which the sample was drawn. The investigator formulates a specific hypothesis, evaluates data from the sample, and uses these data to decide whether they support the specific hypothesis.\n",
    "\n",
    "In other words, Hypothesis testing is a statistical analysis that uses sample data to assess two mutually exclusive theories about the properties of a population. Statisticians call these theories the null hypothesis and the alternative hypothesis. A hypothesis test assesses your sample statistic and factors in an estimate of the sample error to determine which hypothesis the data support.\n",
    "\n",
    "Importance of Hypothesis testing:\n",
    "\n",
    "When it comes to data-driven decision-making, there’s a certain amount of risk that can mislead a professional. This could be due to flawed thinking or observations, incomplete or inaccurate data, or the presence of unknown variables. The danger in this is that, if major strategic decisions are made based on flawed insights, it can lead to wasted resources, missed opportunities, and catastrophic outcomes.\n",
    "\n",
    "The real value of hypothesis testing in business is that it allows professionals to test their theories and assumptions before putting them into action. This essentially allows an organization to verify its analysis is correct before committing resources to implement a broader strategy."
   ]
  },
  {
   "cell_type": "code",
   "execution_count": null,
   "id": "0ab11373-e861-4a68-aec3-92ff0ab90474",
   "metadata": {},
   "outputs": [],
   "source": []
  },
  {
   "cell_type": "markdown",
   "id": "6c0a9ab5-c39e-4e6c-b21d-9bd6a94c2969",
   "metadata": {},
   "source": [
    "#### Q4. Create a hypothesis that states whether the average weight of male college students is greater than the average weight of female college students."
   ]
  },
  {
   "cell_type": "code",
   "execution_count": null,
   "id": "755b03d1-0a08-4372-9b8d-cc2316899b48",
   "metadata": {},
   "outputs": [],
   "source": [
    "H0: Average weight of male colleage students <= Average weight of female colleage students \n",
    "H1: Average weight of male colleage students > Average weight of female colleage students"
   ]
  },
  {
   "cell_type": "markdown",
   "id": "de5ab8d4-58f1-4311-9fd8-e5e8fd409972",
   "metadata": {},
   "source": [
    "#### Q5. Write a Python script to conduct a hypothesis test on the difference between two population means, given a sample from each population."
   ]
  },
  {
   "cell_type": "code",
   "execution_count": 85,
   "id": "761468d2-3fb6-40f7-9e17-8cc1667aba43",
   "metadata": {},
   "outputs": [],
   "source": [
    "from statsmodels.stats.weightstats import ztest as ztest\n",
    "import numpy as np"
   ]
  },
  {
   "cell_type": "code",
   "execution_count": 92,
   "id": "6d0410bc-02cc-49f1-8ead-09c9a74803fe",
   "metadata": {},
   "outputs": [
    {
     "name": "stdout",
     "output_type": "stream",
     "text": [
      "p-value 0.0067 is less than significance value 0.05. Null hyposesis that both population mean are equal is rejected\n"
     ]
    }
   ],
   "source": [
    "#Generate samples of IQ levels of individuals from two separate schools\n",
    "\n",
    "schoolA = np.random.normal(loc=100,scale=5,size=35)\n",
    "schoolB = np.random.normal(loc=105,scale=8,size=40)\n",
    "\n",
    "\n",
    "stat,pval = ztest(schoolA, schoolB, value=0)\n",
    "pval = round(pval,4)\n",
    "alpha=0.05\n",
    "\n",
    "if (pval < alpha):\n",
    "    print(\"p-value {} is less than significance value {}. Null hyposesis that both population mean are equal is rejected\".format(pval,alpha))\n",
    "else:\n",
    "    print(\"p-value {} is not less than significance value {}. Null hyposesis that both population mean are equal is accepted\".format(pval,alpha))\n"
   ]
  },
  {
   "cell_type": "markdown",
   "id": "9ac3ad0a-2bd3-42bb-a723-12bf47b9d32b",
   "metadata": {},
   "source": [
    "#### Q6: What is a null and alternative hypothesis? Give some examples."
   ]
  },
  {
   "cell_type": "markdown",
   "id": "5f527459-1b6c-448a-b3f2-319ee8da63bf",
   "metadata": {},
   "source": [
    "A6:\n",
    "    \n",
    "The first step in hypotheses testing is the transformation of the research question into a null hypothesis, H0, and an alternative hypothesis, HA. The null and alternative hypotheses are concise statements, usually in mathematical form, of 2 possible versions of “truth” about the relationship between the predictor of interest and the outcome in the population. These 2 possible versions of truth must be exhaustive (ie, cover all possible truths) and mutually exclusive (ie, not overlapping). \n",
    "\n",
    "Null hypothesis: It is a statement about the population that either is believed to be true or is used to put forth an argument unless it can be shown to be incorrect beyond a reasonable doubt. It is a statement about a parameter (a numerical characteristic of the population). \n",
    "\n",
    "The null hypothesis is conventionally used to describe a lack of association between the predictor and the outcome. Typically, the null hypothesis states that there is no effect (i.e., the effect size equals zero). You can think of the null as the default theory that requires sufficiently strong evidence against in order to reject it. \n",
    "\n",
    "Alternative hypothesis: It is a claim about the population that is contradictory to H0 and what we conclude when we reject H0.\n",
    "\n",
    "The alternative hypothesis describes the existence of an association and is typically what the investigator would like to show. Typically, the alternative hypothesis states that a population parameter does not equal the null hypothesis value. In other words, there is a non-zero effect. The alternative hypothesis is typically the research hypothesis of interest.\n",
    "\n",
    "In statistics, the null hypothesis is the statement we are trying to reject. Therefore, the null hypothesis is the present state of affairs, while the alternative is our personal opinion.\n",
    "\n",
    "Exaples:\n",
    "\n",
    "Problem: A researcher is studying the effects of radical exercise program on knee surgery patients. There is a good chance the therapy will improve recovery time, but there’s also the possibility it will make it worse. Average recovery times for knee surgery patients is 8.2 weeks. \n",
    "\n",
    "H0: mean=8.2 (Average recovery time is 8.2)\n",
    "H1: mean!=8.2\n",
    "\n",
    "Problem: A researcher thinks that if knee surgery patients go to physical therapy twice a week (instead of 3 times), their recovery period will be longer. Average recovery times for knee surgery patients is 8.2 weeks. \n",
    "\n",
    "H0: mean <= 8.2\n",
    "H1: mean > 8.2\n",
    "\n",
    "Problem: A medical trial is conducted to test whether or not a new medicine reduces cholesterol by 25%. \n",
    "\n",
    "H0: The drug reduces cholesterol by 25%. p = 0.25\n",
    "\n",
    "H1: The drug does not reduce cholesterol by 25%. p ≠ 0.25"
   ]
  },
  {
   "cell_type": "markdown",
   "id": "fc4f9c3f-c98b-4d25-a19a-506a2a2f29b4",
   "metadata": {},
   "source": [
    "#### Q7: Write down the steps involved in hypothesis testing."
   ]
  },
  {
   "cell_type": "markdown",
   "id": "a8b21178-3c43-4f25-961e-2d7e5dc909f1",
   "metadata": {},
   "source": [
    " In order to perform hypothesis tests, the following steps need to be taken:\n",
    "\n",
    "1). Hypothesis formulation: Formulate the null and alternate hypothesis\n",
    "\n",
    "2). Data collection: Gather the sample of data\n",
    "\n",
    "3). Statistical tests: Determine the statistical test and test statistics. The statistical tests can be z-test or t-test depending upon the number of data samples and/or whether the population variance is known otherwise.\n",
    "\n",
    "4). Set the level of significance\n",
    "\n",
    "5). Calculate the p-value\n",
    "\n",
    "6). Draw conclusions: Based on the value of p-value and significance level, reject the null hypothesis or otherwise.\n"
   ]
  },
  {
   "cell_type": "code",
   "execution_count": null,
   "id": "c245a7ef-a5c6-46b5-a76f-1c9d2f5d1db3",
   "metadata": {},
   "outputs": [],
   "source": []
  },
  {
   "cell_type": "markdown",
   "id": "f793c18f-094d-4a36-a00d-9f0e3df106c3",
   "metadata": {},
   "source": [
    "#### 8. Define p-value and explain its significance in hypothesis testing."
   ]
  },
  {
   "cell_type": "markdown",
   "id": "db4a1075-7755-42a4-b997-f70938effa59",
   "metadata": {},
   "source": [
    "p-value: In statistical hypothesis testing, P-Value or probability value can be defined as the measure of the probability that a real-valued test statistic is at least as extreme as the value actually obtained. P-value shows how likely it is that your set of observations could have occurred under the null hypothesis. In other words, the p-value or probability value is a number, calculated from a statistical test, that tells how likely it is that your results would have occurred under the null hypothesis of the test.  \n",
    "\n",
    "P-Values are used in statistical hypothesis testing to determine whether to reject the null hypothesis. The smaller the p-value, the stronger the likelihood that you should reject the null hypothesis. \n",
    "\n",
    "A P-Value < or = 0.05 is considered statistically significant. It denotes strong evidence against the null hypothesis, since there is below 5% probability of the null being correct. So, we reject the null hypothesis and accept the alternative hypothesis.\n",
    "\n",
    "A P-Value >0.05 is not statistically significant. It denotes strong evidence for the null hypothesis being true. Thus, we retain the null hypothesis and reject the alternative hypothesis. We cannot accept null hypothesis; we can only reject or not reject it. \n"
   ]
  },
  {
   "cell_type": "code",
   "execution_count": null,
   "id": "81fc7905-084c-4e2f-8e0a-377a61a55deb",
   "metadata": {},
   "outputs": [],
   "source": []
  },
  {
   "cell_type": "markdown",
   "id": "71abf614-9a05-45df-97f0-ffe7a7e6488e",
   "metadata": {},
   "source": [
    "#### Q9. Generate a Student's t-distribution plot using Python's matplotlib library, with the degrees of freedom parameter set to 10."
   ]
  },
  {
   "cell_type": "code",
   "execution_count": 33,
   "id": "a04a9cf9-5cd5-464e-bb00-8cc599349f66",
   "metadata": {},
   "outputs": [
    {
     "data": {
      "image/png": "[encoded data removed]",
      "text/plain": [
       "<Figure size 640x480 with 1 Axes>"
      ]
     },
     "metadata": {},
     "output_type": "display_data"
    }
   ],
   "source": [
    "from scipy.stats import t\n",
    "import matplotlib.pyplot as plt\n",
    "import numpy as np\n",
    "\n",
    "x = np.arange(60, 150,2,dtype='int')\n",
    "dof=10\n",
    "\n",
    "firstT = t.pdf(x,dof,loc=100, scale=15)\n",
    "plt.title('T Dist of IQ with mu=100 , sigma=15, dof=10')\n",
    "plt.xlabel('IQ Score')\n",
    "plt.ylabel('PDF value of T Dist')\n",
    "plt.plot(x,firstT)\n",
    "plt.show()"
   ]
  },
  {
   "cell_type": "markdown",
   "id": "018af3b7-b068-4fa9-a0d5-d7fd9d7fcb1d",
   "metadata": {},
   "source": [
    "#### Q10. Write a Python program to calculate the two-sample t-test for independent samples, given two random samples of equal size and a null hypothesis that the population means are equal."
   ]
  },
  {
   "cell_type": "code",
   "execution_count": 6,
   "id": "8e137313-0712-42af-929d-560e68029eb7",
   "metadata": {},
   "outputs": [],
   "source": [
    "import statsmodels.stats.weightstats as st\n",
    "import numpy as np"
   ]
  },
  {
   "cell_type": "code",
   "execution_count": 16,
   "id": "6a091390-405a-4879-ba33-371a9ed7b6db",
   "metadata": {},
   "outputs": [
    {
     "name": "stdout",
     "output_type": "stream",
     "text": [
      "p-value 0.0087 is less than significance value 0.05. Null hyposesis that both population mean are equal is rejected\n"
     ]
    }
   ],
   "source": [
    "#Generate samples of IQ levels of individuals from two separate schools\n",
    "\n",
    "schoolA = np.random.normal(loc=100,scale=5,size=35)\n",
    "schoolB = np.random.normal(loc=105,scale=8,size=35)\n",
    "\n",
    "stat,pval,df = st.ttest_ind(schoolA, schoolB)\n",
    "pval = round(pval,4)\n",
    "alpha=0.05\n",
    "\n",
    "if (pval < alpha):\n",
    "    print(\"p-value {} is less than significance value {}. Null hyposesis that both population mean are equal is rejected\".format(pval,alpha))\n",
    "else:\n",
    "    print(\"p-value {} is not less than significance value {}. Null hyposesis that both population mean are equal is accepted\".format(pval,alpha))\n"
   ]
  },
  {
   "cell_type": "markdown",
   "id": "80695195-2a58-4076-887b-02f761b62d6b",
   "metadata": {},
   "source": [
    "#### Q11: What is Student’s t distribution? When to use the t-Distribution."
   ]
  },
  {
   "cell_type": "markdown",
   "id": "30b16400-9ebf-45c6-a089-487cea2fdf85",
   "metadata": {},
   "source": [
    "The t distribution also known as Student's t distribution,  is a continuous probability distribution that is symmetric and bell-shaped like the normal distribution but with a shorter peak and thicker tails. It was designed to factor in the greater uncertainty associated with small sample sizes.\n",
    "\n",
    "The t distribution describes the variability of the distances between sample means and the population mean when the population standard deviation is unknown and the data approximately follow the normal distribution. This distribution has only one parameter, the degrees of freedom, based on (but not equal to) the sample size.\n",
    "\n",
    "When to use t distribution\n",
    "\n",
    "1). Use the t distribution when you need to assess the mean and do not know the population standard deviation. \n",
    "\n",
    "2). It’s particularly important to use it when you have a small (n < 30) sample size. More about this aspect below!"
   ]
  },
  {
   "cell_type": "markdown",
   "id": "4cbd1781-f26a-4322-b265-c66d2044e5cf",
   "metadata": {},
   "source": [
    "#### Q12: What is t-statistic? State the formula for t-statistic."
   ]
  },
  {
   "cell_type": "markdown",
   "id": "7674dd4e-4227-4747-b088-8469575b2917",
   "metadata": {},
   "source": [
    "t-statistic is the ratio of the departure of the estimated value of a parameter from its hypothesized value to its standard error. It is used in hypothesis testing via Student's t-test. The t-statistic is used in a t-test to determine whether to support or reject the null hypothesis. It is very similar to the z-score but with the difference that t-statistic is used when the sample size is small or the population standard deviation is unknown. For example, the t-statistic is used in estimating the population mean from a sampling distribution of sample means if the population standard deviation is unknown. \n",
    "\n",
    "One sample t-stat formula:\n",
    "\n",
    "t = (m-mu)/(s/sqrt(n))\n",
    "\n",
    "where m = sample mean, mu=population mean, s = sample standard deviation, n = sample size\n",
    "\n",
    "Two sample t-stat formula:\n",
    "\n",
    "t = (m1-m2)/sqrt(((s1**2)/n1) + ((s2**2)/n2))\n",
    "\n",
    "where m1,s1 and n1 are mean, std and size of sample 1; m2,s2 and n2 are mean, std and size of sample 2"
   ]
  },
  {
   "cell_type": "markdown",
   "id": "7a1b1867-f68b-4e22-82ca-c09de68f9a7a",
   "metadata": {},
   "source": [
    "#### Q13. A coffee shop owner wants to estimate the average daily revenue for their shop. They take a random sample of 50 days and find the sample mean revenue to be 500 dollar with a standard deviation of 50 dollar . Estimate the population mean revenue with a 95% confidence interval."
   ]
  },
  {
   "cell_type": "code",
   "execution_count": 40,
   "id": "ab746ff3-bdbd-4802-938f-f4cd22660f87",
   "metadata": {},
   "outputs": [
    {
     "name": "stdout",
     "output_type": "stream",
     "text": [
      "Critical t-value: 2.010\n",
      "Margin of Error: 14.210\n",
      "Confidence Interval: [485.790,514.210]\n",
      "At 95.0% confidence level the population mean is between 485.790 and 514.210\n"
     ]
    }
   ],
   "source": [
    "import scipy.stats as stats\n",
    "import math\n",
    "\n",
    "# Specify sample mean (m), sample standard deviation (s), sample size (n) and confidence level\n",
    "m = 500\n",
    "s = 50\n",
    "n = 50\n",
    "confidence_level = 0.95\n",
    "\n",
    "# Calculate alpha, degrees of freedom (df), the critical t-value, and the margin of error\n",
    "alpha = (1-confidence_level)\n",
    "df = n - 1\n",
    "standard_error = s/math.sqrt(n)\n",
    "critical_t = stats.t.ppf(1-alpha/2, df)\n",
    "margin_of_error = critical_t * standard_error\n",
    "\n",
    "# Calculate the lower and upper bound of the confidence interval\n",
    "lower_bound = m - margin_of_error\n",
    "upper_bound = m + margin_of_error\n",
    "\n",
    "# Print the results\n",
    "print(\"Critical t-value: {:.3f}\".format(critical_t))\n",
    "print(\"Margin of Error: {:.3f}\".format(margin_of_error))\n",
    "print(\"Confidence Interval: [{:.3f},{:.3f}]\".format(lower_bound,upper_bound))\n",
    "print(\"At {:.1%} confidence level the population mean is between {:.3f} and {:.3f}\".format(confidence_level,lower_bound,upper_bound))\n"
   ]
  },
  {
   "cell_type": "code",
   "execution_count": null,
   "id": "842c6a13-8766-4e0f-9d7a-374dc409d5a4",
   "metadata": {},
   "outputs": [],
   "source": []
  },
  {
   "cell_type": "markdown",
   "id": "4236e91e-161e-41c3-adc1-ed9aa9b62c93",
   "metadata": {},
   "source": [
    "#### Q14. A researcher hypothesizes that a new drug will decrease blood pressure by 10 mmHg. They conduct a clinical trial with 100 patients and find that the sample mean decrease in blood pressure is 8 mmHg with a standard deviation of 3 mmHg. Test the hypothesis with a significance level of 0.05. "
   ]
  },
  {
   "cell_type": "markdown",
   "id": "dc73a779-b26c-4e3c-88d8-7249810a2952",
   "metadata": {},
   "source": [
    "A14.\n",
    "\n",
    "We have following details:\n",
    "\n",
    "mu=10 (polulation mean)\n",
    "\n",
    "s=8 (sample mean)\n",
    "\n",
    "std=3 (sample standard deviation)\n",
    "\n",
    "n=100 (sample size)\n",
    "\n",
    "alpha=0.05 (significance level)\n",
    "\n",
    "dof=n-1=99\n",
    "\n",
    "since we don't have population standard deviation, we have to use t-test even though sample size > 30\n",
    "\n",
    "1). The hypotheses are the following:\n",
    "\n",
    "Null hypothesis H0: population mean = 10\n",
    "\n",
    "Alternate hypothesis HA: population mean != 10\n",
    "\n",
    "2). For significance level of 0.05 and dof 99, we can find out that the dicision boundry/critical values are -1.984 and +1.984\n",
    "\n",
    "Our results are statistically significant if our t statistic is below –1.984 or above +1.984. In this scenario, we will reject the null    hypothesis\n",
    "    \n",
    "3). t-test / Calculating the t value/statistic:\n",
    "\n",
    "t = (s-mu)/(std/sqrt(n))\n",
    "  = (8-10)/(3/10)\n",
    "  = -2/0.3\n",
    "  = -6.667\n",
    "  \n",
    "  t statistic < -1.984\n",
    "  \n",
    "4). Calculating p-value:\n",
    "\n",
    "p-value is < .00001 < 0.05 (alpha)\n",
    "\n",
    "5). Conclusion:\n",
    "\n",
    "From the 3 and 4 above, We can reject the null and conclude that the mean decrease in BP for the population does not equal 10. Based on the sample mean of 8, we know that mean decrease in BP is lower."
   ]
  },
  {
   "cell_type": "markdown",
   "id": "46bcd04c-365e-430d-ab27-43591dd1db8c",
   "metadata": {},
   "source": [
    "#### Q15. An electronics company produces a certain type of product with a mean weight of 5 pounds and a standard deviation of 0.5 pounds. A random sample of 25 products is taken, and the sample mean weight is found to be 4.8 pounds. Test the hypothesis that the true mean weight of the products is less than 5 pounds with a significance level of 0.01."
   ]
  },
  {
   "cell_type": "markdown",
   "id": "25f87350-fe94-4666-a893-baa94b68c1b8",
   "metadata": {},
   "source": [
    "A15.\n",
    "\n",
    "We have following details:\n",
    "\n",
    "mu=5 (polulation mean)\n",
    "\n",
    "s=4.8 (sample mean)\n",
    "\n",
    "std=0.5 (population standard deviation)\n",
    "\n",
    "n=25 (sample size)\n",
    "\n",
    "alpha=0.01 (significance level)\n",
    "\n",
    "Here, even if sampel size < 30, we have to use the z-test because we have only population standard deviation available.\n",
    "\n",
    "1). The hypotheses are the following:\n",
    "\n",
    "Null hypothesis H0: population mean = 5\n",
    "\n",
    "Alternate hypothesis HA: population mean < 5\n",
    "\n",
    "2). For significance level of 0.01, we can find out that the dicision boundry/critical values for left tail is  = z score for area (1 - 0.01=0.99) which is –2.326\n",
    "\n",
    "Our results are statistically significant if our Z statistic is < –2.326. In this scenario, we will reject the null hypothesis\n",
    "    \n",
    "3). z-test / Calculating the z statistic:\n",
    "\n",
    "Z = (s-mu)/(std/sqrt(n))\n",
    "  = (4.8-5)/(0.5/5)\n",
    "  = -0.2/0.1\n",
    "  = -2\n",
    "  \n",
    "  Z statistic > –2.326\n",
    "  \n",
    "4). Calculating p-value:\n",
    "\n",
    "p-value for z-score -2 is .02275\n",
    "\n",
    ".02275 (p-value) > 0.01 (alpha)\n",
    "\n",
    "5). Conclusion:\n",
    "\n",
    "From the 3 and 4 above, We fail to reject the null hypothesis. "
   ]
  },
  {
   "cell_type": "code",
   "execution_count": null,
   "id": "951fc904-1fcc-4ce6-aec7-fbaeca12351a",
   "metadata": {},
   "outputs": [],
   "source": []
  },
  {
   "cell_type": "markdown",
   "id": "9088f6dd-c52a-4652-934b-79ae3b90a9ae",
   "metadata": {},
   "source": [
    "#### Q16. Two groups of students are given different study materials to prepare for a test. The first group (n1 = 30) has a mean score of 80 with a standard deviation of 10, and the second group (n2 = 40) has a mean score of 75 with a standard deviation of 8. Test the hypothesis that the population means for the two groups are equal with a significance level of 0.01."
   ]
  },
  {
   "cell_type": "markdown",
   "id": "1d56e3c3-d1fb-4b8e-a3b7-ffb00b190b5e",
   "metadata": {},
   "source": [
    "A16.\n",
    "\n",
    "We have following details:\n",
    "\n",
    "Sample 1:\n",
    "\n",
    "s1=80 (sample mean)\n",
    "\n",
    "std1=10 (standard deviation)\n",
    "\n",
    "n1=30 (sample size)\n",
    "\n",
    "Sample 2:\n",
    "\n",
    "s2=75 (sample mean)\n",
    "\n",
    "std2=8 (standard deviation)\n",
    "\n",
    "n2=40 (sample size)\n",
    "\n",
    "alpha=0.01 (significance level)\n",
    "\n",
    "Since we don't have population standard deviation, we have to use t-test even though sample size is 35 and 40 respectively\n",
    "\n",
    "\n",
    "1). The hypotheses are the following:\n",
    "\n",
    "Null hypothesis H0: Two population means are equal (mu1 = mu2)\n",
    "\n",
    "Alternate hypothesis HA: Two population means are not equal (mu1 != mu2)\n",
    "\n",
    "  \n",
    "2). t-test / Calculating the t statistic:\n",
    "\n",
    "t = (s1-s2)/sqrt(((std1**2)/n1) + ((std2**2)/n2))\n",
    "  = (80-75)/sqrt(((10**2)/30) + ((8**2)/40))\n",
    "  = (80-75)/sqrt(100/30 + 64/40)\n",
    "  = 5/sqrt(3.33 + 1.6)\n",
    "  = 5/sqrt(4.93)\n",
    "  = 5/2.22\n",
    "  = 2.252\n",
    "  \n",
    "   \n",
    "3). Calculating p-value:\n",
    "\n",
    "p value for t-score 2.252, degree of freedom 36, and alpha 0.01\n",
    "p-value = .030656\n",
    "\n",
    "Here p-value > alpha\n",
    "\n",
    "4). Conclusion:\n",
    "\n",
    "From 3 above, We fail to reject the null hypothesis. "
   ]
  },
  {
   "cell_type": "markdown",
   "id": "416dd4e8-fce7-4ba8-9297-6685f3875eed",
   "metadata": {},
   "source": [
    "#### Q17. A marketing company wants to estimate the average number of ads watched by viewers during a TV program. They take a random sample of 50 viewers and find that the sample mean is 4 with a standard deviation of 1.5. Estimate the population mean with a 99% confidence interval."
   ]
  },
  {
   "cell_type": "code",
   "execution_count": 37,
   "id": "cf0347b4-abf6-4cf1-9128-43ba1a82f57f",
   "metadata": {},
   "outputs": [
    {
     "name": "stdout",
     "output_type": "stream",
     "text": [
      "Critical t-value: 2.680\n",
      "Margin of Error: 0.569\n",
      "Confidence Interval: [3.431,4.569]\n",
      "At 99.0% confidence level the population mean is between 3.431 and 4.569\n"
     ]
    }
   ],
   "source": [
    "import scipy.stats as stats\n",
    "import math\n",
    "\n",
    "# Specify sample mean (m), sample standard deviation (s), sample size (n) and confidence level\n",
    "m = 4\n",
    "s = 1.5\n",
    "n = 50\n",
    "confidence_level = 0.99\n",
    "\n",
    "# Calculate alpha, degrees of freedom (df), the critical t-value, and the margin of error\n",
    "alpha = (1-confidence_level)\n",
    "df = n - 1\n",
    "standard_error = s/math.sqrt(n)\n",
    "critical_t = stats.t.ppf(1-alpha/2, df)\n",
    "margin_of_error = critical_t * standard_error\n",
    "\n",
    "# Calculate the lower and upper bound of the confidence interval\n",
    "lower_bound = m - margin_of_error\n",
    "upper_bound = m + margin_of_error\n",
    "\n",
    "# Print the results\n",
    "print(\"Critical t-value: {:.3f}\".format(critical_t))\n",
    "print(\"Margin of Error: {:.3f}\".format(margin_of_error))\n",
    "print(\"Confidence Interval: [{:.3f},{:.3f}]\".format(lower_bound,upper_bound))\n",
    "print(\"At {:.1%} confidence level the population mean is between {:.3f} and {:.3f}\".format(confidence_level,lower_bound,upper_bound))\n"
   ]
  },
  {
   "cell_type": "code",
   "execution_count": null,
   "id": "702d03e2-9794-4aaa-8365-65c3138f1469",
   "metadata": {},
   "outputs": [],
   "source": []
  }
 ],
 "metadata": {
  "kernelspec": {
   "display_name": "Python 3 (ipykernel)",
   "language": "python",
   "name": "python3"
  },
  "language_info": {
   "codemirror_mode": {
    "name": "ipython",
    "version": 3
   },
   "file_extension": ".py",
   "mimetype": "text/x-python",
   "name": "python",
   "nbconvert_exporter": "python",
   "pygments_lexer": "ipython3",
   "version": "3.10.8"
  }
 },
 "nbformat": 4,
 "nbformat_minor": 5
}
