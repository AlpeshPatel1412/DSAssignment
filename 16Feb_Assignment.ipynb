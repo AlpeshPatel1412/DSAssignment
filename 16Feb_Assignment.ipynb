{
 "cells": [
  {
   "cell_type": "markdown",
   "id": "f6e64cbb-3394-4a6c-8d45-c9dd71e1750c",
   "metadata": {},
   "source": [
    "Q1. What is a database? Differentiate between SQL and NoSQL databases."
   ]
  },
  {
   "cell_type": "markdown",
   "id": "c764eea8-9ad0-4f07-b02e-6a9474f80f34",
   "metadata": {},
   "source": [
    "A1: A database is an organized collection of related data typically stored electronically in such a way that it can be easily accessed, retrieved, managed, modified and organized."
   ]
  },
  {
   "cell_type": "markdown",
   "id": "35d84c6e-1071-4bff-9fd9-bbef4988a174",
   "metadata": {},
   "source": [
    "Major difference between SQL and NoSQL databases are: \n",
    "\n",
    "1). SQL databases are relational and NOSQL databases are non-relational\n",
    "    SQL stores data in tabular format with fixed columns and rows, while NOSQL uses storage model based on type of data. It can be document \n",
    "    store, key-value store, garph or wide-column.\n",
    "    \n",
    "2). SQL databases are used to store structured data, while NOSQL is mostly used for unstructured large data\n",
    "\n",
    "3). SQL databases use structured query language and have a pre-defined schema for defining and manipulating data.\n",
    "    NOSQL databases have dynamic schemas for unstructured data and stores data in many ways.\n"
   ]
  },
  {
   "cell_type": "markdown",
   "id": "80cb5f91-6797-4353-96cf-2c234db9db72",
   "metadata": {},
   "source": [
    "Q2. What is DDL? Explain why CREATE, DROP, ALTER, and TRUNCATE are used with an example."
   ]
  },
  {
   "cell_type": "markdown",
   "id": "b1222108-d8e7-45eb-82de-dc6b49f95e57",
   "metadata": {},
   "source": [
    "A2: DDL -  Data Definition Language is used to create, modify and delete database objects like table, view etc\n",
    "\n",
    "    CREATE - Used to create a database object\n",
    "    CREATE TABLE employee (empid int, empname varchar2(50), departmentid int, managerid int, hiredate date)\n",
    "    \n",
    "    ALTER - Used to modify the database object\n",
    "    ALTER TABLE employee ADD (emailid varchar2(80))\n",
    "    \n",
    "    DROP - Used to delete the database object\n",
    "    DROP TABLE employee\n",
    "    \n",
    "    TRUNCATE - Used to delete all the records from the table\n",
    "    TRUNCATE TABLE employee"
   ]
  },
  {
   "cell_type": "markdown",
   "id": "0add1863-2ad4-47fa-921d-def7d5b96601",
   "metadata": {},
   "source": [
    "Q3. What is DML? Explain INSERT, UPDATE, and DELETE with an example.\n"
   ]
  },
  {
   "cell_type": "markdown",
   "id": "3b719384-84a5-4259-8153-9a3875cafd80",
   "metadata": {},
   "source": [
    "A3: DML - Data Manipulation Language - used to modify the data in table\n",
    "\n",
    "    INSERT - Insert command is used to insert data in the table\n",
    "    INSERT INTO employee(61230, 'Alpesh', 3,77329, '2017-05-22', 'alpesh.patel@xxx.com')\n",
    "    \n",
    "    UPATE - Update command is used to udpate the existing data in the table\n",
    "    UPDATE employee set managerid = 33234 where empid = 61230\n",
    "    \n",
    "    DELETE - Delete command is used to delete record from the table\n",
    "    DELETE FROM employee where empid = 61230"
   ]
  },
  {
   "cell_type": "markdown",
   "id": "a36e5b96-3fbf-4f31-8ec2-51d4bf8dac5f",
   "metadata": {},
   "source": [
    "Q4. What is DQL? Explain SELECT with an example.\n",
    "\n",
    "A4: DQL - Data Query Language is used to perform queries to fetch the data from table/view\n",
    "    \n",
    "    SELECT - Select is used to query the table\n",
    "    SELECT * FROM employee where empid = 61230\n"
   ]
  },
  {
   "cell_type": "markdown",
   "id": "c480bd12-52ab-461b-b483-2c5828e509e0",
   "metadata": {},
   "source": [
    "Q5. Explain Primary Key and Foreign Key.\n",
    "\n",
    "A5: Primary Key: A primary key is a column or combination of columns in a table whose values uniquely identify a row in a table.\n",
    "    \n",
    "    Only one primary key is allowed in a table and it must not contain NULL values.\n",
    "    \n",
    "    Foreign Key: A foreign key is a column or a set of columns in a table whose values correspond to the values of the primary key in another table. A foreign key always matches the primary key column in another table. It means a foreign key column in one table refers to the primary key column of another table. It is used to establish relationship between two tables in database."
   ]
  },
  {
   "cell_type": "markdown",
   "id": "ddd21601-c7df-4164-ba38-6022584bf086",
   "metadata": {},
   "source": [
    "Q6. Write a python code to connect MySQL to python. Explain the cursor() and execute() method."
   ]
  },
  {
   "cell_type": "code",
   "execution_count": null,
   "id": "fb9a33cc-22c9-4b3a-acba-92a867b608a9",
   "metadata": {},
   "outputs": [],
   "source": [
    "import mysql.connector\n",
    "\n",
    "mydb = mysql.connector.connect(\n",
    "  host=\"<hostname>\",\n",
    "  user=\"<username>\",\n",
    "  password=\"<password>\"\n",
    "  database=\"<databasename>\"\n",
    ")\n",
    "\n",
    "mycursor = mydb.cursor()\n",
    "\n",
    "mycursor.execute('select * from <tablename>')\n",
    "\n",
    "for x in mycursor:\n",
    "    print(x)\n",
    "    \n",
    "mycursor.close()\n",
    "mydb.close()"
   ]
  },
  {
   "cell_type": "markdown",
   "id": "4a8bf4f2-12c2-4948-bcbd-ae88591b8dcc",
   "metadata": {},
   "source": [
    "cursor() method is used to create a cursor object to perform various sql operations. Using different methods of cursor object, \n",
    "you can execute SQL statements, fetch data from the result sets, call procedures.\n",
    "\n",
    "execute() method accepts sql query as a parameter and executes the given query."
   ]
  },
  {
   "cell_type": "markdown",
   "id": "0410d3fb-9cfb-48a9-bd8e-6ad0d3be753a",
   "metadata": {},
   "source": [
    "Q7. Give the order of execution of SQL clauses in an SQL query."
   ]
  },
  {
   "cell_type": "markdown",
   "id": "3780893b-586a-4368-955a-94c07286d680",
   "metadata": {},
   "source": [
    "A7: \n",
    "    from/join - Tables are joined to get base data\n",
    "    \n",
    "    where - Base data is filtered\n",
    "    \n",
    "    group by - Fitered base data is grouped/aggregated\n",
    "    \n",
    "    having - Aggregated data is filtered\n",
    "    \n",
    "    select - Final data is returned\n",
    "    \n",
    "    order by - Final data is sorted\n",
    "    \n",
    "    limit/offset - Limits the returned data to row count"
   ]
  },
  {
   "cell_type": "code",
   "execution_count": null,
   "id": "ebff0483-cace-45a6-bf47-b884ab3e8f35",
   "metadata": {},
   "outputs": [],
   "source": []
  }
 ],
 "metadata": {
  "kernelspec": {
   "display_name": "Python 3 (ipykernel)",
   "language": "python",
   "name": "python3"
  },
  "language_info": {
   "codemirror_mode": {
    "name": "ipython",
    "version": 3
   },
   "file_extension": ".py",
   "mimetype": "text/x-python",
   "name": "python",
   "nbconvert_exporter": "python",
   "pygments_lexer": "ipython3",
   "version": "3.10.8"
  }
 },
 "nbformat": 4,
 "nbformat_minor": 5
}
