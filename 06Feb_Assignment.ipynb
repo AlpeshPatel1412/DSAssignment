{
 "cells": [
  {
   "cell_type": "markdown",
   "id": "0b839221-6a59-4853-8c4d-11c609204a04",
   "metadata": {},
   "source": [
    "Q1. Create a function which will take a list as an argument and return the product of all the numbers\n",
    "after creating a flat list.\n",
    "Use the below-given list as an argument for your function.\n",
    "list1 = [1,2,3,4, [44,55,66, True], False, (34,56,78,89,34), {1,2,3,3,2,1}, {1:34, \"key2\": [55, 67, 78, 89], 4: (45,\n",
    "22, 61, 34)}, [56, 'data science'], 'Machine Learning']"
   ]
  },
  {
   "cell_type": "code",
   "execution_count": 7,
   "id": "d34e8f8b-b1e3-421b-af33-0d0d8174bd93",
   "metadata": {},
   "outputs": [],
   "source": [
    "list1 = [1,2,3,4, [44,55,66, True], False, (34,56,78,89,34), {1,2,3,3,2,1}, {1:34, \"key2\": [55, 67, 78, 89], 4: (45,\n",
    "22, 61, 34)}, [56, 'data science'], 'Machine Learning']"
   ]
  },
  {
   "cell_type": "code",
   "execution_count": 32,
   "id": "7dd8ef09-8ba8-4acb-b791-c027e38462ab",
   "metadata": {},
   "outputs": [],
   "source": [
    "def flat_prod(l):\n",
    "    final = []\n",
    "    prod = 1\n",
    "    for i in list1:\n",
    "        if hasattr(i, '__iter__') and type(i) != str and type(i) != dict:\n",
    "            for j in i:\n",
    "                if type(j) == int:\n",
    "                    final.append(j)\n",
    "        elif isinstance(i, dict):\n",
    "            for k in i.keys():\n",
    "                if type(k) == int:\n",
    "                    final.append(k)\n",
    "            for v in i.values():\n",
    "                if type(v) == int:\n",
    "                    final.append(v)\n",
    "                elif isinstance(v,list) or isinstance(v,tuple) or isinstance(v,set):\n",
    "                    for v1 in v:\n",
    "                        final.append(v1)\n",
    "        else:\n",
    "            if type(i) == int or type(i) == float:\n",
    "                final.append(i)\n",
    "    for i in final:\n",
    "        prod = prod * i\n",
    "    \n",
    "    return prod"
   ]
  },
  {
   "cell_type": "code",
   "execution_count": 35,
   "id": "30cab115-edf2-4092-b53d-a6ebc64d9143",
   "metadata": {},
   "outputs": [
    {
     "name": "stdout",
     "output_type": "stream",
     "text": [
      "4134711838987085478833841242112000\n"
     ]
    }
   ],
   "source": [
    "final_prod = flat_prod(list1)\n",
    "print(final_prod)"
   ]
  },
  {
   "cell_type": "markdown",
   "id": "9fc6372a-63e5-44df-9b24-870bbc7acbf1",
   "metadata": {},
   "source": [
    "Q2. Write a python program for encrypting a message sent to you by your friend. The logic of encryption\n",
    "should be such that, for a the output should be z. For b, the output should be y. For c, the output should\n",
    "be x respectively. Also, the whitespace should be replaced with a dollar sign. Keep the punctuation\n",
    "marks unchanged.\n",
    "\n",
    "Input Sentence: I want to become a Data Scientist.\n",
    "\n",
    "Encrypt the above input sentence using the program you just created.\n",
    "\n",
    "Note: Convert the given input sentence into lowercase before encrypting. The final output should be\n",
    "lowercase."
   ]
  },
  {
   "cell_type": "code",
   "execution_count": 37,
   "id": "1b2abb46-331b-449d-8718-14d7c964477b",
   "metadata": {},
   "outputs": [],
   "source": [
    "import string"
   ]
  },
  {
   "cell_type": "code",
   "execution_count": 74,
   "id": "b0cfe7a4-7b1b-4c9b-8051-9b9e9b807259",
   "metadata": {},
   "outputs": [],
   "source": [
    "alpha = list(string.ascii_lowercase)\n",
    "input_str = \"I want to become a Data Scientist.\""
   ]
  },
  {
   "cell_type": "code",
   "execution_count": 75,
   "id": "8b7215a6-93a1-4046-a791-ce7623661f11",
   "metadata": {},
   "outputs": [],
   "source": [
    "def encrypt(s):\n",
    "    encrypted_str = ''\n",
    "    s = s.lower()\n",
    "   \n",
    "    for char in s:\n",
    "        if char.isspace():\n",
    "            enc = '$'             \n",
    "        elif char.isalpha():\n",
    "            ind = alpha.index(char)\n",
    "            enc = alpha[-(ind + 1)]\n",
    "        else:\n",
    "            enc = char\n",
    "        encrypted_str += enc\n",
    "        \n",
    "    return encrypted_str\n",
    "        "
   ]
  },
  {
   "cell_type": "code",
   "execution_count": 76,
   "id": "f4750a3b-7baa-45e2-abbb-e7637b832fef",
   "metadata": {},
   "outputs": [
    {
     "name": "stdout",
     "output_type": "stream",
     "text": [
      "Input String is -  I want to become a Data Scientist.\n",
      "Encrypted String is -  r$dzmg$gl$yvxlnv$z$wzgz$hxrvmgrhg.\n"
     ]
    }
   ],
   "source": [
    "encrypted_str = encrypt(input_str)\n",
    "print(\"Input String is - \" , input_str)\n",
    "print(\"Encrypted String is - \", encrypted_str)"
   ]
  },
  {
   "cell_type": "code",
   "execution_count": null,
   "id": "f1a38bc6-3ba3-44e3-bff0-ae6113200f17",
   "metadata": {},
   "outputs": [],
   "source": []
  }
 ],
 "metadata": {
  "kernelspec": {
   "display_name": "Python 3 (ipykernel)",
   "language": "python",
   "name": "python3"
  },
  "language_info": {
   "codemirror_mode": {
    "name": "ipython",
    "version": 3
   },
   "file_extension": ".py",
   "mimetype": "text/x-python",
   "name": "python",
   "nbconvert_exporter": "python",
   "pygments_lexer": "ipython3",
   "version": "3.10.8"
  }
 },
 "nbformat": 4,
 "nbformat_minor": 5
}
