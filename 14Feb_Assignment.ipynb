{
 "cells": [
  {
   "cell_type": "markdown",
   "id": "4c6200b4-8ca9-4f18-a354-6f3f7c76f740",
   "metadata": {},
   "source": [
    "Q1). What is multithreading in python? why is it used? Name the module used to handle threads in python"
   ]
  },
  {
   "cell_type": "markdown",
   "id": "189a5646-941b-428c-8a22-de94447e7d59",
   "metadata": {},
   "source": [
    "A1. Python multithreading refers to a concept where two or more threads are can be  initiated and completed in an overlapping periods on\n",
    "    a single processor/core. This is achived thru operating system by switching control of CPU between threads.\n",
    "    \n",
    "    The main purpose of multithreading is to reduce a program’s runtime, which means that since the processor runs the independent threads concurrently, processor need less time to run the entire program and accomplish the main task. In summary, multithreading helps to save time and improve performance. \n",
    "    \n",
    "    There are 3 modules in Python that supports threads.\n",
    "    a). thread\n",
    "    b). threading\n",
    "    c). concurrent.futures"
   ]
  },
  {
   "cell_type": "markdown",
   "id": "b42b56c0-4e01-495d-99ad-d960a979c997",
   "metadata": {},
   "source": [
    "Q2. Why threading module used? Write the use of the following functions\n",
    "    activeCount()\n",
    "    currentThread()\n",
    "    enumerate()\n",
    "    "
   ]
  },
  {
   "cell_type": "markdown",
   "id": "1362e832-40ff-4a12-b273-98b791b7f8ce",
   "metadata": {},
   "source": [
    "A2. threading module is used for creating and managing threads. It is much improved, high-level module for implementing serious multithreading programs in Python.\n",
    "\n",
    "active_count() - It is used to get number of thread objects currently alive\n",
    "\n",
    "current_thread() - It returns current thread corresponding to caller's thread of control\n",
    "\n",
    "enumerate() - It returns a list of all threads currently alive, including the main thread. Terminated threads and threads that have not yet  been started are excluded"
   ]
  },
  {
   "cell_type": "markdown",
   "id": "209dfe64-81fb-4f1d-9418-8d405a7daabb",
   "metadata": {},
   "source": [
    "Q3). Explain the following functions\n",
    "\n",
    "run()\n",
    "\n",
    "start()\n",
    "\n",
    "join()\n",
    "\n",
    "isAlive()"
   ]
  },
  {
   "cell_type": "markdown",
   "id": "048764af-4f7e-4b5a-abed-1842cc68491d",
   "metadata": {},
   "source": [
    "A3. run() - This method denotes the activity of a thread and should be overridden by a class that extends the Thread class.\n",
    "    \n",
    "    start() - It starts thread's activity by calling the run method internally.\n",
    "    \n",
    "    join() - It blocks the execution of other code until the thread on which the join() method is called gets terminated/finished/time out.\n",
    "    \n",
    "    is_alive() - Returns whether thread is alive or not"
   ]
  },
  {
   "cell_type": "markdown",
   "id": "a7d639b2-915a-4ff9-a25a-5a752e95039d",
   "metadata": {},
   "source": [
    "Q4. Write a python program to create two threads. Thread one must print the list of squares and thread two must print the list of cubes\n"
   ]
  },
  {
   "cell_type": "code",
   "execution_count": 43,
   "id": "7d7f107d-a62a-446c-a7aa-ef23e4b5bbde",
   "metadata": {},
   "outputs": [],
   "source": [
    "import threading\n",
    "import time\n",
    "import concurrent.futures\n",
    "\n",
    "l = [1,2,3,4,5]"
   ]
  },
  {
   "cell_type": "code",
   "execution_count": 51,
   "id": "cd5833ff-ed52-47a5-8ca6-520971df332e",
   "metadata": {},
   "outputs": [],
   "source": [
    "def print_square(l):\n",
    "    for i in l:\n",
    "        print(f' Square of {i} = {i*i}')\n",
    "        time.sleep(0.5)           "
   ]
  },
  {
   "cell_type": "code",
   "execution_count": 52,
   "id": "66d1a7f9-6366-4841-a0e5-685f488e074d",
   "metadata": {},
   "outputs": [],
   "source": [
    "def print_cube(l):\n",
    "     for i in l:\n",
    "        print(f' Cube of {i} = {i*i*i}')\n",
    "        time.sleep(0.5)        "
   ]
  },
  {
   "cell_type": "code",
   "execution_count": 53,
   "id": "1c361e63-3821-459c-852d-1cd8603161c3",
   "metadata": {},
   "outputs": [
    {
     "name": "stdout",
     "output_type": "stream",
     "text": [
      " Square of 1 = 1\n",
      " Cube of 1 = 1\n",
      " Square of 2 = 4\n",
      " Cube of 2 = 8\n",
      " Square of 3 = 9\n",
      " Cube of 3 = 27\n",
      " Square of 4 = 16\n",
      " Cube of 4 = 64\n",
      " Square of 5 = 25\n",
      " Cube of 5 = 125\n",
      "\n",
      " Total time of execution: 2.504169225692749\n"
     ]
    }
   ],
   "source": [
    "# Using Threading module\n",
    "\n",
    "sq_thread = threading.Thread(target=print_square, args=(l,))\n",
    "cu_thread = threading.Thread(target=print_cube, args=(l,))\n",
    "\n",
    "start = time.time()\n",
    "\n",
    "sq_thread.start()\n",
    "cu_thread.start()\n",
    "\n",
    "sq_thread.join()\n",
    "cu_thread.join()\n",
    "\n",
    "end = time.time()\n",
    "\n",
    "print(f'\\n Total time of execution: {end-start}')"
   ]
  },
  {
   "cell_type": "code",
   "execution_count": 54,
   "id": "d745a70b-85f4-4e1f-8608-5ce9c6a2137e",
   "metadata": {},
   "outputs": [
    {
     "name": "stdout",
     "output_type": "stream",
     "text": [
      " Square of 1 = 1\n",
      " Cube of 1 = 1\n",
      " Square of 2 = 4\n",
      " Cube of 2 = 8\n",
      " Square of 3 = 9\n",
      " Cube of 3 = 27\n",
      " Square of 4 = 16\n",
      " Cube of 4 = 64\n",
      " Square of 5 = 25 Cube of 5 = 125\n",
      "\n",
      "\n",
      " Total time of execution: 2.5049500465393066\n"
     ]
    }
   ],
   "source": [
    "# Using concurrent.futures\n",
    "\n",
    "start = time.time()\n",
    "with concurrent.futures.ThreadPoolExecutor() as executor:\n",
    "    executor.submit(print_square, l)\n",
    "    executor.submit(print_cube,l)\n",
    "end = time.time()\n",
    "\n",
    "print(f'\\n Total time of execution: {end-start}')"
   ]
  },
  {
   "cell_type": "markdown",
   "id": "aee3fafe-b638-45e3-b0a2-7952249f7378",
   "metadata": {},
   "source": [
    "Q5). State advantages and disadvantages of multithreading\n",
    "\n",
    "A5). Advantages - 1). Multithreading reduces over all execution time of a program, thus improving performance and saving time. Usually multithreading is applied to run I/O bound tasks concurrently to minimize CPU idle time.\n",
    "\n",
    "    2). Threads can be used to break up a task into smaller units that can be executed concurrently.\n",
    "    \n",
    "    3)Threads execute withing the process and share the same context. Therefore it is easy to share information and communicate with other threads."
   ]
  },
  {
   "cell_type": "markdown",
   "id": "fcc8e225-eef3-490c-ab7b-e0ec262ff776",
   "metadata": {},
   "source": [
    "Disadvantage: 1). With poor design and more threads, code becomes difficult to dubug and maintain.\n",
    "\n",
    "              2). Increased overhead cost -  creating and maintaining threads puts load on system in terms of memory and CPU\n",
    "              \n",
    "              3). Increased potential of deadlock due to shared resources\n",
    "              \n",
    "              4). Sometimes reduce the performance of program especially if the CPU intensive tasks are multithreaded"
   ]
  },
  {
   "cell_type": "markdown",
   "id": "5c6a58ea-44da-4c0c-b0d2-399c7eeee1d2",
   "metadata": {},
   "source": [
    "Q6). Explain deadlocks and race conditions.\n",
    "\n",
    "A6. Deadlocks: A deadlock is a concurrency failure mode where a thread or threads wait for a condition that never occurs. The result is that the deadlock threads are unable to progress and the program is stuck or frozen and must be terminated forcefully.\n",
    "\n",
    "Common examples of the cause of threading deadlocks are:\n",
    "\n",
    "A thread that waits on itself (e.g. attempts to acquire the same mutex lock twice).\n",
    "Threads that wait on each other (e.g. A waits on B, B waits on A).\n",
    "Thread that fails to release a resource (e.g. mutex lock, semaphore, condition, event, etc.).\n",
    "\n",
    "    "
   ]
  },
  {
   "cell_type": "markdown",
   "id": "80eb0b45-3f2c-4c99-baee-647448ffd2e3",
   "metadata": {},
   "source": [
    "  Race Conditions: A race condition is an unwanted state of program which occurs when two or more threads try to access and udpate same shared variable. For eg. one thread is adding value to a variable, while other thread is substracting value from same variable resulting in inconsistent value of shared variable.\n",
    "  \n",
    "  Race conditions are usually avoided by locking the critical section of the code. A critical section can be protected by a mutex lock which will ensure that one and only one thread can access the shared variable at a time."
   ]
  },
  {
   "cell_type": "code",
   "execution_count": null,
   "id": "107c919a-393c-47cf-b891-c3978cfbf103",
   "metadata": {},
   "outputs": [],
   "source": []
  }
 ],
 "metadata": {
  "kernelspec": {
   "display_name": "Python 3 (ipykernel)",
   "language": "python",
   "name": "python3"
  },
  "language_info": {
   "codemirror_mode": {
    "name": "ipython",
    "version": 3
   },
   "file_extension": ".py",
   "mimetype": "text/x-python",
   "name": "python",
   "nbconvert_exporter": "python",
   "pygments_lexer": "ipython3",
   "version": "3.10.8"
  }
 },
 "nbformat": 4,
 "nbformat_minor": 5
}
