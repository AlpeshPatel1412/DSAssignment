{
 "cells": [
  {
   "cell_type": "markdown",
   "id": "b8c5e0bc-a304-4acb-ac45-05f651d0c7eb",
   "metadata": {},
   "source": [
    "### Q1. What are the three measures of central tendency?"
   ]
  },
  {
   "cell_type": "markdown",
   "id": "3b5ca4d3-5345-46e2-9b9d-ade2c469e97d",
   "metadata": {},
   "source": [
    "A1. Mean, Median and Modoe are three measures of central tendency."
   ]
  },
  {
   "cell_type": "markdown",
   "id": "d8e46dcb-8508-4785-ad75-b6923aea43de",
   "metadata": {},
   "source": [
    "### Q2. What is the difference between the mean, median, and mode? How are they used to measure the central tendency of a dataset?"
   ]
  },
  {
   "cell_type": "markdown",
   "id": "28a74f9a-077e-49b3-a368-6a9ce6226171",
   "metadata": {},
   "source": [
    "A2. mean, median and mode are all measures of central tendency.\n",
    "\n",
    "Mean - The mean is equal to the sum of all the values in the data set divided by the number of values in the data set. \n",
    "It includes every value in the data set as part of the calculation.\n",
    "\n",
    "Median - The median is the middle value of a set of data that has been arranged in increasing order of magnitude.\n",
    "\n",
    "Mode - The mode is the most typical value, the one that appears the most often in the data set."
   ]
  },
  {
   "cell_type": "markdown",
   "id": "e43014e1-0db7-4a9e-aed6-902bf6e2ff62",
   "metadata": {},
   "source": [
    "The mean, median and mode are all valid measures of central tendency, but under different conditions, some measures of central tendency become more appropriate to use than others.\n",
    "\n",
    "Mean is the most appropriate measure of central tendency for Symmetric distribution, Continuous data\n",
    "\n",
    "Medain is more suitable in case of Skewed distribution, Continuous data and Ordinal data\n",
    "\n",
    "Mode is only suitable measure for categorical/nominal data"
   ]
  },
  {
   "cell_type": "code",
   "execution_count": null,
   "id": "b82ffcad-9a14-42ab-831d-88af80cf69d4",
   "metadata": {},
   "outputs": [],
   "source": []
  },
  {
   "cell_type": "markdown",
   "id": "a1ff9f44-9831-4763-be2b-707bde1cf1ed",
   "metadata": {},
   "source": [
    "### Q3. Measure the three measures of central tendency for the given height data:\n",
    "[178,177,176,177,178.2,178,175,179,180,175,178.9,176.2,177,172.5,178,176.5]"
   ]
  },
  {
   "cell_type": "code",
   "execution_count": 3,
   "id": "e22ae9e3-279c-4f9a-a08e-63387c23da0e",
   "metadata": {},
   "outputs": [],
   "source": [
    "import numpy as np"
   ]
  },
  {
   "cell_type": "code",
   "execution_count": 4,
   "id": "cbf6a0f3-ee9f-4bec-9e59-ad7dd3fe9b48",
   "metadata": {},
   "outputs": [],
   "source": [
    "height_list = [178,177,176,177,178.2,178,175,179,180,175,178.9,176.2,177,172.5,178,176.5]"
   ]
  },
  {
   "cell_type": "code",
   "execution_count": 7,
   "id": "a22fd921-9ba2-4f3d-a077-841d6ed7a3fc",
   "metadata": {},
   "outputs": [
    {
     "data": {
      "text/plain": [
       "177.01875"
      ]
     },
     "execution_count": 7,
     "metadata": {},
     "output_type": "execute_result"
    }
   ],
   "source": [
    "mean_height = np.mean(height_list)\n",
    "mean_height"
   ]
  },
  {
   "cell_type": "code",
   "execution_count": 8,
   "id": "e08695a8-e7f1-45ac-b64b-0a4c629bb3c0",
   "metadata": {},
   "outputs": [
    {
     "data": {
      "text/plain": [
       "177.0"
      ]
     },
     "execution_count": 8,
     "metadata": {},
     "output_type": "execute_result"
    }
   ],
   "source": [
    "median_height = np.median(height_list)\n",
    "median_height"
   ]
  },
  {
   "cell_type": "code",
   "execution_count": 16,
   "id": "2bccdbaa-1b79-409e-9b6b-7b6246b6b935",
   "metadata": {},
   "outputs": [],
   "source": [
    "import scipy.stats as sp"
   ]
  },
  {
   "cell_type": "code",
   "execution_count": 24,
   "id": "8bf207db-c100-4339-b93d-a73a9eb18584",
   "metadata": {},
   "outputs": [
    {
     "data": {
      "text/plain": [
       "177.0"
      ]
     },
     "execution_count": 24,
     "metadata": {},
     "output_type": "execute_result"
    }
   ],
   "source": [
    "mode = sp.mode(height_list,keepdims=False)\n",
    "mode_height = mode[0]\n",
    "mode_height\n"
   ]
  },
  {
   "cell_type": "code",
   "execution_count": null,
   "id": "0a01273d-bd9b-4af1-ad50-50961a976ea2",
   "metadata": {},
   "outputs": [],
   "source": []
  },
  {
   "cell_type": "markdown",
   "id": "7e463253-2e0d-48e3-a81e-e07a1a32a99c",
   "metadata": {},
   "source": [
    "### Q4. Find the standard deviation for the given data:\n",
    "[178,177,176,177,178.2,178,175,179,180,175,178.9,176.2,177,172.5,178,176.5]"
   ]
  },
  {
   "cell_type": "code",
   "execution_count": null,
   "id": "07d1a0ab-3d54-4b50-a1ea-47adfb96c421",
   "metadata": {},
   "outputs": [],
   "source": [
    "import numpy as np"
   ]
  },
  {
   "cell_type": "code",
   "execution_count": 25,
   "id": "9f6edafe-a71d-4e26-9d3e-a9ecbf6306c4",
   "metadata": {},
   "outputs": [],
   "source": [
    "height_list = [178,177,176,177,178.2,178,175,179,180,175,178.9,176.2,177,172.5,178,176.5]"
   ]
  },
  {
   "cell_type": "code",
   "execution_count": 26,
   "id": "9d9a3303-97a0-4255-b3e0-1a78d27c3caf",
   "metadata": {},
   "outputs": [
    {
     "data": {
      "text/plain": [
       "1.7885814036548633"
      ]
     },
     "execution_count": 26,
     "metadata": {},
     "output_type": "execute_result"
    }
   ],
   "source": [
    "np.std(height_list)"
   ]
  },
  {
   "cell_type": "code",
   "execution_count": null,
   "id": "8214d96c-0ed1-4ecc-8f41-b2d65a3127d2",
   "metadata": {},
   "outputs": [],
   "source": []
  },
  {
   "cell_type": "markdown",
   "id": "1f9f59fa-a623-4682-a4af-b0f4807da3d3",
   "metadata": {},
   "source": [
    "### Q5. How are measures of dispersion such as range, variance, and standard deviation used to describe the spread of a dataset? Provide an example."
   ]
  },
  {
   "cell_type": "markdown",
   "id": "f8ddc36b-9992-4218-a759-3f9a7492795b",
   "metadata": {},
   "source": [
    "A5. Range - The range of a dataset is the difference between the largest and smallest values in that dataset. Wide range indicates higher spread while small range indicates lower speard in the dataset.\n",
    "\n",
    "Range is based on only the two most extreme values in the dataset, which makes it very susceptible to outliers. If one of those numbers is unusually high or low, it affects the entire range even if it is atypical.\n",
    "\n",
    "marks = {89,78,90,84,92,98,77}\n",
    "here range is 98-77 = 21"
   ]
  },
  {
   "cell_type": "markdown",
   "id": "29dbb6fc-6692-4e56-a7e9-43af1f1469fa",
   "metadata": {},
   "source": [
    "Variance - Variance is the average squared difference of each value of the dataset from the mean.\n",
    "variance is the sum of the squared deviations (distances) of each score from the mean divided by the number of data points in the dataset\n",
    "\n",
    "It measures how far a set of (random) numbers are spread out from their mean value.  While higher values of the variance indicate greater spread, there is no intuitive interpretation for specific values because the variance is in squared units rather the original units of the data.\n"
   ]
  },
  {
   "cell_type": "code",
   "execution_count": 4,
   "id": "17929652-9ac2-42ab-a69f-461c886e3fb0",
   "metadata": {},
   "outputs": [],
   "source": [
    "import numpy as np\n",
    "marks = [89,78,90,84,92,98,77]"
   ]
  },
  {
   "cell_type": "code",
   "execution_count": 7,
   "id": "f815ee45-df0f-40b2-b639-1c2250335e34",
   "metadata": {},
   "outputs": [],
   "source": [
    "v = np.var(marks)\n",
    "m = np.mean(marks)"
   ]
  },
  {
   "cell_type": "code",
   "execution_count": 9,
   "id": "90565c6c-97aa-4231-8124-83e76c450454",
   "metadata": {},
   "outputs": [
    {
     "name": "stdout",
     "output_type": "stream",
     "text": [
      "mean - 86.85714285714286\n",
      "variance - 49.836734693877546\n"
     ]
    }
   ],
   "source": [
    "print('mean - {}'.format(m))\n",
    "print('variance - {}'.format(v))"
   ]
  },
  {
   "cell_type": "markdown",
   "id": "eb1b3c39-7e94-44f2-9874-310b0b22df00",
   "metadata": {},
   "source": [
    "Standard Deviation: The standard deviation is the standard or typical difference between each data point and the mean. It is calculated by taking square root of the variance.\n",
    "\n",
    "When the values in a dataset are grouped closer together, you have a smaller standard deviation. On the other hand, when the values are spread out more, the standard deviation is larger because the standard distance is greater."
   ]
  },
  {
   "cell_type": "code",
   "execution_count": 11,
   "id": "3a1632cf-12ad-45f3-b7cc-1cd9dd90d0d5",
   "metadata": {},
   "outputs": [
    {
     "name": "stdout",
     "output_type": "stream",
     "text": [
      "std - 7.059513771774763\n"
     ]
    }
   ],
   "source": [
    "print('std - {}'.format(np.std(marks)))"
   ]
  },
  {
   "cell_type": "code",
   "execution_count": null,
   "id": "126ff3bb-179a-4ca8-85a6-15c94bc14a09",
   "metadata": {},
   "outputs": [],
   "source": []
  },
  {
   "cell_type": "markdown",
   "id": "3b908030-f030-4ba1-9315-d0f7ff1f939b",
   "metadata": {},
   "source": [
    "### Q6. What is a Venn diagram?"
   ]
  },
  {
   "cell_type": "markdown",
   "id": "b4efc81e-402c-4a11-a443-2b21579baf7b",
   "metadata": {},
   "source": [
    "A6. A Venn diagram is a visual representation of similarities and differences between two or more concepts. It depicts relationships between two or more sets of data by using circles as an illustration. Each circle represents one particular set of data. Overlapping circles represent the similarities, while detached circles represent the difference between sets or concepts.\n",
    "\n",
    "With the help of a Venn diagram, you can easily describe any relationship between two or more concepts. Using circles for the representation of data makes it simple to depict similarities between two or more factions"
   ]
  },
  {
   "cell_type": "markdown",
   "id": "23f88395-8287-4c12-9157-c17939645813",
   "metadata": {},
   "source": [
    "### Q7. For the two given sets A = (2,3,4,5,6,7) & B = (0,2,6,8,10). Find:\n",
    "(i) A ⋂ B\n",
    "(ii) A ⋃ B"
   ]
  },
  {
   "cell_type": "markdown",
   "id": "5e1844af-cda9-4a10-80d1-3435a4652432",
   "metadata": {},
   "source": [
    "A7.\n",
    "\n",
    "A ⋂ B = {2,6}\n",
    "\n",
    "A ⋃ B = {0,2,3,4,5,6,7,8,10}"
   ]
  },
  {
   "cell_type": "markdown",
   "id": "94f0ddfb-e667-4987-9a62-560e2f888f4b",
   "metadata": {},
   "source": [
    "### Q8. What do you understand about skewness in data?"
   ]
  },
  {
   "cell_type": "markdown",
   "id": "70bb2dea-0005-4d09-82a3-dffbc151a133",
   "metadata": {},
   "source": [
    "A8. Skewness is a measurement of the distortion of symmetrical distribution or asymmetry in a data set. It defines the asymmetry of a distribution.\n",
    "\n",
    "Skewness represents an imbalance of a normal distribution. This means that the data set has outliers or extreme values in its distribution. \n",
    "\n",
    "Skewness is demonstrated on a bell curve when data points are not distributed symmetrically to the left and right sides of the median on a bell curve.\n",
    "\n",
    "Negative skewness brings the average or mean of the data set toward the left, and the mode will be at the highest point on the right side, with the median still at the middle portion of the graph. On the other hand, Positive skewness does the opposite. It moves the mean toward the median's right side, and the mode will be at the highest point on the left side. "
   ]
  },
  {
   "cell_type": "markdown",
   "id": "9cdfd173-81d2-424c-bb12-81450966851a",
   "metadata": {},
   "source": [
    "### Q9. If a data is right skewed then what will be the position of median with respect to mean?"
   ]
  },
  {
   "cell_type": "markdown",
   "id": "5f19a7f2-62e9-493b-98f7-e6671981dd32",
   "metadata": {},
   "source": [
    "A9. For right skewed distribution, the median is on left side of the mean on the bell curve. In other words, median < mean"
   ]
  },
  {
   "cell_type": "markdown",
   "id": "c3f34ece-8c2c-440b-9b48-3a20a5e53b7c",
   "metadata": {},
   "source": [
    "### Q10. Explain the difference between covariance and correlation. How are these measures used in statistical analysis?"
   ]
  },
  {
   "cell_type": "markdown",
   "id": "44cfba5c-4d84-452e-9ac7-823e540de1a7",
   "metadata": {},
   "source": [
    "The key differences between covariance and correlation can be summarized as below:\n",
    "\n",
    "What do they measure? Covariance measures whether a variation in one variable results in a variation in another variable; for example, looking at whether an increase in one variable results in an increase, decrease, or no change in the other variable. Correlation measures the direction as well as the strength/magnitude of the relationship between two variables (i.e. how strongly these two variables are related to each other).\n",
    "\n",
    "Relationship constraints: Covariance deals with the linear relationship of only two variables in the dataset, whereas correlation can involve two or multiple variables or data sets and their linear relationships.\n",
    "    \n",
    "Value range: Although both correlation coefficient and covariance are measures of linear association, correlation coefficients are standardized, therefore displaying an absolute value within a definite range from -1 to 1. On the other hand, covariance values are not standardized and use an indefinite range from -∞ to +∞ , which makes the interpretation of covariance a bit tricky.\n",
    "    \n",
    "Measurement units: Correlation is dimensionless, i.e. it is a unit-free measure of the relationship between variables. In contrast,  covariance is in units, which is formed by multiplying the unit of one variable by the unit of another variable.\n",
    "    \n",
    "Change in scale: Covariance is affected by the change in scale, i.e. if all the values of one variable are multiplied by a constant and all the values of another variable are multiplied by a similar or different constant, then the covariance is changed. Conversely, correlation is not affected by the change in scale."
   ]
  },
  {
   "cell_type": "markdown",
   "id": "b661164d-b76a-4199-9a2b-7563bebc8cd9",
   "metadata": {},
   "source": [
    "Application of covariance and correlation:\n",
    "    \n",
    "\n",
    "Comparing samples from two or more different populations. This is useful because it helps in analyzing common trends and patterns in different samples.\n",
    "\n",
    "In data-driven industries, covariance and correlation help in identifying multivariate data in order to process data and effectively perform analytical operations.\n",
    "\n",
    "Correlation is a key method for investigating relations between two variables before implementing statistical modeling.\n",
    "\n",
    "PCA (principal component analysis) is implemented using covariance and correlation in order to shrink dimensions of large datasets to enhance interpretability. Data scientists use PCA to carry out predictive analysis and exploratory data analysis.\n",
    "\n",
    "Analytical processes such as multivariate analysis and feature selection are accomplished by employing covariance and correlation methods.    "
   ]
  },
  {
   "cell_type": "markdown",
   "id": "1a1cb51f-2805-4ecc-baac-cbc1dba35951",
   "metadata": {},
   "source": [
    "### Q11. What is the formula for calculating the sample mean? Provide an example calculation for a dataset."
   ]
  },
  {
   "cell_type": "markdown",
   "id": "5bcb3c02-d472-4aa7-a048-4fb25eb590c1",
   "metadata": {},
   "source": [
    "A11. \n",
    "\n",
    "x̄ = ( Σ xi ) / n\n",
    "\n",
    "Where, ∑xi = sum of data values\n",
    "\n",
    "n = number of date values\n",
    "\n",
    "test_score = {78, 89, 93, 95, 88, 78, 95}\n",
    "\n",
    "x̄ = (78 + 89 + 93 + 95 +  88 + 78 + 95)/7 \n",
    "\n",
    "  = 616/7\n",
    "  \n",
    "  = 88"
   ]
  },
  {
   "cell_type": "code",
   "execution_count": null,
   "id": "444d05f9-e995-434e-9624-90867a4094fd",
   "metadata": {},
   "outputs": [],
   "source": []
  },
  {
   "cell_type": "markdown",
   "id": "a37d5fea-f52a-49e1-8dc8-f49d7e63a45d",
   "metadata": {},
   "source": [
    "Q12. For a normal distribution data what is the relationship between its measure of central tendency?"
   ]
  },
  {
   "cell_type": "markdown",
   "id": "91505efa-d361-4720-bdfc-dbf40ddd708f",
   "metadata": {},
   "source": [
    "A12. For a normal distribution, the measure of central tendency (mean, median and mode) are equal\n",
    "\n",
    "mean = median = mode"
   ]
  },
  {
   "cell_type": "code",
   "execution_count": null,
   "id": "114b266b-c782-4c27-901c-3c43c647572a",
   "metadata": {},
   "outputs": [],
   "source": []
  },
  {
   "cell_type": "markdown",
   "id": "df835ddc-b46e-4998-9622-28d880875bbd",
   "metadata": {},
   "source": [
    "Q13. How is covariance different from correlation?"
   ]
  },
  {
   "cell_type": "markdown",
   "id": "26a2f7bc-a2de-4b97-b416-60a9b5350a0b",
   "metadata": {},
   "source": [
    "The key differences between covariance and correlation can be summarized as below:\n",
    "\n",
    "What do they measure? Covariance measures whether a variation in one variable results in a variation in another variable; for example, looking at whether an increase in one variable results in an increase, decrease, or no change in the other variable. Correlation measures the direction as well as the strength/magnitude of the relationship between two variables (i.e. how strongly these two variables are related to each other).\n",
    "\n",
    "Relationship constraints: Covariance deals with the linear relationship of only two variables in the dataset, whereas correlation can involve two or multiple variables or data sets and their linear relationships.\n",
    "    \n",
    "Value range: Although both correlation coefficient and covariance are measures of linear association, correlation coefficients are standardized, therefore displaying an absolute value within a definite range from -1 to 1. On the other hand, covariance values are not standardized and use an indefinite range from -∞ to +∞ , which makes the interpretation of covariance a bit tricky.\n",
    "    \n",
    "Measurement units: Correlation is dimensionless, i.e. it is a unit-free measure of the relationship between variables. In contrast,  covariance is in units, which is formed by multiplying the unit of one variable by the unit of another variable.\n",
    "    \n",
    "Change in scale: Covariance is affected by the change in scale, i.e. if all the values of one variable are multiplied by a constant and all the values of another variable are multiplied by a similar or different constant, then the covariance is changed. Conversely, correlation is not affected by the change in scale."
   ]
  },
  {
   "cell_type": "code",
   "execution_count": null,
   "id": "cb9d2259-d9fc-4ccc-bca3-258ac1dc6e19",
   "metadata": {},
   "outputs": [],
   "source": []
  },
  {
   "cell_type": "markdown",
   "id": "58bca8bd-7987-4535-b59e-5fe27d031abc",
   "metadata": {},
   "source": [
    "### Q14. How do outliers affect measures of central tendency and dispersion? Provide an example."
   ]
  },
  {
   "cell_type": "markdown",
   "id": "a3d817dd-03df-454c-8fce-425d7ae3b2d4",
   "metadata": {},
   "source": [
    "A14. Effect of outlier on measures of central tendency "
   ]
  },
  {
   "cell_type": "markdown",
   "id": "ca6bf287-6423-4d60-8412-71fb87e451f0",
   "metadata": {
    "jupyter": {
     "source_hidden": true
    },
    "tags": []
   },
   "source": [
    "Median - Median has limited effect of outlier becuase median is just a middle vaule of a sorted dataset, and it does not depend on all the values\n",
    "\n",
    "Mean - Mean has significan effect of outlier since mean takes into account all the values in the dataset.\n",
    "\n",
    "Let's observer the effect of outlier on mean and median"
   ]
  },
  {
   "cell_type": "code",
   "execution_count": 7,
   "id": "17d8825d-2f1c-4dac-bdae-d0b3671b3633",
   "metadata": {},
   "outputs": [
    {
     "name": "stdout",
     "output_type": "stream",
     "text": [
      "Measure of central tendency without outlier in dataset\n",
      "\n",
      "Mean marks - 58.125\n",
      "Median marks - 58.5\n",
      "\n",
      "Measure of central tendency with outlier in dataset\n",
      "\n",
      "Mean marks - 66.2\n",
      "Median marks - 59.5\n"
     ]
    }
   ],
   "source": [
    "import numpy as np\n",
    "marks = [50,60,64,59,54,66,54,58]\n",
    "marks1 = [50,60,64,59,54,66,99,98,54,58]\n",
    "\n",
    "print('Measure of central tendency without outlier in dataset\\n')\n",
    "print('Mean marks - {}'.format(np.mean(marks)))\n",
    "print('Median marks - {}'.format(np.median(marks)))\n",
    "\n",
    "print('\\nMeasure of central tendency with outlier in dataset\\n')\n",
    "print('Mean marks - {}'.format(np.mean(marks1)))\n",
    "print('Median marks - {}'.format(np.median(marks1)))"
   ]
  },
  {
   "cell_type": "markdown",
   "id": "d0f68ca2-b1a5-4568-a89c-c6f11d05f29a",
   "metadata": {},
   "source": [
    "#### Effect of outlier on measures of dispersion\n",
    "\n",
    "The interquartile range (IQR) is a robust measure of variability. It is not influenced dramatically by outliers because it doesn’t depend on every value.\n",
    "\n",
    "Variance and Standard deviation are volatile with outliers since they depend on each value of the dataset and calcualte deviation of each datavalue from the mean.\n",
    "\n",
    "Below code shows the effect of outliers on measure of dispersion."
   ]
  },
  {
   "cell_type": "code",
   "execution_count": 22,
   "id": "0d552c29-3b62-4590-abd1-cff6150cac91",
   "metadata": {},
   "outputs": [
    {
     "name": "stdout",
     "output_type": "stream",
     "text": [
      "Measure of dispersion without outlier in dataset\n",
      "\n",
      "Variance - 25.109375\n",
      "STD - 5.010925563206861\n",
      "IQR - 6\n",
      "\n",
      "Measure of dispersion with outlier in dataset\n",
      "\n",
      "Variance - 280.9600000000001\n",
      "STD  - 16.761861471805574\n",
      "IQR - 12\n"
     ]
    }
   ],
   "source": [
    "print('Measure of dispersion without outlier in dataset\\n')\n",
    "print('Variance - {}'.format(np.var(marks)))\n",
    "print('STD - {}'.format(np.std(marks)))\n",
    "print('IQR - {}'.format(np.percentile(marks, 75, method = 'inverted_cdf') - np.percentile(marks, 25, method = 'inverted_cdf')))\n",
    "\n",
    "print('\\nMeasure of dispersion with outlier in dataset\\n')\n",
    "print('Variance - {}'.format(np.var(marks1)))\n",
    "print('STD  - {}'.format(np.std(marks1)))\n",
    "print('IQR - {}'.format(np.percentile(marks1, 75, method = 'inverted_cdf') - np.percentile(marks1, 25, method = 'inverted_cdf')))\n"
   ]
  },
  {
   "cell_type": "code",
   "execution_count": null,
   "id": "5efa1563-10dd-4aeb-b07f-107247f30e82",
   "metadata": {},
   "outputs": [],
   "source": []
  }
 ],
 "metadata": {
  "kernelspec": {
   "display_name": "Python 3 (ipykernel)",
   "language": "python",
   "name": "python3"
  },
  "language_info": {
   "codemirror_mode": {
    "name": "ipython",
    "version": 3
   },
   "file_extension": ".py",
   "mimetype": "text/x-python",
   "name": "python",
   "nbconvert_exporter": "python",
   "pygments_lexer": "ipython3",
   "version": "3.10.8"
  }
 },
 "nbformat": 4,
 "nbformat_minor": 5
}
