{
 "cells": [
  {
   "cell_type": "markdown",
   "id": "a3127731-d5d5-4266-8bcf-f0c728c48ea7",
   "metadata": {},
   "source": [
    "Q1, Create a vehicle class with an init method having instance variables as name_of_vehicle, max_speed\n",
    "and average_of_vehicle.\n",
    "\n",
    "A1:"
   ]
  },
  {
   "cell_type": "code",
   "execution_count": 1,
   "id": "d902df74-14a9-4d3c-8d91-52b468e5affd",
   "metadata": {},
   "outputs": [],
   "source": [
    "class vehicle:\n",
    "    def __init__(self,name_of_vehicle,max_speed,average_of_vehicle):\n",
    "        self.name_of_vehicle = name_of_vehicle\n",
    "        self.max_speed = max_speed\n",
    "        self.average_of_vehicle = average_of_vehicle"
   ]
  },
  {
   "cell_type": "markdown",
   "id": "b6c5b922-7139-4778-a3eb-0ded25535c1a",
   "metadata": {},
   "source": [
    "Q2. Create a child class car from the vehicle class created in Que 1, which will inherit the vehicle class.\n",
    "Create a method named seating_capacity which takes capacity as an argument and returns the name of\n",
    "the vehicle and its seating capacity.\n",
    "\n",
    "A2:"
   ]
  },
  {
   "cell_type": "code",
   "execution_count": 25,
   "id": "d7864aab-caea-4aa8-ac5c-4c4074df284f",
   "metadata": {},
   "outputs": [],
   "source": [
    "class car(vehicle):    \n",
    "    def seating_capacity(self,capacity):\n",
    "        return self.name_of_vehicle, capacity"
   ]
  },
  {
   "cell_type": "code",
   "execution_count": 26,
   "id": "9ee775f9-64b0-49bd-b859-0f541b102a84",
   "metadata": {},
   "outputs": [],
   "source": [
    "obj = car(\"Nissan Rogue\",200,12)"
   ]
  },
  {
   "cell_type": "code",
   "execution_count": 20,
   "id": "0de29ead-1bb2-4e63-ad03-77e903d45184",
   "metadata": {},
   "outputs": [
    {
     "data": {
      "text/plain": [
       "('Nissan Rogue', 5)"
      ]
     },
     "execution_count": 20,
     "metadata": {},
     "output_type": "execute_result"
    }
   ],
   "source": [
    "obj.seating_capacity(5)"
   ]
  },
  {
   "cell_type": "markdown",
   "id": "b41c17aa-d46d-4937-9936-9424362fb836",
   "metadata": {},
   "source": [
    "Q3. What is multiple inheritance? Write a python code to demonstrate multiple inheritance.\n",
    "\n",
    "A3: When a class is derived from more than one base classses, it it known as multiple inheritance.\n"
   ]
  },
  {
   "cell_type": "code",
   "execution_count": 33,
   "id": "6cc058a8-2de2-4fbe-83b8-e0f8ef02991b",
   "metadata": {},
   "outputs": [],
   "source": [
    "# Base class 1\n",
    "\n",
    "class base1():\n",
    "    def fun1(self):\n",
    "        print(\"The function in base class 1\")"
   ]
  },
  {
   "cell_type": "code",
   "execution_count": 34,
   "id": "5a5c6826-3224-4ff4-9f5f-16bbb8536128",
   "metadata": {},
   "outputs": [],
   "source": [
    "# Base class 2\n",
    "class base2():\n",
    "    def fun2(self):\n",
    "        print(\"The function in base class 2\")"
   ]
  },
  {
   "cell_type": "code",
   "execution_count": 35,
   "id": "0a8e3ac6-c8f9-4c30-ab57-f22d3f230b1b",
   "metadata": {},
   "outputs": [],
   "source": [
    "# Derive class\n",
    "\n",
    "class derived(base1,base2):\n",
    "    def fun3(self):\n",
    "        print(\"The fuction in derived class\")"
   ]
  },
  {
   "cell_type": "code",
   "execution_count": 36,
   "id": "cd753c3f-667f-4ce2-b718-5e1ae7b97cf1",
   "metadata": {},
   "outputs": [],
   "source": [
    "derived_obj = derived()"
   ]
  },
  {
   "cell_type": "code",
   "execution_count": 37,
   "id": "655a0663-b8b6-4cfe-8034-89530a5557cd",
   "metadata": {},
   "outputs": [
    {
     "name": "stdout",
     "output_type": "stream",
     "text": [
      "The function in base class 1\n",
      "The function in base class 2\n",
      "The fuction in derived class\n"
     ]
    }
   ],
   "source": [
    "derived_obj.fun1()\n",
    "derived_obj.fun2()\n",
    "derived_obj.fun3()"
   ]
  },
  {
   "cell_type": "markdown",
   "id": "b2d33753-4c32-46ae-871d-c797a707a942",
   "metadata": {},
   "source": [
    "Q4. What are getter and setter in python? Create a class and create a getter and a setter method in this\n",
    "class.\n",
    "\n",
    "A4: getter and setter are methods used to achieve data encapsulation. i.e. these methods are used to prevent direct access and modification of private data members of the class by external user."
   ]
  },
  {
   "cell_type": "code",
   "execution_count": 62,
   "id": "e1c4ba7b-2c64-4698-ba0b-158036886937",
   "metadata": {},
   "outputs": [],
   "source": [
    "class student():\n",
    "    \n",
    "    __subject = ''\n",
    "    __mark = ''\n",
    "    \n",
    "    def __init__(self,name,age):\n",
    "        self.__name = name\n",
    "        self.__age = age\n",
    "        \n",
    "    def setResult(self,subject,mark):\n",
    "        self.__subject = subject\n",
    "        self.__mark = mark\n",
    "        \n",
    "    def getResult(self):\n",
    "        return self.__subject,self.__mark\n",
    "    \n",
    "    def getDetails(self):\n",
    "        return self.__name, self.__age, self.__subject, self.__mark\n",
    " "
   ]
  },
  {
   "cell_type": "code",
   "execution_count": 63,
   "id": "cdbc90dc-c4ff-490d-949f-1aefc58c6fe4",
   "metadata": {},
   "outputs": [],
   "source": [
    "s = student(\"Tom\",21)"
   ]
  },
  {
   "cell_type": "code",
   "execution_count": 64,
   "id": "9fe33c8a-ca71-49a1-831b-f4123dab83ca",
   "metadata": {},
   "outputs": [],
   "source": [
    "s.setResult(\"Data Science\",90)"
   ]
  },
  {
   "cell_type": "code",
   "execution_count": 65,
   "id": "1156f8b2-da2e-4097-a603-f2d7950c92b8",
   "metadata": {},
   "outputs": [
    {
     "data": {
      "text/plain": [
       "('Data Science', 90)"
      ]
     },
     "execution_count": 65,
     "metadata": {},
     "output_type": "execute_result"
    }
   ],
   "source": [
    "s.getResult()"
   ]
  },
  {
   "cell_type": "code",
   "execution_count": 66,
   "id": "2900f5bb-6baa-446d-92ee-56c1a2c867c1",
   "metadata": {},
   "outputs": [
    {
     "data": {
      "text/plain": [
       "('Tom', 21, 'Data Science', 90)"
      ]
     },
     "execution_count": 66,
     "metadata": {},
     "output_type": "execute_result"
    }
   ],
   "source": [
    "s.getDetails()"
   ]
  },
  {
   "cell_type": "markdown",
   "id": "72bda471-a1a4-4f27-8e9e-bfb63b314069",
   "metadata": {},
   "source": [
    "Q5.What is method overriding in python? Write a python code to demonstrate method overriding.\n",
    "\n",
    "A5: Method overriding is an ability of Python that enables a subclass or child class to provide a specific implementation of a method that is already provided by one of its super-classes or parent classes. When a method in a subclass has the same name, same parameters or signature and same return type as a method in its super-class, then the method in the subclass is said to override the method in the super-class."
   ]
  },
  {
   "cell_type": "code",
   "execution_count": 68,
   "id": "f38b9848-07d9-498d-bdc0-c7d5f7703224",
   "metadata": {},
   "outputs": [],
   "source": [
    "class vehicle:\n",
    "    def drive(self):\n",
    "        print(\"I need human for driving\")"
   ]
  },
  {
   "cell_type": "code",
   "execution_count": 69,
   "id": "3ae70393-b636-405a-900a-1a4c9bf3a8cd",
   "metadata": {},
   "outputs": [],
   "source": [
    "class self_driving_vehicle(vehicle):\n",
    "    def drive(self):\n",
    "        print(\"I am self driving vehicle\")"
   ]
  },
  {
   "cell_type": "code",
   "execution_count": 70,
   "id": "d2745d66-272c-48a7-9b4d-631936cf280a",
   "metadata": {},
   "outputs": [],
   "source": [
    "v = vehicle()\n",
    "sdv = self_driving_vehicle()"
   ]
  },
  {
   "cell_type": "code",
   "execution_count": 71,
   "id": "68d46a20-a4f8-4d35-9f0d-35e214c14970",
   "metadata": {},
   "outputs": [
    {
     "name": "stdout",
     "output_type": "stream",
     "text": [
      "I need human for driving\n",
      "I am self driving vehicle\n"
     ]
    }
   ],
   "source": [
    "v.drive()\n",
    "sdv.drive()"
   ]
  },
  {
   "cell_type": "code",
   "execution_count": null,
   "id": "26e4262d-3c65-4805-b38b-3ef03a4f0101",
   "metadata": {},
   "outputs": [],
   "source": []
  }
 ],
 "metadata": {
  "kernelspec": {
   "display_name": "Python 3 (ipykernel)",
   "language": "python",
   "name": "python3"
  },
  "language_info": {
   "codemirror_mode": {
    "name": "ipython",
    "version": 3
   },
   "file_extension": ".py",
   "mimetype": "text/x-python",
   "name": "python",
   "nbconvert_exporter": "python",
   "pygments_lexer": "ipython3",
   "version": "3.10.8"
  }
 },
 "nbformat": 4,
 "nbformat_minor": 5
}
