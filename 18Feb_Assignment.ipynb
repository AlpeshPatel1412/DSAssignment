{
 "cells": [
  {
   "cell_type": "markdown",
   "id": "6b90ad2a-c082-4a5a-ae43-c3202c7532bf",
   "metadata": {},
   "source": [
    "Q1. What is an API? Give an example, where an API is used in real life."
   ]
  },
  {
   "cell_type": "markdown",
   "id": "a00f713a-f2af-4a6d-8848-0039ec333f7f",
   "metadata": {},
   "source": [
    "A1. API or Application Programming Interface enables differnt applications/software components to communicate with each other using a set of defined rules and protocols. \n",
    "\n",
    "In the context of APIs, the Application refers to any software with a distinct function. Interface can be thought of as a contract of service between two applications. This contract defines how the two communicate with each other using requests and responses. Their API documentation contains information on how developers are to structure those requests and responses.\n",
    "\n",
    "Weather widget/currency exchane app\n",
    "\n",
    "Most of eCommerce websites/apps use API for payment processing, provide shipping status\n",
    "\n",
    "Payment apps like Paypal/Google Pay uses API to communicate with customer's bank\n",
    "\n",
    "Travel/hotel/air ticking booking websites/apps"
   ]
  },
  {
   "cell_type": "code",
   "execution_count": null,
   "id": "683c9bb3-82a7-442e-8cc8-bf153c450b57",
   "metadata": {},
   "outputs": [],
   "source": []
  },
  {
   "cell_type": "code",
   "execution_count": null,
   "id": "b654b7e2-7208-4e84-b612-159709f69640",
   "metadata": {},
   "outputs": [],
   "source": []
  },
  {
   "cell_type": "markdown",
   "id": "823e9b80-97a7-4c21-8f81-910051f652ec",
   "metadata": {},
   "source": [
    "Q2. Give advantages and disadvantages of using API."
   ]
  },
  {
   "cell_type": "markdown",
   "id": "6d5b1950-8f9b-4284-a623-0c7c593e4129",
   "metadata": {},
   "source": [
    "A2. Advantages of API \n",
    "\n",
    "APIs bring a new level of modularity to applications. APIs allow developers to leverage the expertise of other applications. When an organization develops an application, they no longer need to reinvent the wheel when it comes to things like authentication, communication, payment processing etc\n",
    "\n",
    "Instead developers can leverage the seamless plug in capabilities and functionality of APIs. APIs allow applications and system components to communicate with each other on internal networks as well as over the Internet.\n",
    "\n",
    "Improved collaboration - APIs enable integration of differnt platforms and apps can seamlessly communicate with one another. Through this integration, companies can automate workflows and improve workplace collaboration. Without APIs, many enterprises would lack connectivity, causing information silos that compromise productivity and performance.\n",
    "\n",
    "Accelerated innovation - APIs offer flexibility, allowing companies to make connections with new business partners, offer new services to their existing market, and, ultimately, access new markets that can generate massive returns and drive digital transformation."
   ]
  },
  {
   "cell_type": "markdown",
   "id": "e6e67c60-655b-4c72-9dd2-6b6fa3f22cd7",
   "metadata": {},
   "source": [
    "Disadvantage of API\n",
    "\n",
    "Security and privacy risk: As a single point of entry, an API is a gateway and can become a hacker's primary target. Once the API is compromised, all other applications and systems become vulnerable.  since APIs can be accessed over the internet, they will have all the same disadvantages as any other Internet-based resource.  APIs are vulnerable to man-in-the-middle attacks, CSRF attacks, XSS attacks, SQL injection, and DDoS attacks.\n",
    "\n",
    "Dependency on third party provider: If it depends on a third-party service, your application will also be unavailable in case of any issue with third party service provider.\n",
    "\n"
   ]
  },
  {
   "cell_type": "code",
   "execution_count": null,
   "id": "bba48749-a0d6-4877-9449-fb1f8e502714",
   "metadata": {},
   "outputs": [],
   "source": []
  },
  {
   "cell_type": "code",
   "execution_count": null,
   "id": "3c05b900-b2b7-4b24-8b70-ec694a58e636",
   "metadata": {},
   "outputs": [],
   "source": []
  },
  {
   "cell_type": "markdown",
   "id": "8165b50b-ac9e-46bd-9d06-aa16d5ea1501",
   "metadata": {},
   "source": [
    "Q3. What is a Web API? Differentiate between API and Web API."
   ]
  },
  {
   "cell_type": "markdown",
   "id": "2e71fbae-8579-4fc2-96da-83d9747669d9",
   "metadata": {},
   "source": [
    "A3. Web API is an API which can be accessed over the web using the HTTP protocol. It is a framework that helps you to create and develop HTTP based RESTFUL services. Web API is used in either a web server or a web browser. Basically Web API is a web development concept. If an application is to be used on a distributed system and to provide services on different devices like laptops, mobiles, etc then web API services are used. Web API is the enhanced form of the web application."
   ]
  },
  {
   "cell_type": "code",
   "execution_count": null,
   "id": "fe44293b-4dc6-4353-a097-1bf3123712d6",
   "metadata": {},
   "outputs": [],
   "source": [
    "API are accessed/created using TCP/SMTP/HTTP protocols while web API is subset to API, and can be acccessed/creted using HTTP only."
   ]
  },
  {
   "cell_type": "code",
   "execution_count": null,
   "id": "0785c2a1-db57-4a83-8322-08dbb5fc8d2f",
   "metadata": {},
   "outputs": [],
   "source": []
  },
  {
   "cell_type": "code",
   "execution_count": null,
   "id": "00c3f86b-b8b6-485a-bc5f-218a70223e90",
   "metadata": {},
   "outputs": [],
   "source": []
  },
  {
   "cell_type": "markdown",
   "id": "080afe24-423a-48cf-8033-acda691a9ea9",
   "metadata": {},
   "source": [
    "Q4. Explain REST and SOAP Architecture. Mention shortcomings of SOAP."
   ]
  },
  {
   "cell_type": "markdown",
   "id": "e5da6bc0-d7c7-4e67-bb84-391248385981",
   "metadata": {},
   "source": [
    "A4. SOAP - SOAP (Simple Object Access Protocol) is a standard communication protocol system that uses XML technologies to define an extensive messaging framework that allows structured information to be exchanged in a decentralized, distributed environment. In other words, SOAP allows different applications to communicate using different technologies and programming languages.\n",
    "\n",
    "Because it is a protocol, it imposes built-in rules that increase its complexity and overhead, which can lead to longer page load times. However, these standards also offer built-in compliances that can make it preferable for enterprise scenarios. The built-in compliance standards include security, atomicity, consistency, isolation, and durability (ACID), which is a set of properties for ensuring reliable database transactions.\n",
    "\n",
    "REST - REST (Representational State Transfer) is an architectural approach attuned to the needs of lightweight web services and mobile applications. It is a stateless client-server model.\n",
    "\n",
    "When a request for data is sent to a REST API, it’s usually done through  HTTP. Once a request is received, APIs designed for REST can return messages in a variety of formats: HTML, XML, plain text, and JSON, but JSON is the most common language used due to its easy readability by machines and humans.  In this way, RESTful APIs are more flexible and can be easier to set up.\n",
    "\n"
   ]
  },
  {
   "cell_type": "markdown",
   "id": "5be4f7c7-f53c-4dd6-bf5a-d518810ae50d",
   "metadata": {},
   "source": [
    "Shortcomings of SOAP:\n",
    "1). SOAP requires more bandwidth and computing power. Since SOAP Messages contain a lot of information inside of it, the amount of data transfer using SOAP is generally a lot.\n",
    "2). SOAP can only work with XML format. Hence it's not flexible.\n"
   ]
  },
  {
   "cell_type": "markdown",
   "id": "668dff83-cc5f-44f0-8946-6c19f77d200f",
   "metadata": {},
   "source": [
    "Q5. Differentiate between REST and SOAP."
   ]
  },
  {
   "cell_type": "markdown",
   "id": "008204cc-a006-4dd9-a229-68ac1300f028",
   "metadata": {},
   "source": [
    "A5. a). SOAP is designed with large enterprise applications in mind, while REST is designed for light weightweb and mobile applications.\n",
    "\n",
    "b). SOAP uses only XML to tranfer the data, while REST can use HTML, JSON, XML, plain text to tranfer information\n",
    "\n",
    "c). SOAP is a protocol with specific requirements like XML messaging, whearas REST is a set of guidelines that offers flexible implementation\n",
    "\n",
    "d). SOAP offers built-in security and transaction compliance that align with many enterprise needs, but that also makes them heavier; while REST APIs are lightweight, making them ideal as a faster alternative in web-based scenarios\n",
    "\n",
    "e). SOAP API calls cannot be cached, REST API calls can be cached.\n",
    "\n",
    "f). SOAP requires more bandwidth and computing power, while REST requires less resources, and this makes it more powerful.\n",
    "\n",
    "g). SOAP is by default stateless, but it is possible to make this API stateful. REST is stateless"
   ]
  },
  {
   "cell_type": "code",
   "execution_count": null,
   "id": "686f8b47-d440-486b-a7a7-edb39ea35bed",
   "metadata": {},
   "outputs": [],
   "source": []
  }
 ],
 "metadata": {
  "kernelspec": {
   "display_name": "Python 3 (ipykernel)",
   "language": "python",
   "name": "python3"
  },
  "language_info": {
   "codemirror_mode": {
    "name": "ipython",
    "version": 3
   },
   "file_extension": ".py",
   "mimetype": "text/x-python",
   "name": "python",
   "nbconvert_exporter": "python",
   "pygments_lexer": "ipython3",
   "version": "3.10.8"
  }
 },
 "nbformat": 4,
 "nbformat_minor": 5
}
