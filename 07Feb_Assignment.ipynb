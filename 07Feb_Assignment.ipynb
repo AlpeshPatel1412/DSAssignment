{
 "cells": [
  {
   "cell_type": "markdown",
   "id": "ce6f1708-3094-4448-933f-d10a0c25f233",
   "metadata": {},
   "source": [
    "Q1. You are writing code for a company. The requirement of the company is that you create a python\n",
    "function that will check whether the password entered by the user is correct or not. The function should\n",
    "take the password as input and return the string “Valid Password” if the entered password follows the\n",
    "below-given password guidelines else it should return “Invalid Password”.\n",
    "\n",
    "Note: 1. The Password should contain at least two uppercase letters and at least two lowercase letters.\n",
    "\n",
    "2. The Password should contain at least a number and three special characters.\n",
    "\n",
    "3. The length of the password should be 10 characters long."
   ]
  },
  {
   "cell_type": "code",
   "execution_count": 2,
   "id": "a0f2be74-0f02-4293-8ed6-f23ba306b479",
   "metadata": {},
   "outputs": [],
   "source": [
    "def check_password(password):\n",
    "    upper_count = 0\n",
    "    lower_count = 0\n",
    "    digit_count = 0\n",
    "    spech_count = 0\n",
    "    space_count = 0\n",
    "    \n",
    "    isValid = False\n",
    "    \n",
    "    if len(password) == 10:\n",
    "        for i in password:\n",
    "            if i.islower():\n",
    "                lower_count += 1\n",
    "            elif i.isupper():\n",
    "                upper_count += 1\n",
    "            elif i.isdigit():\n",
    "                digit_count += 1\n",
    "            elif i.isspace():\n",
    "                space_count += 1\n",
    "            else:\n",
    "                spech_count += 1\n",
    "      \n",
    "        if (lower_count>=2 and upper_count >= 2 and digit_count >=1 and space_count == 0 and spech_count >= 3):\n",
    "            isValid = True\n",
    "        else:\n",
    "            isValid = False \n",
    "    else:\n",
    "        isValid = False\n",
    "        \n",
    "    return \"Valid Password\" if isValid  else \"Invalid Password\"\n",
    "                \n",
    "            "
   ]
  },
  {
   "cell_type": "code",
   "execution_count": 3,
   "id": "a1cda2c2-2354-41ce-830d-d07c045e0df8",
   "metadata": {},
   "outputs": [],
   "source": [
    "s = \"AP@Cd5pp#$\""
   ]
  },
  {
   "cell_type": "code",
   "execution_count": 4,
   "id": "79c31800-7d8c-4c30-873d-438264355d93",
   "metadata": {},
   "outputs": [
    {
     "data": {
      "text/plain": [
       "'Valid Password'"
      ]
     },
     "execution_count": 4,
     "metadata": {},
     "output_type": "execute_result"
    }
   ],
   "source": [
    "check_password(s)"
   ]
  },
  {
   "cell_type": "code",
   "execution_count": 6,
   "id": "72eaf2ca-83d0-4c01-8960-2ec81a8fb47e",
   "metadata": {},
   "outputs": [
    {
     "data": {
      "text/plain": [
       "'Invalid Password'"
      ]
     },
     "execution_count": 6,
     "metadata": {},
     "output_type": "execute_result"
    }
   ],
   "source": [
    "s1 = \"abcDA43a&$\"\n",
    "check_password(s1)"
   ]
  },
  {
   "cell_type": "markdown",
   "id": "3dda18f6-7131-4560-970a-73a43aaeba90",
   "metadata": {},
   "source": [
    "Q2. Solve the below-given questions using at least one of the following:\n",
    "1. Lambda functioJ\n",
    "2. Filter functioJ\n",
    "3. Zap functioJ\n",
    "4. List ComprehensioI"
   ]
  },
  {
   "cell_type": "markdown",
   "id": "f7be710a-77f8-408c-80c3-3f90b2be2e56",
   "metadata": {},
   "source": [
    "Check if the string starts with a particular letter."
   ]
  },
  {
   "cell_type": "code",
   "execution_count": 59,
   "id": "fa2b5d77-8763-4ef1-8729-2ce9558a4c54",
   "metadata": {},
   "outputs": [
    {
     "name": "stdout",
     "output_type": "stream",
     "text": [
      "True\n"
     ]
    }
   ],
   "source": [
    "res = lambda s,startletter : s.startswith(startletter)\n",
    "\n",
    "s = 'Tom Ford'\n",
    "startletter = 'T'\n",
    "\n",
    "print(res(s, startletter))"
   ]
  },
  {
   "cell_type": "code",
   "execution_count": 60,
   "id": "e202f47f-ead8-4899-aec0-ebd0f1b2f20c",
   "metadata": {},
   "outputs": [
    {
     "name": "stdout",
     "output_type": "stream",
     "text": [
      "False\n"
     ]
    }
   ],
   "source": [
    "s = 'Tom Ford'\n",
    "startletter = 'F'\n",
    "\n",
    "print(res(s, startletter))"
   ]
  },
  {
   "cell_type": "markdown",
   "id": "3d2344d5-5d12-48a6-b89c-9bb39f918437",
   "metadata": {},
   "source": [
    "Check if the string is numeric"
   ]
  },
  {
   "cell_type": "code",
   "execution_count": 23,
   "id": "6bbd3c91-3295-47f5-9e83-dffcad882c75",
   "metadata": {},
   "outputs": [],
   "source": [
    "r = lambda s : s.isnumeric()"
   ]
  },
  {
   "cell_type": "code",
   "execution_count": 24,
   "id": "773b3dad-6d3c-442e-b3d1-3ba4021e44f1",
   "metadata": {},
   "outputs": [
    {
     "data": {
      "text/plain": [
       "True"
      ]
     },
     "execution_count": 24,
     "metadata": {},
     "output_type": "execute_result"
    }
   ],
   "source": [
    "s = '14344'\n",
    "r(s)"
   ]
  },
  {
   "cell_type": "code",
   "execution_count": 25,
   "id": "48b6ae03-050e-4a15-a096-9e7e0a8e4b11",
   "metadata": {},
   "outputs": [
    {
     "data": {
      "text/plain": [
       "False"
      ]
     },
     "execution_count": 25,
     "metadata": {},
     "output_type": "execute_result"
    }
   ],
   "source": [
    "s1 = 'ij4344'\n",
    "r(s1)"
   ]
  },
  {
   "cell_type": "markdown",
   "id": "0c877d6d-9dd7-42ee-9308-267875adc9aa",
   "metadata": {},
   "source": [
    "Sort a list of tuples having fruit names and their quantity. [(\"mango\",99),(\"orange\",80), (\"grapes\", 1000)]"
   ]
  },
  {
   "cell_type": "code",
   "execution_count": 26,
   "id": "0d787fc4-4812-44cd-81fe-59e5118e1d7c",
   "metadata": {},
   "outputs": [],
   "source": [
    "li = [(\"mango\",99),(\"orange\",80), (\"grapes\", 1000)]"
   ]
  },
  {
   "cell_type": "code",
   "execution_count": 31,
   "id": "bf5293b4-ad5f-47df-ab0b-45f16cd13635",
   "metadata": {},
   "outputs": [],
   "source": [
    "# Sorting by name\n",
    "li.sort(key=lambda l : l[0])"
   ]
  },
  {
   "cell_type": "code",
   "execution_count": 32,
   "id": "f4d28a0e-fa68-425b-b5d3-dedf7a561e6c",
   "metadata": {},
   "outputs": [
    {
     "name": "stdout",
     "output_type": "stream",
     "text": [
      "[('grapes', 1000), ('mango', 99), ('orange', 80)]\n"
     ]
    }
   ],
   "source": [
    "print(li)"
   ]
  },
  {
   "cell_type": "code",
   "execution_count": 33,
   "id": "5b7f6fef-952a-4106-ae22-1a5fc31c46b3",
   "metadata": {},
   "outputs": [
    {
     "name": "stdout",
     "output_type": "stream",
     "text": [
      "[('orange', 80), ('mango', 99), ('grapes', 1000)]\n"
     ]
    }
   ],
   "source": [
    "# Sorting by qty\n",
    "li.sort(key=lambda l: l[1])\n",
    "print(li)"
   ]
  },
  {
   "cell_type": "markdown",
   "id": "f0773305-f4a0-427c-a309-c11ff0de195d",
   "metadata": {},
   "source": [
    "Find the squares of numbers from 1 to 10"
   ]
  },
  {
   "cell_type": "code",
   "execution_count": 36,
   "id": "3acee451-1623-41bf-8a29-a0b3bf40371e",
   "metadata": {},
   "outputs": [
    {
     "data": {
      "text/plain": [
       "[1, 4, 9, 16, 25, 36, 49, 64, 81, 100]"
      ]
     },
     "execution_count": 36,
     "metadata": {},
     "output_type": "execute_result"
    }
   ],
   "source": [
    "[ i**2 for i in range (1,11)]"
   ]
  },
  {
   "cell_type": "markdown",
   "id": "1d9ee653-c384-4270-a5e5-a150da8d22e3",
   "metadata": {},
   "source": [
    "Find the cube root of numbers from 1 to 10"
   ]
  },
  {
   "cell_type": "code",
   "execution_count": 39,
   "id": "a89310e7-2d1d-4a6d-bbc2-9ada24874bf2",
   "metadata": {},
   "outputs": [
    {
     "data": {
      "text/plain": [
       "[1.0,\n",
       " 1.2599210498948732,\n",
       " 1.4422495703074083,\n",
       " 1.5874010519681994,\n",
       " 1.7099759466766968,\n",
       " 1.8171205928321397,\n",
       " 1.912931182772389,\n",
       " 2.0,\n",
       " 2.080083823051904,\n",
       " 2.154434690031884]"
      ]
     },
     "execution_count": 39,
     "metadata": {},
     "output_type": "execute_result"
    }
   ],
   "source": [
    "[ i**(1/3)  for i in range(1,11)]"
   ]
  },
  {
   "cell_type": "markdown",
   "id": "b3e3454a-c178-4cef-b0f7-75eca291e132",
   "metadata": {},
   "source": [
    "Check if a given number is even"
   ]
  },
  {
   "cell_type": "code",
   "execution_count": 40,
   "id": "0d6b81bd-3045-4853-9c64-a5cef5b45367",
   "metadata": {},
   "outputs": [
    {
     "data": {
      "text/plain": [
       "True"
      ]
     },
     "execution_count": 40,
     "metadata": {},
     "output_type": "execute_result"
    }
   ],
   "source": [
    "r = lambda n : n%2==0\n",
    "n = 44\n",
    "r(n)"
   ]
  },
  {
   "cell_type": "code",
   "execution_count": 41,
   "id": "46638dcc-c4a5-4bb6-ad7e-860a094d807d",
   "metadata": {},
   "outputs": [
    {
     "data": {
      "text/plain": [
       "False"
      ]
     },
     "execution_count": 41,
     "metadata": {},
     "output_type": "execute_result"
    }
   ],
   "source": [
    "n = 21\n",
    "r(n)"
   ]
  },
  {
   "cell_type": "markdown",
   "id": "9f1a7219-c33e-4a17-9d87-cd07742ad7eb",
   "metadata": {},
   "source": [
    "Filter odd numbers from the given list [1,2,3,4,5,6,7,8,9,10]"
   ]
  },
  {
   "cell_type": "code",
   "execution_count": 42,
   "id": "b3352456-d538-47c2-ae5d-7ad9a11c3af6",
   "metadata": {},
   "outputs": [
    {
     "data": {
      "text/plain": [
       "[1, 3, 5, 7, 9]"
      ]
     },
     "execution_count": 42,
     "metadata": {},
     "output_type": "execute_result"
    }
   ],
   "source": [
    "l = [1,2,3,4,5,6,7,8,9,10]\n",
    "list(filter(lambda x : x%2==1, l))"
   ]
  },
  {
   "cell_type": "markdown",
   "id": "7915c239-149a-4c02-a948-827d133a3fcf",
   "metadata": {},
   "source": [
    "Sort a list of integers into positive and negative integers lists. [1,2,3,4,5,6,-1,-2,-3,-4,-5,0]"
   ]
  },
  {
   "cell_type": "code",
   "execution_count": 44,
   "id": "38a8599a-e70b-4de5-b31f-b11dbe1ea7dc",
   "metadata": {},
   "outputs": [],
   "source": [
    "l = [1,2,3,4,5,6,-1,-2,-3,-4,-5,0]"
   ]
  },
  {
   "cell_type": "code",
   "execution_count": 52,
   "id": "a9e51203-153a-4dcd-bbd5-8b3520bd6dd5",
   "metadata": {},
   "outputs": [
    {
     "name": "stdout",
     "output_type": "stream",
     "text": [
      "[1, 2, 3, 4, 5, 6] [-5, -4, -3, -2, -1]\n"
     ]
    }
   ],
   "source": [
    "print(sorted(filter(lambda n : n > 0, l)) , sorted(filter(lambda n : n < 0, l)))"
   ]
  }
 ],
 "metadata": {
  "kernelspec": {
   "display_name": "Python 3 (ipykernel)",
   "language": "python",
   "name": "python3"
  },
  "language_info": {
   "codemirror_mode": {
    "name": "ipython",
    "version": 3
   },
   "file_extension": ".py",
   "mimetype": "text/x-python",
   "name": "python",
   "nbconvert_exporter": "python",
   "pygments_lexer": "ipython3",
   "version": "3.10.8"
  }
 },
 "nbformat": 4,
 "nbformat_minor": 5
}
