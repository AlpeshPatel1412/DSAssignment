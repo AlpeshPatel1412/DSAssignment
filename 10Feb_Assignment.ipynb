{
 "cells": [
  {
   "cell_type": "markdown",
   "id": "2e1cf4fc-8d34-4c11-b850-6b1e352e6cf5",
   "metadata": {},
   "source": [
    "Q1. Which function is used to open a file? What are the different modes of opening a file? Explain each mode\n",
    "of file opening.\n",
    "\n",
    "A1: A open() function is used to open a file in Python.\n",
    "    \n",
    "    Different modes for opening file are - \n",
    "    1). r - Open an existing file for a read operation.\n",
    "    2). w - Open a file for writing. Creates a new file if it does not exist or truncates the file if it exists.\n",
    "    3). a - Open a file for appending at the end of the file without truncating it. Creates a new file if it does not exist.\n",
    "    4). x - Crates a new file and open it for writing.\n",
    "    5). t - Opens a file in text mode \n",
    "    6). b - Opens a file in binary mode\n",
    "    7). + - Opens a file for updating (reading and writing)"
   ]
  },
  {
   "cell_type": "markdown",
   "id": "de96a66d-d807-4ebe-87e0-0b9978f6ce5f",
   "metadata": {},
   "source": [
    "Q2. Why close() function is used? Why is it important to close a file?\n",
    "\n",
    "A2: close() funtion is used to close the file.\n",
    "\n",
    "    Closing the file gracefully will free up the resources that were tied up with the file. Hence, it is required to close the file once you     finish all operation on file."
   ]
  },
  {
   "cell_type": "markdown",
   "id": "90ddc36e-9aa4-4d3a-96bf-4efdf618e146",
   "metadata": {},
   "source": [
    "Q3. Write a python program to create a text file. Write ‘I want to become a Data Scientist’ in that file. Then\n",
    "close the file. Open this file and read the content of the file.\n",
    "\n",
    "\n",
    "A3:"
   ]
  },
  {
   "cell_type": "code",
   "execution_count": 5,
   "id": "557a6217-25df-4e28-972e-4fcb9f0e4870",
   "metadata": {},
   "outputs": [],
   "source": [
    "import io"
   ]
  },
  {
   "cell_type": "code",
   "execution_count": 9,
   "id": "d6b7575f-6cb9-4004-9e4d-562b995b2bbc",
   "metadata": {},
   "outputs": [
    {
     "name": "stdout",
     "output_type": "stream",
     "text": [
      "I want to become a Data Scientist\n"
     ]
    }
   ],
   "source": [
    "f = open('test.txt','w')\n",
    "str =  'I want to become a Data Scientist'\n",
    "f.write(str)\n",
    "f.close()\n",
    "\n",
    "with open('test.txt', 'r') as f:\n",
    "    data = f.read()\n",
    "    print(data)"
   ]
  },
  {
   "cell_type": "markdown",
   "id": "1365f365-1abb-4da2-ab81-eb13866c1d78",
   "metadata": {},
   "source": [
    "Q4. Explain the following with python code: read(), readline() and readlines().\n",
    "\n",
    "A4: read() - Reads entire file\n",
    "   \n",
    "    readline() - Reads one line at a time from file\n",
    "   \n",
    "    readlines() - Reads and returns list of lines from the file"
   ]
  },
  {
   "cell_type": "code",
   "execution_count": 10,
   "id": "2472c489-c9be-4d60-b504-49373ecd7323",
   "metadata": {},
   "outputs": [],
   "source": [
    "import io"
   ]
  },
  {
   "cell_type": "code",
   "execution_count": 14,
   "id": "88515503-2e50-419d-b5b1-753317a7d42e",
   "metadata": {},
   "outputs": [
    {
     "name": "stdout",
     "output_type": "stream",
     "text": [
      "Data Science Masters course is highly curated and uniquely designed according to the latest industry standards.\n",
      "This program instills students the skills essential to knowledge discovery efforts to identify standard, novel, and truly differentiated solutions and decision-making, including skills in managing, querying, analyzing, visualizing, and extracting meaning from extremely large data sets.\n",
      "This trending program provides students with the statistical, mathematical and computational skills needed to meet the large-scale data science challenges of today's professional world.\n",
      "You will learn all the stack required to work in data science industry including cloud infrastructure and real-time industry projects.\n",
      "This course will be taught in Hindi language.\n"
     ]
    }
   ],
   "source": [
    "with open('DSM.txt', 'r') as reader:\n",
    "    print(reader.read())"
   ]
  },
  {
   "cell_type": "code",
   "execution_count": 16,
   "id": "94130550-c258-4fd6-97f2-8793f93e35d0",
   "metadata": {},
   "outputs": [
    {
     "name": "stdout",
     "output_type": "stream",
     "text": [
      "Data Science Masters course is highly curated and uniquely designed according to the latest industry standards.\n",
      "\n",
      "This program instills students the skills essentia\n"
     ]
    }
   ],
   "source": [
    "with open('DSM.txt', 'r') as reader:\n",
    "    print(reader.readline())\n",
    "    print(reader.readline(50))"
   ]
  },
  {
   "cell_type": "code",
   "execution_count": 17,
   "id": "0be09861-48e6-4396-9137-b0e8663686d1",
   "metadata": {},
   "outputs": [
    {
     "name": "stdout",
     "output_type": "stream",
     "text": [
      "['Data Science Masters course is highly curated and uniquely designed according to the latest industry standards.\\n', 'This program instills students the skills essential to knowledge discovery efforts to identify standard, novel, and truly differentiated solutions and decision-making, including skills in managing, querying, analyzing, visualizing, and extracting meaning from extremely large data sets.\\n', \"This trending program provides students with the statistical, mathematical and computational skills needed to meet the large-scale data science challenges of today's professional world.\\n\", 'You will learn all the stack required to work in data science industry including cloud infrastructure and real-time industry projects.\\n', 'This course will be taught in Hindi language.']\n"
     ]
    }
   ],
   "source": [
    "with open('DSM.txt', 'r') as reader:\n",
    "    print(reader.readlines())"
   ]
  },
  {
   "cell_type": "markdown",
   "id": "64fef04f-60aa-41af-a3a7-bbff3a48270f",
   "metadata": {},
   "source": [
    "Q5. Explain why with statement is used with open(). What is the advantage of using with statement and\n",
    "open() together?\n",
    "\n",
    "A5: We have to close the file after all the operations are done on file to release the resources tied up with that file.\n",
    "\n",
    "    When the file is opened with, with open() syntax, file is automatically closed. So we don't have to close the file explicitly using the     close() function. "
   ]
  },
  {
   "cell_type": "markdown",
   "id": "19d020fb-f506-4268-b213-1891f31acd55",
   "metadata": {},
   "source": [
    "Q6. Explain the write() and writelines() functions. Give a suitable example.\n",
    "\n",
    "A6: write(s) - Writes a string str to the file\n",
    "    \n",
    "    writelines(lines) - Insert/write each line in the list of lines. it is used to write multiple strings at a time."
   ]
  },
  {
   "cell_type": "code",
   "execution_count": 19,
   "id": "acc44544-5495-4605-82ae-47e13ca00c1c",
   "metadata": {},
   "outputs": [],
   "source": [
    "import io"
   ]
  },
  {
   "cell_type": "code",
   "execution_count": 20,
   "id": "e6cea473-4973-496a-8077-f70e85c7d94e",
   "metadata": {},
   "outputs": [],
   "source": [
    "with open('DSM.txt','r') as reader:\n",
    "    d_list = reader.readlines()\n"
   ]
  },
  {
   "cell_type": "code",
   "execution_count": 25,
   "id": "525ce5c8-4be4-4c48-9107-2699fab32554",
   "metadata": {},
   "outputs": [],
   "source": [
    "# write() demo\n",
    "\n",
    "with open('DSMwrite.txt','w') as writer:\n",
    "    for str1 in reversed(d_list):\n",
    "        writer.write(str1)"
   ]
  },
  {
   "cell_type": "code",
   "execution_count": 26,
   "id": "250b2b1a-88cb-4c8f-a658-7a12906ee923",
   "metadata": {},
   "outputs": [],
   "source": [
    "# writelines() demo\n",
    "\n",
    "with open('DSMwritelines.txt','w') as writer:\n",
    "    writer.writelines(reversed(d_list))"
   ]
  },
  {
   "cell_type": "code",
   "execution_count": null,
   "id": "68c8227c-b64f-4098-a566-3e084a7330c2",
   "metadata": {},
   "outputs": [],
   "source": []
  }
 ],
 "metadata": {
  "kernelspec": {
   "display_name": "Python 3 (ipykernel)",
   "language": "python",
   "name": "python3"
  },
  "language_info": {
   "codemirror_mode": {
    "name": "ipython",
    "version": 3
   },
   "file_extension": ".py",
   "mimetype": "text/x-python",
   "name": "python",
   "nbconvert_exporter": "python",
   "pygments_lexer": "ipython3",
   "version": "3.10.8"
  }
 },
 "nbformat": 4,
 "nbformat_minor": 5
}
