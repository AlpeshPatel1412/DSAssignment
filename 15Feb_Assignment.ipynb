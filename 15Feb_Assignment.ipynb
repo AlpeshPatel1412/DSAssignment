{
 "cells": [
  {
   "cell_type": "markdown",
   "id": "849ea52b-82d6-4c33-827c-1a069ec9b586",
   "metadata": {},
   "source": [
    "Q1. What is multiprocessing in python? Why is it useful?"
   ]
  },
  {
   "cell_type": "markdown",
   "id": "310a9bb5-60fe-4177-93b0-4683d88b34e5",
   "metadata": {},
   "source": [
    "A1. Multiprocessing in Python is ability of Python program that allows the system to run multiple processes simultaneously. It enables the breaking of applications into smaller tasks that can run independently. The operating system can then allocate all these tasks or processes to the processor to run them parallelly, thus improving the overall performance and efficiency.\n",
    "\n",
    "Multiprocessing can make a program substantially more efficient by running multiple tasks in parallel instead of sequentially."
   ]
  },
  {
   "cell_type": "code",
   "execution_count": null,
   "id": "b16f0530-8123-43a5-9aec-5e20a781869c",
   "metadata": {},
   "outputs": [],
   "source": []
  },
  {
   "cell_type": "code",
   "execution_count": null,
   "id": "6e5bedfd-7779-4d07-acd0-d6bc47d2f9de",
   "metadata": {},
   "outputs": [],
   "source": []
  },
  {
   "cell_type": "markdown",
   "id": "0a93cb49-ccfe-4774-956f-c1d88a6514e6",
   "metadata": {},
   "source": [
    "Q2. What are the differences between multiprocessing and multithreading?"
   ]
  },
  {
   "cell_type": "markdown",
   "id": "b90ba790-c15a-423c-a07a-22d92733ebb8",
   "metadata": {},
   "source": [
    "a). Multiprocessing uses two or more CPUs to increase computing power, whereas multithreading uses a single process with multiple threads to increase computing power.\n",
    "\n",
    "b). Multiprocessing creates a separate address space for each process, while multithreading uses a common address space for all the threads.\n",
    "\n",
    "c). Multithreading focuses on generating computing threads from a single process, whereas multiprocessing increases computing power by adding CPUs.\n",
    "\n",
    "d). multithreading is quick to create and requires few resources, whereas multiprocessing requires a significant amount of time and specific resources to create.\n",
    "\n",
    "e). Multiprocessing executes many processes simultaneously and hence implements paralleism,  multithreading executes many threads concurrently to achive concurrency. \n"
   ]
  },
  {
   "cell_type": "code",
   "execution_count": null,
   "id": "60205a7c-b4a7-4dad-82db-fddfd826abbe",
   "metadata": {},
   "outputs": [],
   "source": []
  },
  {
   "cell_type": "code",
   "execution_count": null,
   "id": "eb6c3671-1cf3-4f9f-ad55-37dd34a49a31",
   "metadata": {},
   "outputs": [],
   "source": []
  },
  {
   "cell_type": "markdown",
   "id": "9f6592cf-b1fe-459b-8f46-b7c38d98b4d3",
   "metadata": {},
   "source": [
    "Q3. Write a python code to create a process using the multiprocessing module."
   ]
  },
  {
   "cell_type": "code",
   "execution_count": 4,
   "id": "0439963f-0c54-4f65-857a-c2cf82d96611",
   "metadata": {},
   "outputs": [
    {
     "name": "stdout",
     "output_type": "stream",
     "text": [
      "This is process\n"
     ]
    }
   ],
   "source": [
    "import multiprocessing\n",
    "\n",
    "def fun():\n",
    "    print('This is process')\n",
    "\n",
    "if __name__ == '__main__':\n",
    "    p = multiprocessing.Process(target=fun)\n",
    "    p.start()\n",
    "    p.join()"
   ]
  },
  {
   "cell_type": "code",
   "execution_count": null,
   "id": "a2e543b4-e9da-4187-acbb-34505f3d27ed",
   "metadata": {},
   "outputs": [],
   "source": []
  },
  {
   "cell_type": "code",
   "execution_count": null,
   "id": "69c92835-a043-4075-a892-aa3c1d929205",
   "metadata": {},
   "outputs": [],
   "source": []
  },
  {
   "cell_type": "markdown",
   "id": "81fcf3bb-2634-4d41-80af-850c346c1a51",
   "metadata": {},
   "source": [
    "Q4. What is a multiprocessing pool in python? Why is it used?"
   ]
  },
  {
   "cell_type": "markdown",
   "id": "c796aeaf-17ee-444a-9b96-848ab79710ae",
   "metadata": {},
   "source": [
    "The multiprocessing.Pool is a flexible and powerful process pool for executing ad hoc CPU-bound tasks in a synchronous or asynchronous manner.\n",
    "\n",
    "It is used to spin up number of child processes in the main program."
   ]
  },
  {
   "cell_type": "code",
   "execution_count": 29,
   "id": "d59eaa3e-cae1-4806-91bb-a17cf261a22a",
   "metadata": {},
   "outputs": [
    {
     "name": "stdout",
     "output_type": "stream",
     "text": [
      "Pool : [0, 1, 4, 9, 16]\n"
     ]
    }
   ],
   "source": [
    "import multiprocessing\n",
    "\n",
    "def function_square(n):\n",
    "   result = n*n\n",
    "   return result\n",
    "\n",
    "if __name__ == '__main__':\n",
    "    \n",
    "   inputs = list(range(5))\n",
    "   p = multiprocessing.Pool(processes = 4)\n",
    "   p_outputs = p.map(function_square, inputs)\n",
    "   p.close()\n",
    " \n",
    "   print ('Pool :', p_outputs)"
   ]
  },
  {
   "cell_type": "code",
   "execution_count": null,
   "id": "9f7dc94d-d496-4b63-a437-3894aa37d8fa",
   "metadata": {},
   "outputs": [],
   "source": []
  },
  {
   "cell_type": "code",
   "execution_count": null,
   "id": "b1e30ffe-157a-4882-8c8f-ee08da1ccb20",
   "metadata": {},
   "outputs": [],
   "source": []
  },
  {
   "cell_type": "markdown",
   "id": "cadf9620-871e-430e-b35b-17a6c19486db",
   "metadata": {},
   "source": [
    "Q5. How can we create a pool of worker processes in python using the multiprocessing module?"
   ]
  },
  {
   "cell_type": "code",
   "execution_count": 19,
   "id": "58393b59-a604-4783-ba4c-21f59c661ba8",
   "metadata": {},
   "outputs": [
    {
     "name": "stdout",
     "output_type": "stream",
     "text": [
      "Number of cores available equals 64\n",
      "\n",
      "Worker 4215 calculating square of 1\n",
      "Worker 4219 calculating square of 5\n",
      "Worker 4218 calculating square of 4\n",
      "Worker 4220 calculating square of 6\n",
      "\n",
      "\n",
      "\n",
      "\n",
      "Worker 4219 calculating square of 7\n",
      "Worker 4218 calculating square of 8\n",
      "Worker 4215 calculating square of 9\n",
      "Worker 4220 calculating square of 10\n",
      "\n",
      "\n",
      "\n",
      "\n",
      "Worker 4219 calculating square of 11\n",
      "Worker 4215 calculating square of 12\n",
      "Worker 4218 calculating square of 13\n",
      "Worker 4220 calculating square of 14\n",
      "\n",
      "\n",
      "\n",
      "\n",
      "Worker 4219 calculating square of 15\n",
      "Worker 4215 calculating square of 16\n",
      "Worker 4218 calculating square of 17\n",
      "Worker 4220 calculating square of 18\n",
      "\n",
      "\n",
      "\n",
      "\n",
      "Worker 4219 calculating square of 19\n",
      "Worker 4215 calculating square of 20\n",
      "\n",
      "\n",
      "Worker 4216 calculating square of 2\n",
      "\n",
      "Worker 4217 calculating square of 3\n",
      "[1, 4, 9, 16, 25, 36, 49, 64, 81, 100, 121, 144, 169, 196, 225, 256, 289, 324, 361, 400]\n"
     ]
    }
   ],
   "source": [
    "import multiprocessing\n",
    "\n",
    "def square(x):\n",
    "    print(\"\\nWorker %s calculating square of %s\" % (current_process().pid, x))\n",
    "    return x * x\n",
    "\n",
    "if __name__ == \"__main__\":\n",
    "    print(\"Number of cores available equals %s\" % cpu_count())\n",
    "\n",
    "    # create a pool of workers\n",
    "    with multiprocessing.Pool(processes=6) as pool:\n",
    "        r = range(1, 21)\n",
    "        result = pool.map(square, r)\n",
    "        print(result)"
   ]
  },
  {
   "cell_type": "code",
   "execution_count": null,
   "id": "3f84e0de-0c3f-46e7-a7ae-971c8dcf589e",
   "metadata": {},
   "outputs": [],
   "source": []
  },
  {
   "cell_type": "code",
   "execution_count": null,
   "id": "e839181a-783f-401f-9823-c43f469b14f3",
   "metadata": {},
   "outputs": [],
   "source": []
  },
  {
   "cell_type": "markdown",
   "id": "d629349b-8878-4a1d-8b06-d57473a7ddcf",
   "metadata": {},
   "source": [
    "Q6. Write a python program to create 4 processes, each process should print a different number using the\n",
    "multiprocessing module in python."
   ]
  },
  {
   "cell_type": "code",
   "execution_count": 64,
   "id": "f7c5fc44-36a7-4d87-a186-a9b08d6f4914",
   "metadata": {},
   "outputs": [
    {
     "name": "stdout",
     "output_type": "stream",
     "text": [
      "Worker process 5407 printing number 10\n",
      "Worker process 5410 printing number 20\n",
      "Worker process 5417 printing number 30\n",
      "Worker process 5420 printing number 40\n"
     ]
    }
   ],
   "source": [
    "import multiprocessing\n",
    "\n",
    "def print_num(n):\n",
    "    print(\"Worker process {} printing number {}\".format(current_process().pid, n))\n",
    "\n",
    "if __name__ == \"__main__\":\n",
    "      \n",
    "    processes = []\n",
    "    \n",
    "    for i in range(1,5):\n",
    "        p = multiprocessing.Process(target=print_num, args = (i*10,))\n",
    "        p.start()\n",
    "        processes.append(p)\n",
    "        \n",
    "    for i in processes:\n",
    "        i.join()      \n",
    "    "
   ]
  },
  {
   "cell_type": "code",
   "execution_count": null,
   "id": "824e5e4b-e7e2-4a67-a1dc-ae0eec4f45f5",
   "metadata": {},
   "outputs": [],
   "source": []
  }
 ],
 "metadata": {
  "kernelspec": {
   "display_name": "Python 3 (ipykernel)",
   "language": "python",
   "name": "python3"
  },
  "language_info": {
   "codemirror_mode": {
    "name": "ipython",
    "version": 3
   },
   "file_extension": ".py",
   "mimetype": "text/x-python",
   "name": "python",
   "nbconvert_exporter": "python",
   "pygments_lexer": "ipython3",
   "version": "3.10.8"
  }
 },
 "nbformat": 4,
 "nbformat_minor": 5
}
