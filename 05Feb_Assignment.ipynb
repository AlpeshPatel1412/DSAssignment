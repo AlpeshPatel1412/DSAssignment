{
 "cells": [
  {
   "cell_type": "markdown",
   "id": "b9df7f73-c889-45f9-88f7-bd9db71f5a70",
   "metadata": {},
   "source": [
    "Q1. Explain Class and Object with respect to Object-Oriented Programming. Give a suitable example."
   ]
  },
  {
   "cell_type": "markdown",
   "id": "25fd43a5-0819-4c95-85c5-08ca749989a8",
   "metadata": {},
   "source": [
    "A1: Class - A class is a prototype or blueprint or template from which objects are created. Class allows to bundle both the attributes and \n",
    "            behavior of the object in one place. In other words, class is a user defined data structure which holds it's own data member and methods,             which can be accessed and used by creating an object of that class.\n",
    "            \n",
    "Object - An object is a instance of a class. While class is a prototype, object instance is an entity with real values. Object has state, behaviour and identity. All instances share the same attributes and behavior of the class, but values/state are unique for each object. "
   ]
  },
  {
   "cell_type": "markdown",
   "id": "9f25e2bb-7924-49d3-983c-fdcc6776a0bd",
   "metadata": {},
   "source": [
    "Example of Class and Object:"
   ]
  },
  {
   "cell_type": "code",
   "execution_count": 4,
   "id": "9c2638ff-2f5e-40a7-b54f-1b04feb110dd",
   "metadata": {},
   "outputs": [],
   "source": [
    "# Defining class\n",
    "\n",
    "class car:\n",
    "    def __init__(self,make,model,year):\n",
    "        # Attributes/variable\n",
    "        self.make =  make \n",
    "        self.model = model\n",
    "        self.year = year\n",
    "        \n",
    "    # Method/behavior    \n",
    "    def display_car(self):\n",
    "        return self.make, self.model, self.year"
   ]
  },
  {
   "cell_type": "code",
   "execution_count": 5,
   "id": "e8dcaf4b-cf8e-4ad1-823c-2e02048eca77",
   "metadata": {},
   "outputs": [],
   "source": [
    "# Object Instanciation\n",
    "\n",
    "Nissan = car(\"Nissan\", \"Rogue\", 2022)"
   ]
  },
  {
   "cell_type": "code",
   "execution_count": 7,
   "id": "5bc67850-d3d7-4bbf-87e2-dea0fd66c909",
   "metadata": {},
   "outputs": [
    {
     "data": {
      "text/plain": [
       "('Nissan', 'Rogue', 2022)"
      ]
     },
     "execution_count": 7,
     "metadata": {},
     "output_type": "execute_result"
    }
   ],
   "source": [
    "Nissan.display_car()"
   ]
  },
  {
   "cell_type": "code",
   "execution_count": 8,
   "id": "ce7166f3-dda1-41bb-b1ef-dc267b72018f",
   "metadata": {},
   "outputs": [
    {
     "data": {
      "text/plain": [
       "'Rogue'"
      ]
     },
     "execution_count": 8,
     "metadata": {},
     "output_type": "execute_result"
    }
   ],
   "source": [
    "Nissan.model"
   ]
  },
  {
   "cell_type": "markdown",
   "id": "2600714b-f71f-4a54-8e30-c5e30bea06c9",
   "metadata": {},
   "source": [
    "Q2. Name the four pillars of OOPs.\n",
    "\n",
    "A2: 1). Encapsulation\n",
    "    \n",
    "    2). Inheritance\n",
    "    \n",
    "    3). Abstraction\n",
    "    \n",
    "    4). Polymorphism"
   ]
  },
  {
   "cell_type": "markdown",
   "id": "3cd7f6c0-1257-439f-b928-0d9a50db310c",
   "metadata": {},
   "source": [
    "Q3. Explain why the __init__() function is used. Give a suitable example.\n",
    "\n",
    "A3: __init__() method also known as constructor is used to initialize the object's state.\n",
    "    This method is called as soon as new object of that class is instantiated. The method is useful to do any initialization at the time of object         creation. "
   ]
  },
  {
   "cell_type": "code",
   "execution_count": 10,
   "id": "e34c59b6-d0ea-44d6-b9f4-55f7fa32d7a0",
   "metadata": {},
   "outputs": [],
   "source": [
    "class bike:\n",
    "    def __init__(self,type_of_bike):\n",
    "        self.type_of_bike = type_of_bike\n",
    "    "
   ]
  },
  {
   "cell_type": "code",
   "execution_count": 12,
   "id": "68e94966-047e-411f-8e59-8b820c182321",
   "metadata": {},
   "outputs": [],
   "source": [
    "bike1 = bike(\"Mountain Bike\")\n",
    "bike2 = bike(\"Road Bike\")\n",
    "bike3 = bike(\"Hybrid Bike\")\n",
    "\n"
   ]
  },
  {
   "cell_type": "code",
   "execution_count": 14,
   "id": "27f63897-f2da-40d8-a60f-8850f4e50fea",
   "metadata": {},
   "outputs": [
    {
     "data": {
      "text/plain": [
       "'Mountain Bike'"
      ]
     },
     "execution_count": 14,
     "metadata": {},
     "output_type": "execute_result"
    }
   ],
   "source": [
    "bike1.type_of_bike"
   ]
  },
  {
   "cell_type": "code",
   "execution_count": 15,
   "id": "6ed50318-72ce-43d8-a2b7-3d33e2747f59",
   "metadata": {},
   "outputs": [
    {
     "data": {
      "text/plain": [
       "'Road Bike'"
      ]
     },
     "execution_count": 15,
     "metadata": {},
     "output_type": "execute_result"
    }
   ],
   "source": [
    "bike2.type_of_bike"
   ]
  },
  {
   "cell_type": "markdown",
   "id": "376e07c2-853b-4492-bb3c-4f29944ae089",
   "metadata": {},
   "source": [
    "Q4. Why self is used in OOPs?\n",
    "\n",
    "A4: self provides reference to the current instance of the class. It is used to access attributes and invoke methods that belong to the class."
   ]
  },
  {
   "cell_type": "markdown",
   "id": "a5fcdf21-5232-4985-9cfd-604b696a1bbf",
   "metadata": {},
   "source": [
    "Q5. What is inheritance? Give an example for each type of inheritance.\n",
    "\n",
    "A5: Inheritance is a mechanism that allows to create a hierarchy of classes that share a set of properties and methods by deriving a class from another class. Inheritance is the capability of one class to derive or inherit the properties and methods from another class.\n",
    "    \n",
    "    The new classe being created is known as subclass/child/derived class and the existing class from which the new class is derived is called superclass/parent class or base class.\n",
    "    \n",
    "    Code reusability is one of the main advantage of inheritance.\n",
    "    \n",
    "    There are 5 type of inheritance.\n",
    "    \n",
    "    "
   ]
  },
  {
   "cell_type": "markdown",
   "id": "fb5dfb0e-fa3d-41f3-aaaf-f079b2516bcf",
   "metadata": {},
   "source": [
    "1). Single Inheritance - here a sub class is derived from single super classe"
   ]
  },
  {
   "cell_type": "code",
   "execution_count": 6,
   "id": "ba7b2537-0a6c-4b2e-bac3-b4eb71990ea2",
   "metadata": {},
   "outputs": [],
   "source": [
    "# Base Class\n",
    "class parent:\n",
    "    def fun1(self):\n",
    "        print(\"The function in parent class\") "
   ]
  },
  {
   "cell_type": "code",
   "execution_count": 7,
   "id": "6712da69-5f0d-409c-8fbd-fd9bb550cbce",
   "metadata": {},
   "outputs": [],
   "source": [
    "# Derived Class\n",
    "class child(parent):\n",
    "    def fun2(self):\n",
    "        print(\"The function in child class\") "
   ]
  },
  {
   "cell_type": "code",
   "execution_count": 8,
   "id": "42452742-14e9-484c-a174-7a53897da347",
   "metadata": {},
   "outputs": [],
   "source": [
    "child_obj = child()"
   ]
  },
  {
   "cell_type": "code",
   "execution_count": 9,
   "id": "c96c2d49-4a79-4a08-bf88-fd1f1e54a656",
   "metadata": {},
   "outputs": [
    {
     "name": "stdout",
     "output_type": "stream",
     "text": [
      "The function in parent class\n"
     ]
    }
   ],
   "source": [
    "child_obj.fun1()\n",
    "\n"
   ]
  },
  {
   "cell_type": "code",
   "execution_count": 10,
   "id": "20f2f482-e773-46ac-9870-68311614eca6",
   "metadata": {},
   "outputs": [
    {
     "name": "stdout",
     "output_type": "stream",
     "text": [
      "The function in child class\n"
     ]
    }
   ],
   "source": [
    "child_obj.fun2()"
   ]
  },
  {
   "cell_type": "markdown",
   "id": "805cdd5e-1990-4d24-b8fb-67facdf1caf3",
   "metadata": {},
   "source": [
    "2). Multiple Inheritance - a class can derived from more than one base classes"
   ]
  },
  {
   "cell_type": "code",
   "execution_count": 11,
   "id": "fbdd6463-d5bf-47f1-8d5b-c5ebd2336fe8",
   "metadata": {},
   "outputs": [],
   "source": [
    "# Base class 1\n",
    "\n",
    "class base1():\n",
    "    def fun1(self):\n",
    "        print(\"The function in base class 1\")"
   ]
  },
  {
   "cell_type": "code",
   "execution_count": 12,
   "id": "2baf2831-63e4-4dfa-b13b-8c644cc8cd19",
   "metadata": {},
   "outputs": [],
   "source": [
    "# Base class 2\n",
    "class base2():\n",
    "    def fun2(self):\n",
    "        print(\"The function in base class 2\")"
   ]
  },
  {
   "cell_type": "code",
   "execution_count": 13,
   "id": "5632565b-9635-46ee-8d3d-eb5c3eae7664",
   "metadata": {},
   "outputs": [],
   "source": [
    "# Derive class\n",
    "\n",
    "class derived(base1,base2):\n",
    "    def fun3(self):\n",
    "        print(\"The fuction in derived class\")"
   ]
  },
  {
   "cell_type": "code",
   "execution_count": 14,
   "id": "2a9c7944-dc31-46ac-b786-25457f1c612a",
   "metadata": {},
   "outputs": [],
   "source": [
    "derived_obj = derived()"
   ]
  },
  {
   "cell_type": "code",
   "execution_count": 15,
   "id": "ab7a2465-9cc7-4672-bd63-c3155d7df7f8",
   "metadata": {},
   "outputs": [
    {
     "name": "stdout",
     "output_type": "stream",
     "text": [
      "The function in base class 1\n"
     ]
    }
   ],
   "source": [
    "derived_obj.fun1()"
   ]
  },
  {
   "cell_type": "code",
   "execution_count": 16,
   "id": "a4117691-4fc5-4cd3-8b2b-d84a5629567f",
   "metadata": {},
   "outputs": [
    {
     "name": "stdout",
     "output_type": "stream",
     "text": [
      "The function in base class 2\n"
     ]
    }
   ],
   "source": [
    "derived_obj.fun2()"
   ]
  },
  {
   "cell_type": "code",
   "execution_count": 17,
   "id": "3b177deb-2774-4dd3-9921-07a263ce9e67",
   "metadata": {},
   "outputs": [
    {
     "name": "stdout",
     "output_type": "stream",
     "text": [
      "The fuction in derived class\n"
     ]
    }
   ],
   "source": [
    "derived_obj.fun3()"
   ]
  },
  {
   "cell_type": "markdown",
   "id": "4bc359fd-9e65-475c-95ff-319238a8ca53",
   "metadata": {},
   "source": [
    "3) Multilevel Inheritance - Here the features of base class and derived class are further inherieted by a new derived class."
   ]
  },
  {
   "cell_type": "code",
   "execution_count": 23,
   "id": "723d14e8-437d-4c90-9c84-96e8bcf2a306",
   "metadata": {},
   "outputs": [],
   "source": [
    "# Base class \n",
    "\n",
    "class base():\n",
    "    def fun1(self):\n",
    "        print(\"The function in base class\")"
   ]
  },
  {
   "cell_type": "code",
   "execution_count": 24,
   "id": "c8541ab4-c7b2-40ad-8b50-69af933a3442",
   "metadata": {},
   "outputs": [],
   "source": [
    "# Intermediate derived class\n",
    "\n",
    "class i_derived(base):\n",
    "    def fun2(self):\n",
    "        print(\"The fuction in intermediate derived class\")"
   ]
  },
  {
   "cell_type": "code",
   "execution_count": 25,
   "id": "7474942e-cb00-44ce-bb98-5b76d6facb06",
   "metadata": {},
   "outputs": [],
   "source": [
    "# Final Derive class\n",
    "\n",
    "class derived(i_derived):\n",
    "    def fun3(self):\n",
    "        print(\"The fuction in final derived class\")"
   ]
  },
  {
   "cell_type": "code",
   "execution_count": 27,
   "id": "7e4ccf04-6f25-4386-be69-01bf70075247",
   "metadata": {},
   "outputs": [],
   "source": [
    "d = derived()"
   ]
  },
  {
   "cell_type": "code",
   "execution_count": 28,
   "id": "d27f209b-7b4a-4cd0-822c-4e0f6f226408",
   "metadata": {},
   "outputs": [
    {
     "name": "stdout",
     "output_type": "stream",
     "text": [
      "The function in base class\n"
     ]
    }
   ],
   "source": [
    "d.fun1()"
   ]
  },
  {
   "cell_type": "code",
   "execution_count": 29,
   "id": "b42d5878-39cf-4c94-b969-b9d3193f4f44",
   "metadata": {},
   "outputs": [
    {
     "name": "stdout",
     "output_type": "stream",
     "text": [
      "The fuction in intermediate derived class\n"
     ]
    }
   ],
   "source": [
    "d.fun2()"
   ]
  },
  {
   "cell_type": "code",
   "execution_count": 30,
   "id": "a66c2c9a-1f0d-4615-9ecb-62a51027d53a",
   "metadata": {},
   "outputs": [
    {
     "name": "stdout",
     "output_type": "stream",
     "text": [
      "The fuction in final derived class\n"
     ]
    }
   ],
   "source": [
    "d.fun3()"
   ]
  },
  {
   "cell_type": "markdown",
   "id": "5fdbc619-f1da-48e2-9e91-a73c3ace6eb1",
   "metadata": {},
   "source": [
    "4). Hierarchical Inheritance - Here more than one derived classes are created from a single base class."
   ]
  },
  {
   "cell_type": "code",
   "execution_count": 34,
   "id": "b051beab-2aec-408f-82d8-c446cbc1a4f7",
   "metadata": {},
   "outputs": [],
   "source": [
    "# Base class \n",
    "\n",
    "class base():\n",
    "    def fun1(self):\n",
    "        print(\"The function in base class\")"
   ]
  },
  {
   "cell_type": "code",
   "execution_count": 35,
   "id": "4e02cba4-d2d1-4dc9-bfc7-7a25a0e197f1",
   "metadata": {},
   "outputs": [],
   "source": [
    "# derived class 1\n",
    "\n",
    "class derived1(base):\n",
    "    def fun2(self):\n",
    "        print(\"The fuction in derived class 1\")"
   ]
  },
  {
   "cell_type": "code",
   "execution_count": 36,
   "id": "93c0fa2c-1b11-4223-adc0-ac218ffb528e",
   "metadata": {},
   "outputs": [],
   "source": [
    "# derived class 2\n",
    "\n",
    "class derived2(base):\n",
    "    def fun3(self):\n",
    "        print(\"The fuction in derived class 2\")"
   ]
  },
  {
   "cell_type": "code",
   "execution_count": 37,
   "id": "20b3e691-171a-4584-a0e7-a9eee20713d7",
   "metadata": {},
   "outputs": [],
   "source": [
    "d1 = derived1()"
   ]
  },
  {
   "cell_type": "code",
   "execution_count": 38,
   "id": "4ce43a48-c06f-4bc0-9e8d-393e751e8aaa",
   "metadata": {},
   "outputs": [],
   "source": [
    "d2= derived2()"
   ]
  },
  {
   "cell_type": "code",
   "execution_count": 39,
   "id": "631843f5-7d58-41df-8b11-c65d740539c9",
   "metadata": {},
   "outputs": [
    {
     "name": "stdout",
     "output_type": "stream",
     "text": [
      "The function in base class\n",
      "The fuction in derived class 1\n"
     ]
    }
   ],
   "source": [
    "d1.fun1()\n",
    "d1.fun2()"
   ]
  },
  {
   "cell_type": "code",
   "execution_count": 40,
   "id": "e9cb327b-4514-4055-8460-69c9ac000b54",
   "metadata": {},
   "outputs": [
    {
     "name": "stdout",
     "output_type": "stream",
     "text": [
      "The function in base class\n",
      "The fuction in derived class 2\n"
     ]
    }
   ],
   "source": [
    "d2.fun1()\n",
    "d2.fun3()"
   ]
  },
  {
   "cell_type": "markdown",
   "id": "c43d14a8-ca5c-4f08-b156-e6fdc4f3136b",
   "metadata": {},
   "source": [
    "5). Hybrid Inheritance - Inheritance consisting multiple type of inheritance is called hybrid inheritance."
   ]
  },
  {
   "cell_type": "code",
   "execution_count": 41,
   "id": "e488e9d4-74d6-4882-bdea-1a62128ed1a4",
   "metadata": {},
   "outputs": [],
   "source": [
    "class base():\n",
    "    def fun1(self):\n",
    "        print(\"The function in base class\")"
   ]
  },
  {
   "cell_type": "code",
   "execution_count": 42,
   "id": "9d55a6b2-cb8d-46ce-bef2-b62b68bd2dfb",
   "metadata": {},
   "outputs": [],
   "source": [
    "class derived1(base):\n",
    "    def fun2(self):\n",
    "        print(\"The fuction in derived class 1\")"
   ]
  },
  {
   "cell_type": "code",
   "execution_count": 43,
   "id": "a022a103-8665-4edb-a1a1-568cb175683f",
   "metadata": {},
   "outputs": [],
   "source": [
    "class derived2(base):\n",
    "    def fun3(self):\n",
    "        print(\"The fuction in derived class 2\")"
   ]
  },
  {
   "cell_type": "code",
   "execution_count": 47,
   "id": "b2e7d1ad-dd7b-48db-9f05-287240ebc410",
   "metadata": {},
   "outputs": [],
   "source": [
    "class derived3(derived1,base):\n",
    "    def fun4(self):\n",
    "        print(\"The fuction in derived class 3\")"
   ]
  },
  {
   "cell_type": "code",
   "execution_count": 48,
   "id": "ba248668-fef2-41a6-aa7a-45c2bcd72df2",
   "metadata": {},
   "outputs": [],
   "source": [
    "d = derived3()"
   ]
  },
  {
   "cell_type": "code",
   "execution_count": 49,
   "id": "8d83858d-a1ea-4b84-9f53-533688e7528f",
   "metadata": {},
   "outputs": [
    {
     "name": "stdout",
     "output_type": "stream",
     "text": [
      "The function in base class\n",
      "The fuction in derived class 1\n",
      "The fuction in derived class 3\n"
     ]
    }
   ],
   "source": [
    "d.fun1()\n",
    "d.fun2()\n",
    "d.fun4()"
   ]
  },
  {
   "cell_type": "code",
   "execution_count": null,
   "id": "62b71505-0a6f-483a-9469-ad71389a6b38",
   "metadata": {},
   "outputs": [],
   "source": []
  }
 ],
 "metadata": {
  "kernelspec": {
   "display_name": "Python 3 (ipykernel)",
   "language": "python",
   "name": "python3"
  },
  "language_info": {
   "codemirror_mode": {
    "name": "ipython",
    "version": 3
   },
   "file_extension": ".py",
   "mimetype": "text/x-python",
   "name": "python",
   "nbconvert_exporter": "python",
   "pygments_lexer": "ipython3",
   "version": "3.10.8"
  }
 },
 "nbformat": 4,
 "nbformat_minor": 5
}
