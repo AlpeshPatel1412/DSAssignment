{
 "cells": [
  {
   "cell_type": "markdown",
   "id": "5ae608f3-8596-455f-b875-92e67bb38b45",
   "metadata": {},
   "source": [
    "Q1. Create a Pandas Series that contains the following data: 4, 8, 15, 16, 23, and 42. Then, print the series."
   ]
  },
  {
   "cell_type": "code",
   "execution_count": 1,
   "id": "0f2c667f-ecb2-4f16-a1aa-5d1a28b3ff1f",
   "metadata": {},
   "outputs": [],
   "source": [
    "import pandas as pd"
   ]
  },
  {
   "cell_type": "code",
   "execution_count": 4,
   "id": "80f28912-5386-406f-8651-9350605c5708",
   "metadata": {},
   "outputs": [
    {
     "name": "stdout",
     "output_type": "stream",
     "text": [
      "0     4\n",
      "1     8\n",
      "2    15\n",
      "3    16\n",
      "4    23\n",
      "5    42\n",
      "dtype: int64\n"
     ]
    }
   ],
   "source": [
    "s = pd.Series([4,8,15,16,23,42])\n",
    "print(s)"
   ]
  },
  {
   "cell_type": "markdown",
   "id": "27e86699-5bf0-4bce-87f5-b63e5b683b18",
   "metadata": {},
   "source": [
    "Q2. Create a variable of list type containing 10 elements in it, and apply pandas.Series function on the\n",
    "variable print it."
   ]
  },
  {
   "cell_type": "code",
   "execution_count": 7,
   "id": "26acbc8e-a2ea-4474-8bd2-6c6cf1e27ff7",
   "metadata": {},
   "outputs": [],
   "source": [
    "import random"
   ]
  },
  {
   "cell_type": "code",
   "execution_count": 11,
   "id": "bad62231-5f3d-40d9-8f55-373573967333",
   "metadata": {},
   "outputs": [],
   "source": [
    "l = [ random.randint(1,30)  for i in range(0,10)]"
   ]
  },
  {
   "cell_type": "code",
   "execution_count": 12,
   "id": "1db29c5c-670f-4c9f-9d25-28838e5a5732",
   "metadata": {},
   "outputs": [
    {
     "name": "stdout",
     "output_type": "stream",
     "text": [
      "0     7\n",
      "1    25\n",
      "2    20\n",
      "3    19\n",
      "4    19\n",
      "5    13\n",
      "6     5\n",
      "7    30\n",
      "8    23\n",
      "9    15\n",
      "dtype: int64\n"
     ]
    }
   ],
   "source": [
    "s = pd.Series(l)\n",
    "print(s)"
   ]
  },
  {
   "cell_type": "markdown",
   "id": "15cbbb20-111e-444b-b7be-e4f8ef2a4c69",
   "metadata": {},
   "source": [
    "Q3. Create a Pandas DataFrame that contains the following data:"
   ]
  },
  {
   "cell_type": "code",
   "execution_count": 22,
   "id": "f7540fcb-43ab-46b6-86a6-15c4166f0be9",
   "metadata": {},
   "outputs": [],
   "source": [
    "data = { \n",
    "         \"Name\": ['Alice','Bob','Claire'],\n",
    "         \"Age\": [25,30,27],\n",
    "         \"Gender\": ['Female','Male','Female']\n",
    "       }\n",
    "\n",
    "df = pd.DataFrame(data)"
   ]
  },
  {
   "cell_type": "code",
   "execution_count": 23,
   "id": "619b9d71-6319-4093-8f61-8523e28491f9",
   "metadata": {},
   "outputs": [
    {
     "name": "stdout",
     "output_type": "stream",
     "text": [
      "     Name  Age  Gender\n",
      "0   Alice   25  Female\n",
      "1     Bob   30    Male\n",
      "2  Claire   27  Female\n"
     ]
    }
   ],
   "source": [
    "print(df)"
   ]
  },
  {
   "cell_type": "markdown",
   "id": "e51eed4d-5aae-475f-9317-db61f82af47b",
   "metadata": {},
   "source": [
    "Q4. What is ‘DataFrame’ in pandas and how is it different from pandas.series? Explain with an example."
   ]
  },
  {
   "cell_type": "markdown",
   "id": "8a584d8f-8ece-43ab-b46c-a474eca4fe12",
   "metadata": {},
   "source": [
    "DataFrame is a two-dimentional labeled data structure with columns of potentially heterogeneous data types.\n",
    "The DataFrame has both a row and column index; and it can be thought of as a dictionary of Series all sharing the same index.\n",
    "\n",
    "While a Series is a one-dimensional array-like object containing a sequence of values of the same type and an associated array of data labels, called its index. "
   ]
  },
  {
   "cell_type": "code",
   "execution_count": 25,
   "id": "0efc115f-58bd-470e-aaba-4e9cc519da3a",
   "metadata": {},
   "outputs": [
    {
     "name": "stdout",
     "output_type": "stream",
     "text": [
      "    state  year  pop\n",
      "0    Ohio  2000  1.5\n",
      "1    Ohio  2001  1.7\n",
      "2    Ohio  2002  3.6\n",
      "3  Nevada  2001  2.4\n",
      "4  Nevada  2002  2.9\n",
      "5  Nevada  2003  3.2\n"
     ]
    }
   ],
   "source": [
    "# Example of DataFrame, which represent data as rectangular table or SQL table\n",
    "\n",
    "data = {\"state\": [\"Ohio\", \"Ohio\", \"Ohio\", \"Nevada\", \"Nevada\", \"Nevada\"],\n",
    "        \"year\": [2000, 2001, 2002, 2001, 2002, 2003],\n",
    "        \"pop\": [1.5, 1.7, 3.6, 2.4, 2.9, 3.2]}\n",
    "frame = pd.DataFrame(data)\n",
    "print(frame)"
   ]
  },
  {
   "cell_type": "code",
   "execution_count": 27,
   "id": "8a937a1b-b07d-4a82-af46-4e430d74ab44",
   "metadata": {},
   "outputs": [
    {
     "name": "stdout",
     "output_type": "stream",
     "text": [
      "0              Python\n",
      "1               Stats\n",
      "2               Maths\n",
      "3    Machine Learning\n",
      "4       Deep Learning\n",
      "5                  AI\n",
      "dtype: object\n"
     ]
    }
   ],
   "source": [
    "# Example of Series, which represents data as a 1d array\n",
    "\n",
    "l = ['Python','Stats','Maths','Machine Learning','Deep Learning','AI']\n",
    "s = pd.Series(l)\n",
    "print(s)"
   ]
  },
  {
   "cell_type": "markdown",
   "id": "54e36763-e4c5-4bd8-b74a-10212a3f1cc9",
   "metadata": {},
   "source": [
    "Q5. What are some common functions you can use to manipulate data in a Pandas DataFrame? Can\n",
    "you give an example of when you might use one of these functions?"
   ]
  },
  {
   "cell_type": "markdown",
   "id": "8a0dc1ab-80c8-4481-bf73-5b82dfd9ac4b",
   "metadata": {},
   "source": [
    "drop() - To drop/remove a specific column from DataFram\n",
    "assign() - To add a new column to DataFrame\n",
    "merge() - To meage two DataFrames\n",
    "drop_duplicates() - To remove the duplicate records from DataFram"
   ]
  },
  {
   "cell_type": "code",
   "execution_count": 35,
   "id": "5e836a90-d4c9-478a-bde1-d8842e29a8c8",
   "metadata": {},
   "outputs": [
    {
     "name": "stdout",
     "output_type": "stream",
     "text": [
      "     Name  Age  Gender\n",
      "0   Alice   25  Female\n",
      "1     Bob   30    Male\n",
      "2  Claire   27  Female\n",
      "3     Bob   33    Male\n",
      "4     Tom   12    Male\n",
      "5   Alice   45  Female\n",
      "6     Rob   25    Male\n"
     ]
    }
   ],
   "source": [
    "# Example of drop_duplicates() to remove duplicate Name from the below DF\n",
    "data = { \n",
    "         \"Name\": ['Alice','Bob','Claire','Bob', 'Tom', 'Alice', 'Rob'],\n",
    "         \"Age\": [25,30,27,33,12,45,25],\n",
    "         \"Gender\": ['Female','Male','Female','Male','Male','Female','Male']\n",
    "       }\n",
    "\n",
    "df = pd.DataFrame(data)\n",
    "print(df)"
   ]
  },
  {
   "cell_type": "code",
   "execution_count": 34,
   "id": "e905294e-cc05-4757-8ad9-c2aee0676e88",
   "metadata": {},
   "outputs": [
    {
     "name": "stdout",
     "output_type": "stream",
     "text": [
      "     Name  Age  Gender\n",
      "0   Alice   25  Female\n",
      "1     Bob   30    Male\n",
      "2  Claire   27  Female\n",
      "4     Tom   12    Male\n",
      "6     Rob   25    Male\n"
     ]
    }
   ],
   "source": [
    "uniqueDF = df.drop_duplicates(subset=[\"Name\"])\n",
    "print(uniqueDF)"
   ]
  },
  {
   "cell_type": "markdown",
   "id": "8cc5b65c-fca7-4f7d-b939-2e23a27f418e",
   "metadata": {},
   "source": [
    "Q6. Which of the following is mutable in nature Series, DataFrame, Panel?"
   ]
  },
  {
   "cell_type": "markdown",
   "id": "bfd38220-33fe-4c34-8f00-832f7e69c7fa",
   "metadata": {},
   "source": [
    "Series, DataFrame and Panel are all data/value mutable (value can be changed).\n",
    "While Series is size immutable, and DataFrame and Panel are size mutable."
   ]
  },
  {
   "cell_type": "markdown",
   "id": "464e6d82-e93e-4392-8310-4fbac1621021",
   "metadata": {},
   "source": [
    "Q7. Create a DataFrame using multiple Series. Explain with an example."
   ]
  },
  {
   "cell_type": "markdown",
   "id": "1870dfb6-ce0c-46a4-8bc5-b4d1e7ec6bda",
   "metadata": {},
   "source": [
    "We can create a DataFrame from multiple Series objects by adding each series as a column.  concat() method is used to merge multiple series together into DataFrame. "
   ]
  },
  {
   "cell_type": "code",
   "execution_count": 32,
   "id": "19f2f43b-948b-4904-9316-3038952e8a31",
   "metadata": {},
   "outputs": [
    {
     "name": "stdout",
     "output_type": "stream",
     "text": [
      "     Name  Age  Gender\n",
      "0   Alice   25  Female\n",
      "1     Bob   30    Male\n",
      "2  Claire   27  Female\n"
     ]
    }
   ],
   "source": [
    "Name = pd.Series(['Alice','Bob','Claire'])\n",
    "Age = pd.Series([25,30,27])\n",
    "Gender = pd.Series(['Female','Male','Female'])\n",
    "\n",
    "df = pd.concat({\"Name\":Name, \"Age\":Age, \"Gender\":Gender},axis=1)\n",
    "print(df)"
   ]
  },
  {
   "cell_type": "code",
   "execution_count": null,
   "id": "ec282280-3e39-402e-bf36-a1807bc041f5",
   "metadata": {},
   "outputs": [],
   "source": []
  }
 ],
 "metadata": {
  "kernelspec": {
   "display_name": "Python 3 (ipykernel)",
   "language": "python",
   "name": "python3"
  },
  "language_info": {
   "codemirror_mode": {
    "name": "ipython",
    "version": 3
   },
   "file_extension": ".py",
   "mimetype": "text/x-python",
   "name": "python",
   "nbconvert_exporter": "python",
   "pygments_lexer": "ipython3",
   "version": "3.10.8"
  }
 },
 "nbformat": 4,
 "nbformat_minor": 5
}
