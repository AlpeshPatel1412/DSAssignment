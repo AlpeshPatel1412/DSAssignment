{
 "cells": [
  {
   "cell_type": "markdown",
   "id": "34279143-e031-4840-b5bd-addfd0b04b3b",
   "metadata": {},
   "source": [
    "### Q1. What is Statistics?"
   ]
  },
  {
   "cell_type": "markdown",
   "id": "4375e847-ad77-46d6-9446-6007cc7efb7e",
   "metadata": {},
   "source": [
    "A1. Statistics is a science of collecting, organizing, presenting, analyzing and interpreting data."
   ]
  },
  {
   "cell_type": "markdown",
   "id": "f3088fbb-9fa8-4e46-a7a5-829fc009b8bc",
   "metadata": {},
   "source": [
    "### Q2. Define the different types of statistics and give an example of when each type might be used."
   ]
  },
  {
   "cell_type": "markdown",
   "id": "1cc24a17-239e-4f7c-9e7d-605c9bb4439c",
   "metadata": {},
   "source": [
    "A2. There are two types of statistics.\n",
    "\n",
    "a). Descriptive Statistics - Descriptive statistics is a way to organise, represent and summarize a collection of data using \n",
    "tables, graphs, and summary measures. Descriptive statistics describe a sample of the population.\n",
    "\n",
    "Descriptive statistics help us understand the collective properties of the elements of a data sample and form the basis for \n",
    "testing hypotheses and making predictions using inferential statistics. It allows us to gain more insights and visualize the data \n",
    "than simply going through row upon row of raw numbers!\n",
    "\n",
    "Descriptive statistics frequently use the following statistical measures to describe groups:\n",
    "\n",
    "Measure of frequency - The frequency measurement displays the number of times a particular data occurs.\n",
    "\n",
    "Measure of dispersion - Range, Variance, Standard Deviation are measures of dispersion.\n",
    "\n",
    "Measure of central tendency - Central tendencies are the mean, median and mode of the data. \n",
    "\n",
    "Measure of position - Measure of position describes the percentile and quartile ranks\n",
    "\n",
    "b). Inferential Statistics - Inferential Statistics is a method that allows us to use information collected from a sample to draw conclusion, make predictions or inferences from a population.\n",
    "\n",
    "This type of statistics is used to interpret the meaning of Descriptive statistics. After the Data has been collected, analyzed, and summarised we use Inferential Statistics to describe the Meaning of the collected Data. \n",
    "\n",
    "The goal of inferential statistics is to draw conclusions from a sample and generalize them to a population.\n",
    "\n",
    "Inferential Statistics use the probability principle to assess whether trends contained in the research sample can be generalized to the larger population from which the sample originally comes.\n",
    "\n",
    "Inferential Statistics are intended to test hypotheses and investigate relationships between variables and can be used to make population predictions.\n",
    "\n",
    "Inferential Statistics are used to draw conclusions and inferences, i.e., to make valid generalizations from samples.\n"
   ]
  },
  {
   "cell_type": "markdown",
   "id": "07c1b5ae-dcd5-415b-8d14-f1e31bf78ef5",
   "metadata": {},
   "source": [
    "Example: suppose we want to describe sales volume of a product over period of last 10 years. We can use descriptive stat to \n",
    "calculate summary statistic and produce graphs.\n",
    "\n",
    "We can use inferential statistic to generalize and make prediction of future sales volume of the product."
   ]
  },
  {
   "cell_type": "markdown",
   "id": "c6841455-eed9-4722-9c40-7f541911825b",
   "metadata": {},
   "source": [
    "### Q3. What are the different types of data and how do they differ from each other? Provide an example of each type of data."
   ]
  },
  {
   "cell_type": "markdown",
   "id": "d9316099-5e66-4345-9446-2cf39c075281",
   "metadata": {},
   "source": [
    "A3. There are two major types of data:\n",
    "\n",
    "a). Quantitavie data - They are numerical and one can count it. This data type tries to quantify things and it does by \n",
    "considering numerical values that make it countable in nature.  Student's mark , percentage etc are example of quantitatve data.\n",
    "\n",
    "Quantitative data are further divided into - Discrete and Continuous\n",
    "\n",
    "Discrete data involves whole numbers (integers - like 1, 356, or 9) that can't be divided based on the nature of what they are. Eg. Number \n",
    "of courses student has taken in a sememster, number of students in a class etc\n",
    "\n",
    "Continuous data, on the other hand, can be divided up as much as you want, and measured to many decimal places. Eg. student's GPA , \n",
    "percentage of marks are continuous data   "
   ]
  },
  {
   "cell_type": "markdown",
   "id": "1ba39eda-8cdd-4569-ada1-9c636dcfdad6",
   "metadata": {},
   "source": [
    "b). Qualitative data - They are not countable and non-numerical. Qualitative or Categorical Data describes the object under \n",
    "consideration using a finite set of discrete classes. It means that this type of data can’t be counted or measured \n",
    "easily using numbers and therefore divided into categories. Eg. gender of student (male, female, or others) "
   ]
  },
  {
   "cell_type": "markdown",
   "id": "cede2fa8-7b24-4282-8fab-6a012a56081a",
   "metadata": {},
   "source": [
    "There are two subcategories of qualitative data.\n",
    "\n",
    "Nominal data are used to label variables without any quantitative value. These are the set of values that don’t possess a natural ordering.\n",
    "Nominal data types in statistics are not quantifiable and cannot be measured through numerical units. Nominal types of statistical \n",
    "data are valuable while conducting qualitative research as it extends freedom of opinion to subjects. Nationality of students, \n",
    "gender of students in a class are example of Nominal data."
   ]
  },
  {
   "cell_type": "markdown",
   "id": "79a93aa9-f01a-4592-9960-b15c686de4b0",
   "metadata": {},
   "source": [
    "Ordinal data types of values have a natural ordering while maintaining their class of values. It's the order of the variables which\n",
    "matters. Not so much the differences between those values. Grade of students (A+,A,B+,B etc) , student's opinion on course (Excellent, Good, Satisfactory, Bad etc)  are example of ordinal data"
   ]
  },
  {
   "cell_type": "markdown",
   "id": "e7b7814c-c6b9-4e55-9767-b7c484908f2e",
   "metadata": {},
   "source": [
    "### Q4. Categorise the following datasets with respect to quantitative and qualitative data types:\n",
    "\n",
    "(i) Grading in exam: A+, A, B+, B, C+, C, D, E\n",
    "\n",
    "(ii) Colour of mangoes: yellow, green, orange, red\n",
    "\n",
    "(iii) Height data of a class: [178.9, 179, 179.5, 176, 177.2, 178.3, 175.8,...]\n",
    "\n",
    "(iv) Number of mangoes exported by a farm: [500, 600, 478, 672, ...]"
   ]
  },
  {
   "cell_type": "markdown",
   "id": "e41b6f44-e019-4eea-9e04-31710acc4e15",
   "metadata": {},
   "source": [
    "A4. i). Qualitative - Ordinal\n",
    "\n",
    "   ii). Qualitative - Nominal\n",
    "   \n",
    "  iii). Quantitative - Continuous\n",
    "  \n",
    "   iv). Quantitative - Discrete"
   ]
  },
  {
   "cell_type": "markdown",
   "id": "ca972edc-2372-4bf8-96dd-3aa795a0176c",
   "metadata": {},
   "source": [
    "### Q5. Explain the concept of levels of measurement and give an example of a variable for each level."
   ]
  },
  {
   "cell_type": "markdown",
   "id": "07c94449-9dc9-4496-93d2-873703c70271",
   "metadata": {},
   "source": [
    "A5. Level of measurement refers to how each variable is measured, and the mathematical nature of the values assigned to each variable.\n",
    "This, in turn, determines what type of analysis can be carried out.\n",
    "\n",
    "Level of measurement refers to how precisely a variable has been measured.\n",
    "\n",
    "Nominal, ordinal, interval, and ratio scales are the four primary levels of measurement. \n",
    "These levels are listed in increasing order of the detailed information they provide. Each scale is an incremental level of measurement, meaning each scale fulfills the function of the previous scale.\n",
    "\n",
    "Nominal scale is a naming scale, where variables are simply “named” or labeled, with no specific order. Ordinal scale has all its variables in a specific order, beyond just naming them. Interval scale offers labels, order, as well as, a specific interval between each of its variable options.\n",
    "\n",
    "Ratio scale bears all the characteristics of an interval scale, in addition to that, it can also accommodate the value of “zero” on any of its variables."
   ]
  },
  {
   "cell_type": "markdown",
   "id": "b1ebf80f-4125-4e8d-a534-0ddaad7d38df",
   "metadata": {},
   "source": [
    "Nominal Scale: Nominal Scale, also called the categorical variable scale, is defined as a scale that labels variables into distinct classifications and doesn’t involve a quantitative value or order.\n",
    "\n",
    "The nominal scale simply categorizes variables according to qualitative labels (or names). These labels and groupings don’t have any order or hierarchy to them, nor do they convey any numerical value.\n",
    "\n",
    "Gender, color of eyes, political preference etc are example of variable that can be categorized into nominal scale."
   ]
  },
  {
   "cell_type": "markdown",
   "id": "4659d374-71c4-406a-bf80-7f4da2417590",
   "metadata": {},
   "source": [
    "Ordinal Scale: It is defined as a variable measurement scale used to simply depict the order of variables and not the difference between each of the variables. These scales are generally used to depict non-mathematical ideas.\n",
    "\n",
    "The ordinal scale also categorizes variables into labeled groups, and these categories have an order or hierarchy to them. Thus ordinal level of measurement indicates an ordering of the measurements.\n",
    "\n",
    "Ordinal Scale maintains descriptional qualities along with an intrinsic order but is void of an origin of scale and thus, the distance between variables can’t be calculated. \n",
    "\n",
    "Income level (low, medium, high), level of education (Bachelor, Master,Doctorate) , product quality (low, average, high,exceptional) are example of Ordinal scale variables"
   ]
  },
  {
   "cell_type": "markdown",
   "id": "491eb3b3-1691-43ae-92bf-7c532d500861",
   "metadata": {},
   "source": [
    "Interval Scale: The interval level is a numerical level of measurement which, like the ordinal scale, places variables in order. Unlike the ordinal scale, however, the interval scale has a known and equal distance between each value on the scale.\n",
    "\n",
    "Interval scale contains all the properties of the ordinal scale, in addition to which, it offers a calculation of the difference between variables. The main characteristic of this scale is the equidistant difference between objects.  \n",
    "\n",
    "Interval data has no true zero; in other words, a value of zero on an interval scale does not indicate absence of the variable or the lack of the characteristic.\n",
    "\n",
    "You can add and subtract values on an interval scale, but you cannot multiply or divide them.\n",
    "\n",
    "With interval scales, you can calculate the mean and standard deviation for the central tendency and variability measures, respectively. \n",
    "\n",
    "Temperature in degrees Fahrenheit or Celsius , income range (70K-79K,80K-89K, 90K-99K ) are example of interval scale. "
   ]
  },
  {
   "cell_type": "markdown",
   "id": "a51c8e7f-f40a-4402-9f94-aa5c661d974b",
   "metadata": {},
   "source": [
    "Ratio Scale: Ratio scale is a quantitative level of measurement with equal intervals between each point. What sets the ratio scale apart is that it has a true zero. That is, a value of zero on a ratio scale means that the variable you’re measuring is absent. Having a true zero allows you to calculate ratios of your values. \n",
    "\n",
    "Because of the existence of true zero value, the ratio scale doesn’t have negative values. \n",
    "\n",
    "Ratio scales are the top level of measurement. Like interval scales, they let you order observations and know the difference between any two values. Additionally, they allow you to assess ratios.\n",
    "\n",
    "You can add, subtract, multiply, and divide values on a ratio scale.\n",
    "\n",
    "Weight in kg, height in inches, speed in km/h are example of Ratio scale"
   ]
  },
  {
   "cell_type": "markdown",
   "id": "75ac2aab-bc2e-4834-a629-e5bf4dd5011c",
   "metadata": {},
   "source": [
    "### Q6. Why is it important to understand the level of measurement when analyzing data? Provide an example to illustrate your answer."
   ]
  },
  {
   "cell_type": "markdown",
   "id": "626f286c-6d7d-4348-9231-00f94f04d061",
   "metadata": {},
   "source": [
    "A6. Levels of measurement is crucial in research, as it affects the type of statistical analysis that can be performed and the conclusions that can be drawn from the data. By understanding the differences between levels of measurement, researchers can make more informed decisions about the appropriate statistical tests to use and how to interpret their results. Certain statistical tests can only be performed where more precise levels of measurement have been used."
   ]
  },
  {
   "cell_type": "markdown",
   "id": "26b01bd0-f531-4446-bb43-65d7c9d2dc11",
   "metadata": {},
   "source": [
    "For eg. product quality (low, average, high,exceptional) which is actually ordinal scale measure is classifed as interval scale variable \n",
    "(by assigning numeric value to each data - low (=1), average (=2), high (=3), exceptional (=4) ) and descriptive stat measures (mean,median,standard deviation etc) are calucated on it. These measures do not represent the dataset correctly and may mislead the analyst. "
   ]
  },
  {
   "cell_type": "markdown",
   "id": "87c1a6a0-3656-4975-b076-660839ef236b",
   "metadata": {},
   "source": [
    "### Q7. How nominal data type is different from ordinal data type."
   ]
  },
  {
   "cell_type": "markdown",
   "id": "bba44225-3429-4f09-a184-853a4fc0f721",
   "metadata": {},
   "source": [
    "A7. a). Nominal data is classified without a natural order or rank, whereas ordinal data has a predetermined or natural order.\n",
    "\n",
    "    b). Ordinal data is mainly used to carry out investigations that involve getting people’s views or opinion on some matter, while nominal data is used for research that involve getting personal data of a person, place or thing. "
   ]
  },
  {
   "cell_type": "markdown",
   "id": "53a5004b-ad0b-463e-925a-7c9ef17e44d6",
   "metadata": {},
   "source": [
    "### Q8. Which type of plot can be used to display data in terms of range?"
   ]
  },
  {
   "cell_type": "markdown",
   "id": "f001ba79-2053-422a-b908-f54b9819e8c9",
   "metadata": {},
   "source": [
    "A8. Histogram"
   ]
  },
  {
   "cell_type": "markdown",
   "id": "cd34e5e7-52e9-45ba-bed3-b054ec0e4250",
   "metadata": {},
   "source": [
    "### Q9. Describe the difference between descriptive and inferential statistics. Give an example of each type of statistics and explain how they are used."
   ]
  },
  {
   "cell_type": "markdown",
   "id": "c94f86c2-5770-4bfc-85b1-e8d09d08470b",
   "metadata": {},
   "source": [
    "A9. Descriptive statistics:\n",
    "\n",
    "   - Describe the features of populations and/or samples.\n",
    "   - Organize and present data in a purely factual way.\n",
    "   - Present final results visually, using tables, charts, or graphs.\n",
    "   - Draw conclusions based on known data.\n",
    "   - Use measures like central tendency, distribution, and variance.\n",
    "\n",
    "Inferential statistics:\n",
    "\n",
    "   - Use samples to make generalizations about larger populations.\n",
    "   - Help us to make estimates and predict future outcomes.\n",
    "   - Present final results in the form of probabilities.\n",
    "   - Draw conclusions that go beyond the available data.\n",
    "   - Use techniques like hypothesis testing, confidence intervals, and regression and correlation analysis."
   ]
  },
  {
   "cell_type": "markdown",
   "id": "a2745888-be94-42c2-b062-1176857870ad",
   "metadata": {},
   "source": [
    "Example: suppose we want to describe sales volume of a product over period of last 10 years. We can use descriptive stat to calculate summary statistic and produce graphs. Central tendency measures (mean.median,mode) and variability (standard deviation, range, skewness) are calcudated to describe /represent the sample data.\n",
    "\n",
    "We can use inferential statistic to generalize and make prediction of future sales volume of the product. Inferential techniques like hypothesis testing, regression and corelation analysis are applied for analyzing and obtaining insights from the data.\n"
   ]
  },
  {
   "cell_type": "code",
   "execution_count": null,
   "id": "7cbda30d-4d60-45c1-a32a-2b99f01947c2",
   "metadata": {},
   "outputs": [],
   "source": []
  },
  {
   "cell_type": "markdown",
   "id": "0aa60ef6-fa7d-49bc-a9e8-dfd1f4a2e5df",
   "metadata": {},
   "source": [
    "### Q10. What are some common measures of central tendency and variability used in statistics? Explain how each measure can be used to describe a dataset."
   ]
  },
  {
   "cell_type": "markdown",
   "id": "d3f1af8c-b426-4dc1-b588-d1e8838fc68a",
   "metadata": {},
   "source": [
    "A10. Common measure of central tendency:\n",
    "     \n",
    "    mean: The average value of all the data points.\n",
    "    median: The central or middle value in the dataset.\n",
    "    mode: The value that appears most often in the dataset. "
   ]
  },
  {
   "cell_type": "markdown",
   "id": "a2b45be5-7f8d-441e-8813-e5cd91badd3c",
   "metadata": {},
   "source": [
    "Measures of Variability:\n",
    "\n",
    "Standard deviation: This shows us the amount of variation or dispersion. Low standard deviation implies that most values are close to the mean. High standard deviation suggests that the values are more broadly spread out.\n",
    "\n",
    "Minimum and maximum values: These are the highest and lowest values in a dataset or quartile. \n",
    "\n",
    "Range: This measures the size of the distribution of values. This can be easily determined by subtracting the smallest value from the largest. \n",
    "\n",
    "Kurtosis: This measures whether or not the tails of a given distribution contain extreme values (also known as outliers). If a tail lacks outliers, we can say that it has low kurtosis. If a dataset has a lot of outliers, we can say it has high kurtosis.\n",
    " \n",
    "Skewness: This is a measure of a dataset’s symmetry. If you were to plot a bell-curve and the right-hand tail was longer and fatter, we would call this positive skewness. If the left-hand tail is longer and fatter, we call this negative skewness. "
   ]
  },
  {
   "cell_type": "code",
   "execution_count": null,
   "id": "2c4ddf48-17ba-45ea-b4a2-0e01c3265d60",
   "metadata": {},
   "outputs": [],
   "source": []
  }
 ],
 "metadata": {
  "kernelspec": {
   "display_name": "Python 3 (ipykernel)",
   "language": "python",
   "name": "python3"
  },
  "language_info": {
   "codemirror_mode": {
    "name": "ipython",
    "version": 3
   },
   "file_extension": ".py",
   "mimetype": "text/x-python",
   "name": "python",
   "nbconvert_exporter": "python",
   "pygments_lexer": "ipython3",
   "version": "3.10.8"
  }
 },
 "nbformat": 4,
 "nbformat_minor": 5
}
